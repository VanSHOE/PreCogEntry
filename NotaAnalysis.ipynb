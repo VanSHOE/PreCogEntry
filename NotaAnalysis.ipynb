{
 "cells": [
  {
   "cell_type": "code",
   "execution_count": 44,
   "metadata": {},
   "outputs": [],
   "source": [
    "import csv\n",
    "import pandas as pd\n",
    "import numpy as np\n",
    "import plotly.express as px\n",
    "import plotly.io as pio\n",
    "import plotly.graph_objects as go\n",
    "import os\n",
    "\n",
    "# set default\n",
    "pio.templates.default = \"plotly_dark\""
   ]
  },
  {
   "cell_type": "code",
   "execution_count": 45,
   "metadata": {},
   "outputs": [
    {
     "name": "stderr",
     "output_type": "stream",
     "text": [
      "C:\\Users\\Rahul\\AppData\\Local\\Temp\\ipykernel_37808\\2377711653.py:2: DtypeWarning:\n",
      "\n",
      "Columns (17,36,37,38,39,40,41,42,43) have mixed types. Specify dtype option on import or set low_memory=False.\n",
      "\n"
     ]
    }
   ],
   "source": [
    "# read data\n",
    "df = pd.read_csv('All_States_GE.csv')\n",
    "df\n",
    "\n",
    "ed_map = {\n",
    "    \"Others\": 0,\n",
    "    \"Illiterate\": 1,\n",
    "    \"Literate\": 2,\n",
    "    \"5th Pass\": 3,\n",
    "    \"8th Pass\": 4,\n",
    "    \"10th Pass\": 5,\n",
    "    \"12th Pass\": 6,\n",
    "    \"Graduate\": 7,\n",
    "    \"Graduate Professional\": 8,\n",
    "    \"Post Graduate\": 9,\n",
    "    \"Doctorate\": 10\n",
    "}"
   ]
  },
  {
   "cell_type": "code",
   "execution_count": 46,
   "metadata": {},
   "outputs": [
    {
     "data": {
      "text/html": [
       "<div>\n",
       "<style scoped>\n",
       "    .dataframe tbody tr th:only-of-type {\n",
       "        vertical-align: middle;\n",
       "    }\n",
       "\n",
       "    .dataframe tbody tr th {\n",
       "        vertical-align: top;\n",
       "    }\n",
       "\n",
       "    .dataframe thead th {\n",
       "        text-align: right;\n",
       "    }\n",
       "</style>\n",
       "<table border=\"1\" class=\"dataframe\">\n",
       "  <thead>\n",
       "    <tr style=\"text-align: right;\">\n",
       "      <th></th>\n",
       "      <th>State_Name</th>\n",
       "      <th>Assembly_No</th>\n",
       "      <th>Constituency_No</th>\n",
       "      <th>Year</th>\n",
       "      <th>month</th>\n",
       "      <th>Poll_No</th>\n",
       "      <th>DelimID</th>\n",
       "      <th>Position</th>\n",
       "      <th>Candidate</th>\n",
       "      <th>Sex</th>\n",
       "      <th>...</th>\n",
       "      <th>No_Terms</th>\n",
       "      <th>Turncoat</th>\n",
       "      <th>Incumbent</th>\n",
       "      <th>Recontest</th>\n",
       "      <th>MyNeta_education</th>\n",
       "      <th>TCPD_Prof_Main</th>\n",
       "      <th>TCPD_Prof_Main_Desc</th>\n",
       "      <th>TCPD_Prof_Second</th>\n",
       "      <th>TCPD_Prof_Second_Desc</th>\n",
       "      <th>Election_Type</th>\n",
       "    </tr>\n",
       "  </thead>\n",
       "  <tbody>\n",
       "    <tr>\n",
       "      <th>0</th>\n",
       "      <td>Andaman_&amp;_Nicobar_Islands</td>\n",
       "      <td>17</td>\n",
       "      <td>1</td>\n",
       "      <td>2019</td>\n",
       "      <td>4.0</td>\n",
       "      <td>0</td>\n",
       "      <td>4</td>\n",
       "      <td>1</td>\n",
       "      <td>KULDEEP RAI SHARMA</td>\n",
       "      <td>M</td>\n",
       "      <td>...</td>\n",
       "      <td>1.0</td>\n",
       "      <td>False</td>\n",
       "      <td>False</td>\n",
       "      <td>True</td>\n",
       "      <td>Graduate Professional</td>\n",
       "      <td>Business</td>\n",
       "      <td>NaN</td>\n",
       "      <td>Social Work</td>\n",
       "      <td>NaN</td>\n",
       "      <td>Lok Sabha Election (GE)</td>\n",
       "    </tr>\n",
       "    <tr>\n",
       "      <th>1</th>\n",
       "      <td>Andaman_&amp;_Nicobar_Islands</td>\n",
       "      <td>17</td>\n",
       "      <td>1</td>\n",
       "      <td>2019</td>\n",
       "      <td>4.0</td>\n",
       "      <td>0</td>\n",
       "      <td>4</td>\n",
       "      <td>2</td>\n",
       "      <td>VISHAL JOLLY</td>\n",
       "      <td>M</td>\n",
       "      <td>...</td>\n",
       "      <td>0.0</td>\n",
       "      <td>False</td>\n",
       "      <td>False</td>\n",
       "      <td>False</td>\n",
       "      <td>Graduate Professional</td>\n",
       "      <td>Liberal Profession or Professional</td>\n",
       "      <td>Lawyer</td>\n",
       "      <td>NaN</td>\n",
       "      <td>NaN</td>\n",
       "      <td>Lok Sabha Election (GE)</td>\n",
       "    </tr>\n",
       "    <tr>\n",
       "      <th>2</th>\n",
       "      <td>Andaman_&amp;_Nicobar_Islands</td>\n",
       "      <td>17</td>\n",
       "      <td>1</td>\n",
       "      <td>2019</td>\n",
       "      <td>4.0</td>\n",
       "      <td>0</td>\n",
       "      <td>4</td>\n",
       "      <td>3</td>\n",
       "      <td>PARITOSH KUMAR HALDAR</td>\n",
       "      <td>M</td>\n",
       "      <td>...</td>\n",
       "      <td>0.0</td>\n",
       "      <td>False</td>\n",
       "      <td>False</td>\n",
       "      <td>False</td>\n",
       "      <td>Post Graduate</td>\n",
       "      <td>Agriculture</td>\n",
       "      <td>NaN</td>\n",
       "      <td>NaN</td>\n",
       "      <td>NaN</td>\n",
       "      <td>Lok Sabha Election (GE)</td>\n",
       "    </tr>\n",
       "    <tr>\n",
       "      <th>3</th>\n",
       "      <td>Andaman_&amp;_Nicobar_Islands</td>\n",
       "      <td>17</td>\n",
       "      <td>1</td>\n",
       "      <td>2019</td>\n",
       "      <td>4.0</td>\n",
       "      <td>0</td>\n",
       "      <td>4</td>\n",
       "      <td>4</td>\n",
       "      <td>SANJAY MESHACK</td>\n",
       "      <td>M</td>\n",
       "      <td>...</td>\n",
       "      <td>0.0</td>\n",
       "      <td>False</td>\n",
       "      <td>False</td>\n",
       "      <td>True</td>\n",
       "      <td>12th Pass</td>\n",
       "      <td>Business</td>\n",
       "      <td>NaN</td>\n",
       "      <td>Politics</td>\n",
       "      <td>Municipality Member</td>\n",
       "      <td>Lok Sabha Election (GE)</td>\n",
       "    </tr>\n",
       "    <tr>\n",
       "      <th>4</th>\n",
       "      <td>Andaman_&amp;_Nicobar_Islands</td>\n",
       "      <td>17</td>\n",
       "      <td>1</td>\n",
       "      <td>2019</td>\n",
       "      <td>4.0</td>\n",
       "      <td>0</td>\n",
       "      <td>4</td>\n",
       "      <td>5</td>\n",
       "      <td>PRAKASH MINJ</td>\n",
       "      <td>M</td>\n",
       "      <td>...</td>\n",
       "      <td>0.0</td>\n",
       "      <td>False</td>\n",
       "      <td>False</td>\n",
       "      <td>False</td>\n",
       "      <td>Post Graduate</td>\n",
       "      <td>Social Work</td>\n",
       "      <td>NaN</td>\n",
       "      <td>NaN</td>\n",
       "      <td>NaN</td>\n",
       "      <td>Lok Sabha Election (GE)</td>\n",
       "    </tr>\n",
       "    <tr>\n",
       "      <th>...</th>\n",
       "      <td>...</td>\n",
       "      <td>...</td>\n",
       "      <td>...</td>\n",
       "      <td>...</td>\n",
       "      <td>...</td>\n",
       "      <td>...</td>\n",
       "      <td>...</td>\n",
       "      <td>...</td>\n",
       "      <td>...</td>\n",
       "      <td>...</td>\n",
       "      <td>...</td>\n",
       "      <td>...</td>\n",
       "      <td>...</td>\n",
       "      <td>...</td>\n",
       "      <td>...</td>\n",
       "      <td>...</td>\n",
       "      <td>...</td>\n",
       "      <td>...</td>\n",
       "      <td>...</td>\n",
       "      <td>...</td>\n",
       "      <td>...</td>\n",
       "    </tr>\n",
       "    <tr>\n",
       "      <th>91664</th>\n",
       "      <td>Mysore</td>\n",
       "      <td>3</td>\n",
       "      <td>23</td>\n",
       "      <td>1965</td>\n",
       "      <td>NaN</td>\n",
       "      <td>1</td>\n",
       "      <td>1</td>\n",
       "      <td>3</td>\n",
       "      <td>S.P.N.S.GAWDA</td>\n",
       "      <td>NaN</td>\n",
       "      <td>...</td>\n",
       "      <td>0.0</td>\n",
       "      <td>False</td>\n",
       "      <td>False</td>\n",
       "      <td>False</td>\n",
       "      <td>NaN</td>\n",
       "      <td>NaN</td>\n",
       "      <td>NaN</td>\n",
       "      <td>NaN</td>\n",
       "      <td>NaN</td>\n",
       "      <td>Lok Sabha Election (GE)</td>\n",
       "    </tr>\n",
       "    <tr>\n",
       "      <th>91665</th>\n",
       "      <td>Uttar_Pradesh</td>\n",
       "      <td>3</td>\n",
       "      <td>76</td>\n",
       "      <td>1965</td>\n",
       "      <td>NaN</td>\n",
       "      <td>1</td>\n",
       "      <td>1</td>\n",
       "      <td>1</td>\n",
       "      <td>N.DEO</td>\n",
       "      <td>M</td>\n",
       "      <td>...</td>\n",
       "      <td>1.0</td>\n",
       "      <td>False</td>\n",
       "      <td>False</td>\n",
       "      <td>False</td>\n",
       "      <td>NaN</td>\n",
       "      <td>NaN</td>\n",
       "      <td>NaN</td>\n",
       "      <td>NaN</td>\n",
       "      <td>NaN</td>\n",
       "      <td>Lok Sabha Election (GE)</td>\n",
       "    </tr>\n",
       "    <tr>\n",
       "      <th>91666</th>\n",
       "      <td>Uttar_Pradesh</td>\n",
       "      <td>3</td>\n",
       "      <td>76</td>\n",
       "      <td>1965</td>\n",
       "      <td>NaN</td>\n",
       "      <td>1</td>\n",
       "      <td>1</td>\n",
       "      <td>2</td>\n",
       "      <td>R.S.NIM</td>\n",
       "      <td>NaN</td>\n",
       "      <td>...</td>\n",
       "      <td>0.0</td>\n",
       "      <td>False</td>\n",
       "      <td>False</td>\n",
       "      <td>False</td>\n",
       "      <td>NaN</td>\n",
       "      <td>NaN</td>\n",
       "      <td>NaN</td>\n",
       "      <td>NaN</td>\n",
       "      <td>NaN</td>\n",
       "      <td>Lok Sabha Election (GE)</td>\n",
       "    </tr>\n",
       "    <tr>\n",
       "      <th>91667</th>\n",
       "      <td>Uttar_Pradesh</td>\n",
       "      <td>3</td>\n",
       "      <td>76</td>\n",
       "      <td>1965</td>\n",
       "      <td>NaN</td>\n",
       "      <td>1</td>\n",
       "      <td>1</td>\n",
       "      <td>3</td>\n",
       "      <td>R.SINGH</td>\n",
       "      <td>NaN</td>\n",
       "      <td>...</td>\n",
       "      <td>0.0</td>\n",
       "      <td>False</td>\n",
       "      <td>False</td>\n",
       "      <td>False</td>\n",
       "      <td>NaN</td>\n",
       "      <td>NaN</td>\n",
       "      <td>NaN</td>\n",
       "      <td>NaN</td>\n",
       "      <td>NaN</td>\n",
       "      <td>Lok Sabha Election (GE)</td>\n",
       "    </tr>\n",
       "    <tr>\n",
       "      <th>91668</th>\n",
       "      <td>Uttar_Pradesh</td>\n",
       "      <td>3</td>\n",
       "      <td>76</td>\n",
       "      <td>1965</td>\n",
       "      <td>NaN</td>\n",
       "      <td>1</td>\n",
       "      <td>1</td>\n",
       "      <td>4</td>\n",
       "      <td>G.DEVI</td>\n",
       "      <td>NaN</td>\n",
       "      <td>...</td>\n",
       "      <td>0.0</td>\n",
       "      <td>False</td>\n",
       "      <td>False</td>\n",
       "      <td>False</td>\n",
       "      <td>NaN</td>\n",
       "      <td>NaN</td>\n",
       "      <td>NaN</td>\n",
       "      <td>NaN</td>\n",
       "      <td>NaN</td>\n",
       "      <td>Lok Sabha Election (GE)</td>\n",
       "    </tr>\n",
       "  </tbody>\n",
       "</table>\n",
       "<p>91665 rows × 45 columns</p>\n",
       "</div>"
      ],
      "text/plain": [
       "                      State_Name  Assembly_No  Constituency_No  Year  month  \\\n",
       "0      Andaman_&_Nicobar_Islands           17                1  2019    4.0   \n",
       "1      Andaman_&_Nicobar_Islands           17                1  2019    4.0   \n",
       "2      Andaman_&_Nicobar_Islands           17                1  2019    4.0   \n",
       "3      Andaman_&_Nicobar_Islands           17                1  2019    4.0   \n",
       "4      Andaman_&_Nicobar_Islands           17                1  2019    4.0   \n",
       "...                          ...          ...              ...   ...    ...   \n",
       "91664                     Mysore            3               23  1965    NaN   \n",
       "91665              Uttar_Pradesh            3               76  1965    NaN   \n",
       "91666              Uttar_Pradesh            3               76  1965    NaN   \n",
       "91667              Uttar_Pradesh            3               76  1965    NaN   \n",
       "91668              Uttar_Pradesh            3               76  1965    NaN   \n",
       "\n",
       "       Poll_No  DelimID  Position              Candidate  Sex  ... No_Terms  \\\n",
       "0            0        4         1     KULDEEP RAI SHARMA    M  ...      1.0   \n",
       "1            0        4         2           VISHAL JOLLY    M  ...      0.0   \n",
       "2            0        4         3  PARITOSH KUMAR HALDAR    M  ...      0.0   \n",
       "3            0        4         4         SANJAY MESHACK    M  ...      0.0   \n",
       "4            0        4         5           PRAKASH MINJ    M  ...      0.0   \n",
       "...        ...      ...       ...                    ...  ...  ...      ...   \n",
       "91664        1        1         3          S.P.N.S.GAWDA  NaN  ...      0.0   \n",
       "91665        1        1         1                  N.DEO    M  ...      1.0   \n",
       "91666        1        1         2                R.S.NIM  NaN  ...      0.0   \n",
       "91667        1        1         3                R.SINGH  NaN  ...      0.0   \n",
       "91668        1        1         4                 G.DEVI  NaN  ...      0.0   \n",
       "\n",
       "       Turncoat Incumbent  Recontest       MyNeta_education  \\\n",
       "0         False     False       True  Graduate Professional   \n",
       "1         False     False      False  Graduate Professional   \n",
       "2         False     False      False          Post Graduate   \n",
       "3         False     False       True              12th Pass   \n",
       "4         False     False      False          Post Graduate   \n",
       "...         ...       ...        ...                    ...   \n",
       "91664     False     False      False                    NaN   \n",
       "91665     False     False      False                    NaN   \n",
       "91666     False     False      False                    NaN   \n",
       "91667     False     False      False                    NaN   \n",
       "91668     False     False      False                    NaN   \n",
       "\n",
       "                           TCPD_Prof_Main TCPD_Prof_Main_Desc  \\\n",
       "0                                Business                 NaN   \n",
       "1      Liberal Profession or Professional              Lawyer   \n",
       "2                             Agriculture                 NaN   \n",
       "3                                Business                 NaN   \n",
       "4                             Social Work                 NaN   \n",
       "...                                   ...                 ...   \n",
       "91664                                 NaN                 NaN   \n",
       "91665                                 NaN                 NaN   \n",
       "91666                                 NaN                 NaN   \n",
       "91667                                 NaN                 NaN   \n",
       "91668                                 NaN                 NaN   \n",
       "\n",
       "      TCPD_Prof_Second  TCPD_Prof_Second_Desc            Election_Type  \n",
       "0          Social Work                    NaN  Lok Sabha Election (GE)  \n",
       "1                  NaN                    NaN  Lok Sabha Election (GE)  \n",
       "2                  NaN                    NaN  Lok Sabha Election (GE)  \n",
       "3             Politics    Municipality Member  Lok Sabha Election (GE)  \n",
       "4                  NaN                    NaN  Lok Sabha Election (GE)  \n",
       "...                ...                    ...                      ...  \n",
       "91664              NaN                    NaN  Lok Sabha Election (GE)  \n",
       "91665              NaN                    NaN  Lok Sabha Election (GE)  \n",
       "91666              NaN                    NaN  Lok Sabha Election (GE)  \n",
       "91667              NaN                    NaN  Lok Sabha Election (GE)  \n",
       "91668              NaN                    NaN  Lok Sabha Election (GE)  \n",
       "\n",
       "[91665 rows x 45 columns]"
      ]
     },
     "execution_count": 46,
     "metadata": {},
     "output_type": "execute_result"
    }
   ],
   "source": [
    "# drop rows where sex is NaN\n",
    "fdf = df.dropna(subset=[\"Candidate\", \"Votes\"])\n",
    "fdf"
   ]
  },
  {
   "cell_type": "code",
   "execution_count": 47,
   "metadata": {},
   "outputs": [],
   "source": [
    "# avg of votes for women and men sectioned by Election Number\n",
    "elNumNotaDict = {}\n",
    "for i in range(len(fdf)):\n",
    "    elNum = fdf.iloc[i][\"Assembly_No\"]\n",
    "    if elNum not in elNumNotaDict:\n",
    "        elNumNotaDict[elNum] = [0, 0]\n",
    "\n",
    "    if fdf.iloc[i][\"Candidate\"].upper() == \"NOTA\" or fdf.iloc[i][\"Candidate\"].upper() == \"NONE OF THE ABOVE\":\n",
    "        elNumNotaDict[elNum][0] += fdf.iloc[i][\"Votes\"]\n",
    "    elNumNotaDict[elNum][1] += fdf.iloc[i][\"Votes\"]\n"
   ]
  },
  {
   "cell_type": "code",
   "execution_count": 48,
   "metadata": {},
   "outputs": [
    {
     "data": {
      "application/vnd.plotly.v1+json": {
       "config": {
        "plotlyServerURL": "https://plot.ly"
       },
       "data": [
        {
         "mode": "lines",
         "name": "Nota",
         "type": "scatter",
         "x": [
          17,
          16,
          15,
          14,
          13,
          12,
          11,
          10,
          9,
          8,
          7,
          6,
          5,
          4,
          3
         ],
         "y": [
          1.067227005071056,
          1.0553256707623397,
          0,
          0,
          0,
          0,
          0,
          0,
          0,
          0,
          0,
          0,
          0,
          0,
          0
         ]
        }
       ],
       "layout": {
        "hovermode": "x",
        "template": {
         "data": {
          "bar": [
           {
            "error_x": {
             "color": "#f2f5fa"
            },
            "error_y": {
             "color": "#f2f5fa"
            },
            "marker": {
             "line": {
              "color": "rgb(17,17,17)",
              "width": 0.5
             },
             "pattern": {
              "fillmode": "overlay",
              "size": 10,
              "solidity": 0.2
             }
            },
            "type": "bar"
           }
          ],
          "barpolar": [
           {
            "marker": {
             "line": {
              "color": "rgb(17,17,17)",
              "width": 0.5
             },
             "pattern": {
              "fillmode": "overlay",
              "size": 10,
              "solidity": 0.2
             }
            },
            "type": "barpolar"
           }
          ],
          "carpet": [
           {
            "aaxis": {
             "endlinecolor": "#A2B1C6",
             "gridcolor": "#506784",
             "linecolor": "#506784",
             "minorgridcolor": "#506784",
             "startlinecolor": "#A2B1C6"
            },
            "baxis": {
             "endlinecolor": "#A2B1C6",
             "gridcolor": "#506784",
             "linecolor": "#506784",
             "minorgridcolor": "#506784",
             "startlinecolor": "#A2B1C6"
            },
            "type": "carpet"
           }
          ],
          "choropleth": [
           {
            "colorbar": {
             "outlinewidth": 0,
             "ticks": ""
            },
            "type": "choropleth"
           }
          ],
          "contour": [
           {
            "colorbar": {
             "outlinewidth": 0,
             "ticks": ""
            },
            "colorscale": [
             [
              0,
              "#0d0887"
             ],
             [
              0.1111111111111111,
              "#46039f"
             ],
             [
              0.2222222222222222,
              "#7201a8"
             ],
             [
              0.3333333333333333,
              "#9c179e"
             ],
             [
              0.4444444444444444,
              "#bd3786"
             ],
             [
              0.5555555555555556,
              "#d8576b"
             ],
             [
              0.6666666666666666,
              "#ed7953"
             ],
             [
              0.7777777777777778,
              "#fb9f3a"
             ],
             [
              0.8888888888888888,
              "#fdca26"
             ],
             [
              1,
              "#f0f921"
             ]
            ],
            "type": "contour"
           }
          ],
          "contourcarpet": [
           {
            "colorbar": {
             "outlinewidth": 0,
             "ticks": ""
            },
            "type": "contourcarpet"
           }
          ],
          "heatmap": [
           {
            "colorbar": {
             "outlinewidth": 0,
             "ticks": ""
            },
            "colorscale": [
             [
              0,
              "#0d0887"
             ],
             [
              0.1111111111111111,
              "#46039f"
             ],
             [
              0.2222222222222222,
              "#7201a8"
             ],
             [
              0.3333333333333333,
              "#9c179e"
             ],
             [
              0.4444444444444444,
              "#bd3786"
             ],
             [
              0.5555555555555556,
              "#d8576b"
             ],
             [
              0.6666666666666666,
              "#ed7953"
             ],
             [
              0.7777777777777778,
              "#fb9f3a"
             ],
             [
              0.8888888888888888,
              "#fdca26"
             ],
             [
              1,
              "#f0f921"
             ]
            ],
            "type": "heatmap"
           }
          ],
          "heatmapgl": [
           {
            "colorbar": {
             "outlinewidth": 0,
             "ticks": ""
            },
            "colorscale": [
             [
              0,
              "#0d0887"
             ],
             [
              0.1111111111111111,
              "#46039f"
             ],
             [
              0.2222222222222222,
              "#7201a8"
             ],
             [
              0.3333333333333333,
              "#9c179e"
             ],
             [
              0.4444444444444444,
              "#bd3786"
             ],
             [
              0.5555555555555556,
              "#d8576b"
             ],
             [
              0.6666666666666666,
              "#ed7953"
             ],
             [
              0.7777777777777778,
              "#fb9f3a"
             ],
             [
              0.8888888888888888,
              "#fdca26"
             ],
             [
              1,
              "#f0f921"
             ]
            ],
            "type": "heatmapgl"
           }
          ],
          "histogram": [
           {
            "marker": {
             "pattern": {
              "fillmode": "overlay",
              "size": 10,
              "solidity": 0.2
             }
            },
            "type": "histogram"
           }
          ],
          "histogram2d": [
           {
            "colorbar": {
             "outlinewidth": 0,
             "ticks": ""
            },
            "colorscale": [
             [
              0,
              "#0d0887"
             ],
             [
              0.1111111111111111,
              "#46039f"
             ],
             [
              0.2222222222222222,
              "#7201a8"
             ],
             [
              0.3333333333333333,
              "#9c179e"
             ],
             [
              0.4444444444444444,
              "#bd3786"
             ],
             [
              0.5555555555555556,
              "#d8576b"
             ],
             [
              0.6666666666666666,
              "#ed7953"
             ],
             [
              0.7777777777777778,
              "#fb9f3a"
             ],
             [
              0.8888888888888888,
              "#fdca26"
             ],
             [
              1,
              "#f0f921"
             ]
            ],
            "type": "histogram2d"
           }
          ],
          "histogram2dcontour": [
           {
            "colorbar": {
             "outlinewidth": 0,
             "ticks": ""
            },
            "colorscale": [
             [
              0,
              "#0d0887"
             ],
             [
              0.1111111111111111,
              "#46039f"
             ],
             [
              0.2222222222222222,
              "#7201a8"
             ],
             [
              0.3333333333333333,
              "#9c179e"
             ],
             [
              0.4444444444444444,
              "#bd3786"
             ],
             [
              0.5555555555555556,
              "#d8576b"
             ],
             [
              0.6666666666666666,
              "#ed7953"
             ],
             [
              0.7777777777777778,
              "#fb9f3a"
             ],
             [
              0.8888888888888888,
              "#fdca26"
             ],
             [
              1,
              "#f0f921"
             ]
            ],
            "type": "histogram2dcontour"
           }
          ],
          "mesh3d": [
           {
            "colorbar": {
             "outlinewidth": 0,
             "ticks": ""
            },
            "type": "mesh3d"
           }
          ],
          "parcoords": [
           {
            "line": {
             "colorbar": {
              "outlinewidth": 0,
              "ticks": ""
             }
            },
            "type": "parcoords"
           }
          ],
          "pie": [
           {
            "automargin": true,
            "type": "pie"
           }
          ],
          "scatter": [
           {
            "marker": {
             "line": {
              "color": "#283442"
             }
            },
            "type": "scatter"
           }
          ],
          "scatter3d": [
           {
            "line": {
             "colorbar": {
              "outlinewidth": 0,
              "ticks": ""
             }
            },
            "marker": {
             "colorbar": {
              "outlinewidth": 0,
              "ticks": ""
             }
            },
            "type": "scatter3d"
           }
          ],
          "scattercarpet": [
           {
            "marker": {
             "colorbar": {
              "outlinewidth": 0,
              "ticks": ""
             }
            },
            "type": "scattercarpet"
           }
          ],
          "scattergeo": [
           {
            "marker": {
             "colorbar": {
              "outlinewidth": 0,
              "ticks": ""
             }
            },
            "type": "scattergeo"
           }
          ],
          "scattergl": [
           {
            "marker": {
             "line": {
              "color": "#283442"
             }
            },
            "type": "scattergl"
           }
          ],
          "scattermapbox": [
           {
            "marker": {
             "colorbar": {
              "outlinewidth": 0,
              "ticks": ""
             }
            },
            "type": "scattermapbox"
           }
          ],
          "scatterpolar": [
           {
            "marker": {
             "colorbar": {
              "outlinewidth": 0,
              "ticks": ""
             }
            },
            "type": "scatterpolar"
           }
          ],
          "scatterpolargl": [
           {
            "marker": {
             "colorbar": {
              "outlinewidth": 0,
              "ticks": ""
             }
            },
            "type": "scatterpolargl"
           }
          ],
          "scatterternary": [
           {
            "marker": {
             "colorbar": {
              "outlinewidth": 0,
              "ticks": ""
             }
            },
            "type": "scatterternary"
           }
          ],
          "surface": [
           {
            "colorbar": {
             "outlinewidth": 0,
             "ticks": ""
            },
            "colorscale": [
             [
              0,
              "#0d0887"
             ],
             [
              0.1111111111111111,
              "#46039f"
             ],
             [
              0.2222222222222222,
              "#7201a8"
             ],
             [
              0.3333333333333333,
              "#9c179e"
             ],
             [
              0.4444444444444444,
              "#bd3786"
             ],
             [
              0.5555555555555556,
              "#d8576b"
             ],
             [
              0.6666666666666666,
              "#ed7953"
             ],
             [
              0.7777777777777778,
              "#fb9f3a"
             ],
             [
              0.8888888888888888,
              "#fdca26"
             ],
             [
              1,
              "#f0f921"
             ]
            ],
            "type": "surface"
           }
          ],
          "table": [
           {
            "cells": {
             "fill": {
              "color": "#506784"
             },
             "line": {
              "color": "rgb(17,17,17)"
             }
            },
            "header": {
             "fill": {
              "color": "#2a3f5f"
             },
             "line": {
              "color": "rgb(17,17,17)"
             }
            },
            "type": "table"
           }
          ]
         },
         "layout": {
          "annotationdefaults": {
           "arrowcolor": "#f2f5fa",
           "arrowhead": 0,
           "arrowwidth": 1
          },
          "autotypenumbers": "strict",
          "coloraxis": {
           "colorbar": {
            "outlinewidth": 0,
            "ticks": ""
           }
          },
          "colorscale": {
           "diverging": [
            [
             0,
             "#8e0152"
            ],
            [
             0.1,
             "#c51b7d"
            ],
            [
             0.2,
             "#de77ae"
            ],
            [
             0.3,
             "#f1b6da"
            ],
            [
             0.4,
             "#fde0ef"
            ],
            [
             0.5,
             "#f7f7f7"
            ],
            [
             0.6,
             "#e6f5d0"
            ],
            [
             0.7,
             "#b8e186"
            ],
            [
             0.8,
             "#7fbc41"
            ],
            [
             0.9,
             "#4d9221"
            ],
            [
             1,
             "#276419"
            ]
           ],
           "sequential": [
            [
             0,
             "#0d0887"
            ],
            [
             0.1111111111111111,
             "#46039f"
            ],
            [
             0.2222222222222222,
             "#7201a8"
            ],
            [
             0.3333333333333333,
             "#9c179e"
            ],
            [
             0.4444444444444444,
             "#bd3786"
            ],
            [
             0.5555555555555556,
             "#d8576b"
            ],
            [
             0.6666666666666666,
             "#ed7953"
            ],
            [
             0.7777777777777778,
             "#fb9f3a"
            ],
            [
             0.8888888888888888,
             "#fdca26"
            ],
            [
             1,
             "#f0f921"
            ]
           ],
           "sequentialminus": [
            [
             0,
             "#0d0887"
            ],
            [
             0.1111111111111111,
             "#46039f"
            ],
            [
             0.2222222222222222,
             "#7201a8"
            ],
            [
             0.3333333333333333,
             "#9c179e"
            ],
            [
             0.4444444444444444,
             "#bd3786"
            ],
            [
             0.5555555555555556,
             "#d8576b"
            ],
            [
             0.6666666666666666,
             "#ed7953"
            ],
            [
             0.7777777777777778,
             "#fb9f3a"
            ],
            [
             0.8888888888888888,
             "#fdca26"
            ],
            [
             1,
             "#f0f921"
            ]
           ]
          },
          "colorway": [
           "#636efa",
           "#EF553B",
           "#00cc96",
           "#ab63fa",
           "#FFA15A",
           "#19d3f3",
           "#FF6692",
           "#B6E880",
           "#FF97FF",
           "#FECB52"
          ],
          "font": {
           "color": "#f2f5fa"
          },
          "geo": {
           "bgcolor": "rgb(17,17,17)",
           "lakecolor": "rgb(17,17,17)",
           "landcolor": "rgb(17,17,17)",
           "showlakes": true,
           "showland": true,
           "subunitcolor": "#506784"
          },
          "hoverlabel": {
           "align": "left"
          },
          "hovermode": "closest",
          "mapbox": {
           "style": "dark"
          },
          "paper_bgcolor": "rgb(17,17,17)",
          "plot_bgcolor": "rgb(17,17,17)",
          "polar": {
           "angularaxis": {
            "gridcolor": "#506784",
            "linecolor": "#506784",
            "ticks": ""
           },
           "bgcolor": "rgb(17,17,17)",
           "radialaxis": {
            "gridcolor": "#506784",
            "linecolor": "#506784",
            "ticks": ""
           }
          },
          "scene": {
           "xaxis": {
            "backgroundcolor": "rgb(17,17,17)",
            "gridcolor": "#506784",
            "gridwidth": 2,
            "linecolor": "#506784",
            "showbackground": true,
            "ticks": "",
            "zerolinecolor": "#C8D4E3"
           },
           "yaxis": {
            "backgroundcolor": "rgb(17,17,17)",
            "gridcolor": "#506784",
            "gridwidth": 2,
            "linecolor": "#506784",
            "showbackground": true,
            "ticks": "",
            "zerolinecolor": "#C8D4E3"
           },
           "zaxis": {
            "backgroundcolor": "rgb(17,17,17)",
            "gridcolor": "#506784",
            "gridwidth": 2,
            "linecolor": "#506784",
            "showbackground": true,
            "ticks": "",
            "zerolinecolor": "#C8D4E3"
           }
          },
          "shapedefaults": {
           "line": {
            "color": "#f2f5fa"
           }
          },
          "sliderdefaults": {
           "bgcolor": "#C8D4E3",
           "bordercolor": "rgb(17,17,17)",
           "borderwidth": 1,
           "tickwidth": 0
          },
          "ternary": {
           "aaxis": {
            "gridcolor": "#506784",
            "linecolor": "#506784",
            "ticks": ""
           },
           "baxis": {
            "gridcolor": "#506784",
            "linecolor": "#506784",
            "ticks": ""
           },
           "bgcolor": "rgb(17,17,17)",
           "caxis": {
            "gridcolor": "#506784",
            "linecolor": "#506784",
            "ticks": ""
           }
          },
          "title": {
           "x": 0.05
          },
          "updatemenudefaults": {
           "bgcolor": "#506784",
           "borderwidth": 0
          },
          "xaxis": {
           "automargin": true,
           "gridcolor": "#283442",
           "linecolor": "#506784",
           "ticks": "",
           "title": {
            "standoff": 15
           },
           "zerolinecolor": "#283442",
           "zerolinewidth": 2
          },
          "yaxis": {
           "automargin": true,
           "gridcolor": "#283442",
           "linecolor": "#506784",
           "ticks": "",
           "title": {
            "standoff": 15
           },
           "zerolinecolor": "#283442",
           "zerolinewidth": 2
          }
         }
        },
        "title": {
         "text": "Nota vote %"
        },
        "xaxis": {
         "title": {
          "text": "X Axis"
         }
        },
        "yaxis": {
         "title": {
          "text": "Values"
         }
        }
       }
      }
     },
     "metadata": {},
     "output_type": "display_data"
    }
   ],
   "source": [
    "avgDict = {}\n",
    "for elNum in elNumNotaDict:\n",
    "    avgDict[elNum] = 100 * elNumNotaDict[elNum][0] / max(1, elNumNotaDict[elNum][1])\n",
    "    \n",
    "avgDict\n",
    "\n",
    "keys = list(avgDict.keys())\n",
    "line = [point for point in avgDict.values()]\n",
    "\n",
    "\n",
    "fig = go.Figure()\n",
    "\n",
    "fig.add_trace(go.Scatter(x=keys, y=line, mode='lines', name='Nota'))\n",
    "\n",
    "\n",
    "fig.update_layout(title='Nota vote %',\n",
    "                  xaxis_title='X Axis',\n",
    "                  yaxis_title='Values',\n",
    "                  hovermode='x')\n",
    "\n",
    "fig.show()\n"
   ]
  },
  {
   "cell_type": "code",
   "execution_count": 49,
   "metadata": {},
   "outputs": [
    {
     "data": {
      "text/plain": [
       "{'Andaman_&_Nicobar_Islands': {17: [1412.0, 207296.0],\n",
       "  16: [1564.0, 190328.0],\n",
       "  15: [0, 170103.0],\n",
       "  14: [0, 153825.0],\n",
       "  13: [0, 145791.0],\n",
       "  12: [0, 145836.0],\n",
       "  11: [0, 128212.0],\n",
       "  10: [0, 107316.0],\n",
       "  9: [0, 113065.0],\n",
       "  8: [0, 88968.0],\n",
       "  7: [0, 78899.0],\n",
       "  6: [0, 60568.0],\n",
       "  5: [0, 44525.0],\n",
       "  4: [0, 36732.0]},\n",
       " 'Andhra_Pradesh': {17: [484390.0, 32717361.0],\n",
       "  16: [340554.0, 50429068.0],\n",
       "  15: [0, 44059162.0],\n",
       "  14: [0, 40380068.0],\n",
       "  13: [0, 33741941.0],\n",
       "  12: [0, 31898911.0],\n",
       "  11: [0, 31175441.0],\n",
       "  10: [0, 26756687.0],\n",
       "  9: [0, 28764919.0],\n",
       "  8: [0, 22963757.0],\n",
       "  7: [0, 16907792.0],\n",
       "  6: [0, 18297514.0],\n",
       "  5: [0, 13073383.0],\n",
       "  4: [0, 13868473.0],\n",
       "  3: [0, 12153329.0]},\n",
       " 'Arunachal_Pradesh': {17: [7464.0, 652091.0],\n",
       "  16: [6321.0, 596956.0],\n",
       "  15: [0, 500642.0],\n",
       "  14: [0, 384928.0],\n",
       "  13: [0, 425663.0],\n",
       "  12: [0, 328764.0],\n",
       "  11: [0, 293448.0],\n",
       "  10: [0, 260901.0],\n",
       "  9: [0, 273130.0],\n",
       "  8: [0, 226546.0],\n",
       "  7: [0, 173579.0],\n",
       "  6: [0, 50690.0]},\n",
       " 'Assam': {17: [178353.0, 17986066.0],\n",
       "  16: [147057.0, 15171426.0],\n",
       "  15: [0, 12141171.0],\n",
       "  14: [0, 10372089.0],\n",
       "  13: [0, 10499892.0],\n",
       "  12: [0, 8375663.0],\n",
       "  11: [0, 9424509.0],\n",
       "  10: [0, 8457986.0],\n",
       "  8: [0, 7468235.0],\n",
       "  7: [0, 633960.0],\n",
       "  6: [0, 3823310.0],\n",
       "  5: [0, 3107076.0],\n",
       "  4: [0, 3153703.0],\n",
       "  3: [0, 2495311.0]},\n",
       " 'Bihar': {17: [883685.0, 42657610.0],\n",
       "  16: [598571.0, 36921526.0],\n",
       "  15: [0, 24933385.0],\n",
       "  14: [0, 30730141.0],\n",
       "  13: [0, 36935649.0],\n",
       "  12: [0, 37374416.0],\n",
       "  11: [0, 34221282.0],\n",
       "  10: [0, 30716167.0],\n",
       "  9: [0, 30853493.0],\n",
       "  8: [0, 26560873.0],\n",
       "  7: [0, 20989390.0],\n",
       "  6: [0, 21381800.0],\n",
       "  5: [0, 15346439.0],\n",
       "  4: [0, 14121006.0],\n",
       "  3: [0, 10325854.0]},\n",
       " 'Chandigarh': {17: [4335.0, 456568.0],\n",
       "  16: [3106.0, 453455.0],\n",
       "  15: [0, 343557.0],\n",
       "  14: [0, 268670.0],\n",
       "  13: [0, 282816.0],\n",
       "  12: [0, 282755.0],\n",
       "  11: [0, 259007.0],\n",
       "  10: [0, 213662.0],\n",
       "  9: [0, 216903.0],\n",
       "  8: [0, 156143.0],\n",
       "  7: [0, 124115.0],\n",
       "  6: [0, 107081.0],\n",
       "  5: [0, 72302.0],\n",
       "  4: [0, 49155.0]},\n",
       " 'Chhattisgarh': {17: [196265.0, 13614453.0],\n",
       "  16: [224889.0, 12255579.0],\n",
       "  15: [0, 9159088.0],\n",
       "  14: [0, 7881051.0]},\n",
       " 'Dadra_&_Nagar_Haveli': {17: [2950.0, 198983.0],\n",
       "  16: [2962.0, 165286.0],\n",
       "  15: [0, 110363.0],\n",
       "  14: [0, 84703.0],\n",
       "  13: [0, 71905.0],\n",
       "  12: [0, 72531.0],\n",
       "  11: [0, 70809.0],\n",
       "  10: [0, 48439.0],\n",
       "  9: [0, 51998.0],\n",
       "  8: [0, 38380.0],\n",
       "  7: [0, 31146.0],\n",
       "  6: [0, 24131.0],\n",
       "  5: [0, 21658.0],\n",
       "  4: [0, 21248.0]},\n",
       " 'Daman_&_Diu': {17: [1487.0, 87469.0],\n",
       "  16: [1316.0, 87233.0],\n",
       "  15: [0, 68024.0],\n",
       "  14: [0, 55591.0],\n",
       "  13: [0, 50800.0],\n",
       "  12: [0, 51596.0],\n",
       "  11: [0, 48488.0],\n",
       "  10: [0, 37937.0],\n",
       "  9: [0, 36538.0]},\n",
       " 'Delhi': {17: [45654.0, 8679012.0],\n",
       "  16: [39690.0, 8271766.0],\n",
       "  15: [0, 5753047.0],\n",
       "  14: [0, 4125832.0],\n",
       "  13: [0, 3793488.0],\n",
       "  12: [0, 4217082.0],\n",
       "  11: [0, 4563024.0],\n",
       "  10: [0, 3106406.0],\n",
       "  9: [0, 3047316.0],\n",
       "  8: [0, 2519066.0],\n",
       "  7: [0, 1964438.0],\n",
       "  6: [0, 1797995.0],\n",
       "  5: [0, 1297884.0],\n",
       "  4: [0, 1121161.0],\n",
       "  3: [0, 894149.0]},\n",
       " 'Goa': {17: [12499.0, 853203.0],\n",
       "  16: [10103.0, 817000.0],\n",
       "  15: [0, 564255.0],\n",
       "  14: [0, 753692.0],\n",
       "  13: [0, 409794.0],\n",
       "  12: [0, 532766.0],\n",
       "  11: [0, 482631.0],\n",
       "  10: [0, 314666.0],\n",
       "  9: [0, 417685.0]},\n",
       " 'Gujarat': {17: [400932.0, 29081964.0],\n",
       "  16: [454885.0, 26556342.0],\n",
       "  15: [0, 18493657.0],\n",
       "  14: [0, 15210904.0],\n",
       "  13: [0, 15047562.0],\n",
       "  12: [0, 16909193.0],\n",
       "  11: [0, 10495597.0],\n",
       "  10: [0, 10708877.0],\n",
       "  9: [0, 12942999.0],\n",
       "  8: [0, 10840789.0],\n",
       "  7: [0, 8854011.0],\n",
       "  6: [0, 8112371.0],\n",
       "  5: [0, 6427292.0],\n",
       "  4: [0, 6818268.0],\n",
       "  3: [0, 5282558.0]},\n",
       " 'Haryana': {17: [41781.0, 12681536.0],\n",
       "  16: [34220.0, 11495151.0],\n",
       "  15: [0, 9073033.0],\n",
       "  14: [0, 8624400.0],\n",
       "  13: [0, 6973039.0],\n",
       "  12: [0, 7552804.0],\n",
       "  11: [0, 7611643.0],\n",
       "  10: [0, 6206793.0],\n",
       "  9: [0, 6103715.0],\n",
       "  8: [0, 7202444.0],\n",
       "  7: [0, 4381285.0],\n",
       "  6: [0, 4535356.0],\n",
       "  5: [0, 2992538.0],\n",
       "  4: [0, 3052219.0]},\n",
       " 'Himachal_Pradesh': {17: [45669.0, 4602803.0],\n",
       "  16: [29155.0, 3098500.0],\n",
       "  15: [0, 3272536.0],\n",
       "  14: [0, 3784366.0],\n",
       "  13: [0, 2133704.0],\n",
       "  12: [0, 2380668.0],\n",
       "  11: [0, 2019097.0],\n",
       "  10: [0, 1751905.0],\n",
       "  9: [0, 1882022.0],\n",
       "  8: [0, 1394839.0],\n",
       "  7: [0, 1253869.0],\n",
       "  6: [0, 1138893.0],\n",
       "  5: [0, 682062.0],\n",
       "  4: [0, 776764.0],\n",
       "  3: [0, 242908.0]},\n",
       " 'Jammu_&_Kashmir': {17: [21739.0, 3552622.0],\n",
       "  16: [31550.0, 3653197.0],\n",
       "  15: [0, 2607335.0],\n",
       "  14: [0, 2239342.0],\n",
       "  13: [0, 2298799.0],\n",
       "  12: [0, 2158597.0],\n",
       "  11: [0, 2075880.0],\n",
       "  9: [0, 1046121.0],\n",
       "  8: [0, 2467730.0],\n",
       "  7: [0, 1337003.0],\n",
       "  6: [0, 1424324.0],\n",
       "  5: [0, 1166746.0],\n",
       "  4: [0, 1108017.0]},\n",
       " 'Jharkhand': {17: [189365.0, 14961958.0],\n",
       "  16: [190927.0, 12982940.0],\n",
       "  15: [0, 9875820.0],\n",
       "  14: [0, 11437085.0]},\n",
       " 'Karnataka': {17: [261441.0, 36160929.0],\n",
       "  16: [296461.0, 34049835.0],\n",
       "  15: [0, 27421346.0],\n",
       "  14: [0, 26473761.0],\n",
       "  13: [0, 24249151.0],\n",
       "  12: [0, 21102670.0],\n",
       "  11: [0, 18714366.0],\n",
       "  10: [0, 15402920.0],\n",
       "  9: [0, 18423013.0],\n",
       "  8: [0, 13876253.0],\n",
       "  7: [0, 11182825.0],\n",
       "  6: [0, 10717673.0]},\n",
       " 'Kerala': {17: [107856.0, 21485021.0],\n",
       "  16: [210563.0, 18907131.0],\n",
       "  15: [0, 16034875.0],\n",
       "  14: [0, 15845665.0],\n",
       "  13: [0, 16108701.0],\n",
       "  12: [0, 14861825.0],\n",
       "  11: [0, 14923823.0],\n",
       "  10: [0, 14929545.0],\n",
       "  9: [0, 14912541.0],\n",
       "  8: [0, 10893011.0],\n",
       "  7: [0, 8168656.0],\n",
       "  6: [0, 8856173.0],\n",
       "  5: [0, 6528863.0],\n",
       "  4: [0, 6677639.0],\n",
       "  3: [0, 5528983.0]},\n",
       " 'Lakshadweep': {17: [100.0, 47009.0],\n",
       "  16: [123.0, 43239.0],\n",
       "  15: [0, 39498.0],\n",
       "  14: [0, 31820.0],\n",
       "  13: [0, 29860.0],\n",
       "  12: [0, 31064.0],\n",
       "  11: [0, 30188.0],\n",
       "  10: [0, 25321.0],\n",
       "  9: [0, 25490.0],\n",
       "  8: [0, 19023.0],\n",
       "  7: [0, 17772.0],\n",
       "  6: [0, 16386.0],\n",
       "  5: [0, 0.0],\n",
       "  4: [0, 11807.0]},\n",
       " 'Madhya_Pradesh': {17: [354637.0, 38179202.0],\n",
       "  16: [391837.0, 31753223.0],\n",
       "  15: [0, 19484608.0],\n",
       "  14: [0, 21683739.0],\n",
       "  13: [0, 26078081.0],\n",
       "  12: [0, 26930007.0],\n",
       "  11: [0, 23595092.0],\n",
       "  10: [0, 17427597.0],\n",
       "  9: [0, 19674413.0],\n",
       "  8: [0, 15589773.0],\n",
       "  7: [0, 13184661.0],\n",
       "  6: [0, 12374721.0],\n",
       "  5: [0, 8981487.0],\n",
       "  4: [0, 9660548.0],\n",
       "  3: [0, 6931722.0]},\n",
       " 'Maharashtra': {17: [498925.0, 55308882.0],\n",
       "  16: [456657.0, 51851187.0],\n",
       "  15: [0, 36991311.0],\n",
       "  14: [0, 37722626.0],\n",
       "  13: [0, 33645298.0],\n",
       "  12: [0, 31492290.0],\n",
       "  11: [0, 28361236.0],\n",
       "  10: [0, 23877719.0],\n",
       "  9: [0, 27549090.0],\n",
       "  8: [0, 22630809.0],\n",
       "  7: [0, 19130850.0],\n",
       "  6: [0, 16891349.0],\n",
       "  5: [0, 14273818.0],\n",
       "  4: [0, 14219542.0],\n",
       "  3: [0, 11530135.0]},\n",
       " 'Manipur': {17: [5389.0, 1617330.0],\n",
       "  16: [7504.0, 1412636.0],\n",
       "  15: [0, 1339399.0],\n",
       "  14: [0, 1035557.0],\n",
       "  13: [0, 893648.0],\n",
       "  12: [0, 749816.0],\n",
       "  11: [0, 958980.0],\n",
       "  10: [0, 846807.0],\n",
       "  9: [0, 861125.0],\n",
       "  8: [0, 841212.0],\n",
       "  7: [0, 715424.0],\n",
       "  6: [0, 690584.0],\n",
       "  5: [0, 259761.0],\n",
       "  4: [0, 315162.0],\n",
       "  3: [0, 264627.0]},\n",
       " 'Meghalaya': {17: [10874.0, 1367231.0],\n",
       "  16: [30145.0, 1544840.0],\n",
       "  15: [0, 822566.0],\n",
       "  14: [0, 1037927.0],\n",
       "  13: [0, 654330.0],\n",
       "  12: [0, 839104.0],\n",
       "  11: [0, 658660.0],\n",
       "  10: [0, 497310.0],\n",
       "  9: [0, 477124.0],\n",
       "  8: [0, 547038.0],\n",
       "  7: [0, 110760.0],\n",
       "  6: [0, 254046.0],\n",
       "  5: [0, 53410.0]},\n",
       " 'Mizoram': {17: [2509.0, 499621.0],\n",
       "  16: [6495.0, 433201.0],\n",
       "  15: [0, 325991.0],\n",
       "  14: [0, 348546.0],\n",
       "  13: [0, 291786.0],\n",
       "  12: [0, 305576.0],\n",
       "  11: [0, 296886.0],\n",
       "  10: [0, 240595.0],\n",
       "  9: [0, 226146.0],\n",
       "  7: [0, 128321.0],\n",
       "  6: [0, 100725.0],\n",
       "  5: [0, 110987.0]},\n",
       " 'Nagaland': {17: [2064.0, 1006357.0],\n",
       "  16: [6687.0, 2057565.0],\n",
       "  15: [0, 1189601.0],\n",
       "  14: [0, 954719.0],\n",
       "  13: [0, 725045.0],\n",
       "  12: [0, 397008.0],\n",
       "  11: [0, 757626.0],\n",
       "  10: [0, 622831.0],\n",
       "  9: [0, 602195.0],\n",
       "  8: [0, 388464.0],\n",
       "  7: [0, 286179.0],\n",
       "  6: [0, 241154.0],\n",
       "  5: [0, 148025.0],\n",
       "  4: [0, 0.0]},\n",
       " 'Odisha': {17: [310824.0, 23794122.0],\n",
       "  16: [332766.0, 22293757.0],\n",
       "  15: [0, 17761984.0],\n",
       "  14: [0, 16934324.0],\n",
       "  13: [0, 13677677.0],\n",
       "  12: [0, 13346272.0],\n",
       "  11: [0, 14106477.0],\n",
       "  10: [0, 10732832.0],\n",
       "  9: [0, 11190772.0],\n",
       "  8: [0, 8687058.0],\n",
       "  7: [0, 6435642.0],\n",
       "  6: [0, 5393794.0],\n",
       "  5: [0, 4743286.0],\n",
       "  4: [0, 4061992.0],\n",
       "  3: [0, 1968965.0]},\n",
       " 'Puducherry': {17: [12199.0, 790760.0],\n",
       "  16: [22268.0, 740017.0],\n",
       "  15: [0, 607948.0],\n",
       "  14: [0, 483816.0],\n",
       "  13: [0, 444162.0],\n",
       "  12: [0, 408918.0],\n",
       "  11: [0, 460322.0],\n",
       "  10: [0, 391783.0],\n",
       "  9: [0, 377588.0],\n",
       "  8: [0, 270781.0],\n",
       "  7: [0, 247681.0],\n",
       "  6: [0, 216244.0],\n",
       "  5: [0, 170088.0],\n",
       "  4: [0, 158872.0]},\n",
       " 'Punjab': {17: [154423.0, 13765432.0],\n",
       "  16: [58754.0, 14674996.0],\n",
       "  15: [0, 11829304.0],\n",
       "  14: [0, 11108064.0],\n",
       "  13: [0, 8754525.0],\n",
       "  12: [0, 9494988.0],\n",
       "  11: [0, 9646469.0],\n",
       "  10: [0, 3593013.0],\n",
       "  9: [0, 7942827.0],\n",
       "  8: [0, 6932890.0],\n",
       "  7: [0, 5974038.0],\n",
       "  6: [0, 5611311.0],\n",
       "  5: [0, 4436417.0],\n",
       "  4: [0, 5120922.0],\n",
       "  3: [0, 6785637.0]},\n",
       " 'Rajasthan': {17: [327559.0, 32441064.0],\n",
       "  16: [351164.0, 29446016.0],\n",
       "  15: [0, 17931593.0],\n",
       "  14: [0, 17332448.0],\n",
       "  13: [0, 17784127.0],\n",
       "  12: [0, 17650528.0],\n",
       "  11: [0, 13572787.0],\n",
       "  10: [0, 12296822.0],\n",
       "  9: [0, 14293693.0],\n",
       "  8: [0, 12116590.0],\n",
       "  7: [0, 10020198.0],\n",
       "  6: [0, 8404426.0],\n",
       "  5: [0, 6924879.0],\n",
       "  4: [0, 7000634.0],\n",
       "  3: [0, 5302125.0]},\n",
       " 'Sikkim': {17: [2279.0, 351746.0],\n",
       "  16: [4332.0, 308967.0],\n",
       "  15: [0, 251751.0],\n",
       "  14: [0, 219648.0],\n",
       "  13: [0, 205133.0],\n",
       "  12: [0, 155871.0],\n",
       "  11: [0, 172174.0],\n",
       "  10: [0, 115373.0],\n",
       "  9: [0, 133699.0],\n",
       "  8: [0, 82646.0],\n",
       "  7: [0, 51503.0],\n",
       "  6: [0, 0.0]},\n",
       " 'Tamil_Nadu': {17: [546098.0, 44480751.0],\n",
       "  16: [581782.0, 40607149.0],\n",
       "  15: [0, 30390960.0],\n",
       "  14: [0, 28714515.0],\n",
       "  13: [0, 27942026.0],\n",
       "  12: [0, 25603798.0],\n",
       "  11: [0, 27188941.0],\n",
       "  10: [0, 25350479.0],\n",
       "  9: [0, 26399730.0],\n",
       "  8: [0, 21887779.0],\n",
       "  7: [0, 20018520.0],\n",
       "  6: [0, 17859907.0],\n",
       "  5: [0, 16388391.0],\n",
       "  4: [0, 752452.0]},\n",
       " 'Telangana': {17: [190798.0, 18642895.0]},\n",
       " 'Tripura': {17: [23174.0, 2153172.0],\n",
       "  16: [23783.0, 2023829.0],\n",
       "  15: [0, 1758501.0],\n",
       "  14: [0, 1324253.0],\n",
       "  13: [0, 1888018.0],\n",
       "  12: [0, 1370465.0],\n",
       "  11: [0, 1286726.0],\n",
       "  10: [0, 1016708.0],\n",
       "  9: [0, 1266747.0],\n",
       "  8: [0, 918160.0],\n",
       "  7: [0, 830595.0],\n",
       "  6: [0, 588190.0],\n",
       "  5: [0, 412561.0],\n",
       "  4: [0, 438758.0],\n",
       "  3: [0, 319085.0]},\n",
       " 'Uttar_Pradesh': {17: [725097.0, 86481398.0],\n",
       "  16: [603386.0, 84676173.0],\n",
       "  15: [0, 56194237.0],\n",
       "  14: [0, 59075909.0],\n",
       "  13: [0, 57172737.0],\n",
       "  12: [0, 55829673.0],\n",
       "  11: [0, 46545531.0],\n",
       "  10: [0, 37824864.0],\n",
       "  9: [0, 39011842.0],\n",
       "  8: [0, 35196043.0],\n",
       "  7: [0, 30009637.0],\n",
       "  6: [0, 29263258.0],\n",
       "  5: [0, 20561844.0],\n",
       "  4: [0, 22733082.0],\n",
       "  3: [0, 18165145.0]},\n",
       " 'Uttarakhand': {17: [50946.0, 4842925.0],\n",
       "  16: [48043.0, 4391890.0],\n",
       "  15: [0, 3650996.0],\n",
       "  14: [0, 3533135.0]},\n",
       " 'West_Bengal': {17: [546788.0, 57206976.0],\n",
       "  16: [583051.0, 56755039.0],\n",
       "  15: [0, 45362457.0],\n",
       "  14: [0, 40144273.0],\n",
       "  13: [0, 38118886.0],\n",
       "  12: [0, 36522326.0],\n",
       "  11: [0, 36700029.0],\n",
       "  10: [0, 31706574.0],\n",
       "  9: [0, 31658427.0],\n",
       "  8: [0, 25987053.0],\n",
       "  7: [0, 21954471.0],\n",
       "  6: [0, 14681909.0],\n",
       "  5: [0, 13591439.0],\n",
       "  4: [0, 13598472.0],\n",
       "  3: [0, 10168487.0]},\n",
       " 'Dadra & Nagar Haveli And Daman & Diu': {17: [5531.0, 198264.0]},\n",
       " 'Goa,_Daman_&_Diu': {8: [0, 408568.0],\n",
       "  7: [0, 352905.0],\n",
       "  6: [0, 293046.0],\n",
       "  5: [0, 235905.0],\n",
       "  4: [0, 277786.0]},\n",
       " 'Mysore': {5: [0, 7892764.0], 4: [0, 8315342.0], 3: [0, 6703441.0]},\n",
       " 'Madras': {4: [0, 15439094.0], 3: [0, 12706975.0]}}"
      ]
     },
     "execution_count": 49,
     "metadata": {},
     "output_type": "execute_result"
    }
   ],
   "source": [
    "stateDict = {} # State -> Assembly Number\n",
    "for i in range(len(fdf)):\n",
    "    state = fdf.iloc[i][\"State_Name\"]\n",
    "    if state not in stateDict:\n",
    "        stateDict[state] = {}\n",
    "    elNum = fdf.iloc[i][\"Assembly_No\"]\n",
    "    if elNum not in stateDict[state]:\n",
    "        stateDict[state][elNum] = [0, 0]\n",
    "\n",
    "    if fdf.iloc[i][\"Candidate\"].upper() == \"NOTA\" or fdf.iloc[i][\"Candidate\"].upper() == \"NONE OF THE ABOVE\":\n",
    "        stateDict[state][elNum][0] += fdf.iloc[i][\"Votes\"]\n",
    "    stateDict[state][elNum][1] += fdf.iloc[i][\"Votes\"]\n",
    "\n",
    "\n",
    "stateDict"
   ]
  },
  {
   "cell_type": "code",
   "execution_count": 50,
   "metadata": {},
   "outputs": [
    {
     "data": {
      "text/plain": [
       "{'Andaman_&_Nicobar_Islands': {17: 0.6811515899969126,\n",
       "  16: 0.8217393131856584,\n",
       "  15: 0.0,\n",
       "  14: 0.0,\n",
       "  13: 0.0,\n",
       "  12: 0.0,\n",
       "  11: 0.0,\n",
       "  10: 0.0,\n",
       "  9: 0.0,\n",
       "  8: 0.0,\n",
       "  7: 0.0,\n",
       "  6: 0.0,\n",
       "  5: 0.0,\n",
       "  4: 0.0},\n",
       " 'Andhra_Pradesh': {17: 1.4805289460846185,\n",
       "  16: 0.6753128969188961,\n",
       "  15: 0.0,\n",
       "  14: 0.0,\n",
       "  13: 0.0,\n",
       "  12: 0.0,\n",
       "  11: 0.0,\n",
       "  10: 0.0,\n",
       "  9: 0.0,\n",
       "  8: 0.0,\n",
       "  7: 0.0,\n",
       "  6: 0.0,\n",
       "  5: 0.0,\n",
       "  4: 0.0,\n",
       "  3: 0.0},\n",
       " 'Arunachal_Pradesh': {17: 1.1446255200577833,\n",
       "  16: 1.058872010667453,\n",
       "  15: 0.0,\n",
       "  14: 0.0,\n",
       "  13: 0.0,\n",
       "  12: 0.0,\n",
       "  11: 0.0,\n",
       "  10: 0.0,\n",
       "  9: 0.0,\n",
       "  8: 0.0,\n",
       "  7: 0.0,\n",
       "  6: 0.0},\n",
       " 'Assam': {17: 0.9916176222193336,\n",
       "  16: 0.9693024241755521,\n",
       "  15: 0.0,\n",
       "  14: 0.0,\n",
       "  13: 0.0,\n",
       "  12: 0.0,\n",
       "  11: 0.0,\n",
       "  10: 0.0,\n",
       "  8: 0.0,\n",
       "  7: 0.0,\n",
       "  6: 0.0,\n",
       "  5: 0.0,\n",
       "  4: 0.0,\n",
       "  3: 0.0},\n",
       " 'Bihar': {17: 2.071576443218455,\n",
       "  16: 1.6211978887329848,\n",
       "  15: 0.0,\n",
       "  14: 0.0,\n",
       "  13: 0.0,\n",
       "  12: 0.0,\n",
       "  11: 0.0,\n",
       "  10: 0.0,\n",
       "  9: 0.0,\n",
       "  8: 0.0,\n",
       "  7: 0.0,\n",
       "  6: 0.0,\n",
       "  5: 0.0,\n",
       "  4: 0.0,\n",
       "  3: 0.0},\n",
       " 'Chandigarh': {17: 0.9494752150829668,\n",
       "  16: 0.6849632267810477,\n",
       "  15: 0.0,\n",
       "  14: 0.0,\n",
       "  13: 0.0,\n",
       "  12: 0.0,\n",
       "  11: 0.0,\n",
       "  10: 0.0,\n",
       "  9: 0.0,\n",
       "  8: 0.0,\n",
       "  7: 0.0,\n",
       "  6: 0.0,\n",
       "  5: 0.0,\n",
       "  4: 0.0},\n",
       " 'Chhattisgarh': {17: 1.4415929894502555,\n",
       "  16: 1.8349928632502797,\n",
       "  15: 0.0,\n",
       "  14: 0.0},\n",
       " 'Dadra_&_Nagar_Haveli': {17: 1.4825387093369786,\n",
       "  16: 1.7920453032924748,\n",
       "  15: 0.0,\n",
       "  14: 0.0,\n",
       "  13: 0.0,\n",
       "  12: 0.0,\n",
       "  11: 0.0,\n",
       "  10: 0.0,\n",
       "  9: 0.0,\n",
       "  8: 0.0,\n",
       "  7: 0.0,\n",
       "  6: 0.0,\n",
       "  5: 0.0,\n",
       "  4: 0.0},\n",
       " 'Daman_&_Diu': {17: 1.7000308680789766,\n",
       "  16: 1.508603395503995,\n",
       "  15: 0.0,\n",
       "  14: 0.0,\n",
       "  13: 0.0,\n",
       "  12: 0.0,\n",
       "  11: 0.0,\n",
       "  10: 0.0,\n",
       "  9: 0.0},\n",
       " 'Delhi': {17: 0.5260276169683831,\n",
       "  16: 0.4798249853779713,\n",
       "  15: 0.0,\n",
       "  14: 0.0,\n",
       "  13: 0.0,\n",
       "  12: 0.0,\n",
       "  11: 0.0,\n",
       "  10: 0.0,\n",
       "  9: 0.0,\n",
       "  8: 0.0,\n",
       "  7: 0.0,\n",
       "  6: 0.0,\n",
       "  5: 0.0,\n",
       "  4: 0.0,\n",
       "  3: 0.0},\n",
       " 'Goa': {17: 1.4649503107701216,\n",
       "  16: 1.2365973072215422,\n",
       "  15: 0.0,\n",
       "  14: 0.0,\n",
       "  13: 0.0,\n",
       "  12: 0.0,\n",
       "  11: 0.0,\n",
       "  10: 0.0,\n",
       "  9: 0.0},\n",
       " 'Gujarat': {17: 1.3786276607728418,\n",
       "  16: 1.7129053391464835,\n",
       "  15: 0.0,\n",
       "  14: 0.0,\n",
       "  13: 0.0,\n",
       "  12: 0.0,\n",
       "  11: 0.0,\n",
       "  10: 0.0,\n",
       "  9: 0.0,\n",
       "  8: 0.0,\n",
       "  7: 0.0,\n",
       "  6: 0.0,\n",
       "  5: 0.0,\n",
       "  4: 0.0,\n",
       "  3: 0.0},\n",
       " 'Haryana': {17: 0.32946324483091005,\n",
       "  16: 0.29769073933870027,\n",
       "  15: 0.0,\n",
       "  14: 0.0,\n",
       "  13: 0.0,\n",
       "  12: 0.0,\n",
       "  11: 0.0,\n",
       "  10: 0.0,\n",
       "  9: 0.0,\n",
       "  8: 0.0,\n",
       "  7: 0.0,\n",
       "  6: 0.0,\n",
       "  5: 0.0,\n",
       "  4: 0.0},\n",
       " 'Himachal_Pradesh': {17: 0.9921997530635137,\n",
       "  16: 0.9409391641116669,\n",
       "  15: 0.0,\n",
       "  14: 0.0,\n",
       "  13: 0.0,\n",
       "  12: 0.0,\n",
       "  11: 0.0,\n",
       "  10: 0.0,\n",
       "  9: 0.0,\n",
       "  8: 0.0,\n",
       "  7: 0.0,\n",
       "  6: 0.0,\n",
       "  5: 0.0,\n",
       "  4: 0.0,\n",
       "  3: 0.0},\n",
       " 'Jammu_&_Kashmir': {17: 0.6119142424946983,\n",
       "  16: 0.8636271189317193,\n",
       "  15: 0.0,\n",
       "  14: 0.0,\n",
       "  13: 0.0,\n",
       "  12: 0.0,\n",
       "  11: 0.0,\n",
       "  9: 0.0,\n",
       "  8: 0.0,\n",
       "  7: 0.0,\n",
       "  6: 0.0,\n",
       "  5: 0.0,\n",
       "  4: 0.0},\n",
       " 'Jharkhand': {17: 1.265643173172923,\n",
       "  16: 1.4705991092926565,\n",
       "  15: 0.0,\n",
       "  14: 0.0},\n",
       " 'Karnataka': {17: 0.7229930403613248,\n",
       "  16: 0.8706679489048919,\n",
       "  15: 0.0,\n",
       "  14: 0.0,\n",
       "  13: 0.0,\n",
       "  12: 0.0,\n",
       "  11: 0.0,\n",
       "  10: 0.0,\n",
       "  9: 0.0,\n",
       "  8: 0.0,\n",
       "  7: 0.0,\n",
       "  6: 0.0},\n",
       " 'Kerala': {17: 0.5020055600597272,\n",
       "  16: 1.1136697577226287,\n",
       "  15: 0.0,\n",
       "  14: 0.0,\n",
       "  13: 0.0,\n",
       "  12: 0.0,\n",
       "  11: 0.0,\n",
       "  10: 0.0,\n",
       "  9: 0.0,\n",
       "  8: 0.0,\n",
       "  7: 0.0,\n",
       "  6: 0.0,\n",
       "  5: 0.0,\n",
       "  4: 0.0,\n",
       "  3: 0.0},\n",
       " 'Lakshadweep': {17: 0.2127252228296709,\n",
       "  16: 0.2844654131686672,\n",
       "  15: 0.0,\n",
       "  14: 0.0,\n",
       "  13: 0.0,\n",
       "  12: 0.0,\n",
       "  11: 0.0,\n",
       "  10: 0.0,\n",
       "  9: 0.0,\n",
       "  8: 0.0,\n",
       "  7: 0.0,\n",
       "  6: 0.0,\n",
       "  5: 0.0,\n",
       "  4: 0.0},\n",
       " 'Madhya_Pradesh': {17: 0.9288748360953171,\n",
       "  16: 1.2340070171774373,\n",
       "  15: 0.0,\n",
       "  14: 0.0,\n",
       "  13: 0.0,\n",
       "  12: 0.0,\n",
       "  11: 0.0,\n",
       "  10: 0.0,\n",
       "  9: 0.0,\n",
       "  8: 0.0,\n",
       "  7: 0.0,\n",
       "  6: 0.0,\n",
       "  5: 0.0,\n",
       "  4: 0.0,\n",
       "  3: 0.0},\n",
       " 'Maharashtra': {17: 0.9020703040065066,\n",
       "  16: 0.880706935407284,\n",
       "  15: 0.0,\n",
       "  14: 0.0,\n",
       "  13: 0.0,\n",
       "  12: 0.0,\n",
       "  11: 0.0,\n",
       "  10: 0.0,\n",
       "  9: 0.0,\n",
       "  8: 0.0,\n",
       "  7: 0.0,\n",
       "  6: 0.0,\n",
       "  5: 0.0,\n",
       "  4: 0.0,\n",
       "  3: 0.0},\n",
       " 'Manipur': {17: 0.33320348970216346,\n",
       "  16: 0.531205491011131,\n",
       "  15: 0.0,\n",
       "  14: 0.0,\n",
       "  13: 0.0,\n",
       "  12: 0.0,\n",
       "  11: 0.0,\n",
       "  10: 0.0,\n",
       "  9: 0.0,\n",
       "  8: 0.0,\n",
       "  7: 0.0,\n",
       "  6: 0.0,\n",
       "  5: 0.0,\n",
       "  4: 0.0,\n",
       "  3: 0.0},\n",
       " 'Meghalaya': {17: 0.7953301234392726,\n",
       "  16: 1.9513347660599156,\n",
       "  15: 0.0,\n",
       "  14: 0.0,\n",
       "  13: 0.0,\n",
       "  12: 0.0,\n",
       "  11: 0.0,\n",
       "  10: 0.0,\n",
       "  9: 0.0,\n",
       "  8: 0.0,\n",
       "  7: 0.0,\n",
       "  6: 0.0,\n",
       "  5: 0.0},\n",
       " 'Mizoram': {17: 0.5021806529349246,\n",
       "  16: 1.4993040182271047,\n",
       "  15: 0.0,\n",
       "  14: 0.0,\n",
       "  13: 0.0,\n",
       "  12: 0.0,\n",
       "  11: 0.0,\n",
       "  10: 0.0,\n",
       "  9: 0.0,\n",
       "  7: 0.0,\n",
       "  6: 0.0,\n",
       "  5: 0.0},\n",
       " 'Nagaland': {17: 0.2050962034347652,\n",
       "  16: 0.32499580815186885,\n",
       "  15: 0.0,\n",
       "  14: 0.0,\n",
       "  13: 0.0,\n",
       "  12: 0.0,\n",
       "  11: 0.0,\n",
       "  10: 0.0,\n",
       "  9: 0.0,\n",
       "  8: 0.0,\n",
       "  7: 0.0,\n",
       "  6: 0.0,\n",
       "  5: 0.0,\n",
       "  4: 0.0},\n",
       " 'Odisha': {17: 1.3063058178822484,\n",
       "  16: 1.492642088096681,\n",
       "  15: 0.0,\n",
       "  14: 0.0,\n",
       "  13: 0.0,\n",
       "  12: 0.0,\n",
       "  11: 0.0,\n",
       "  10: 0.0,\n",
       "  9: 0.0,\n",
       "  8: 0.0,\n",
       "  7: 0.0,\n",
       "  6: 0.0,\n",
       "  5: 0.0,\n",
       "  4: 0.0,\n",
       "  3: 0.0},\n",
       " 'Puducherry': {17: 1.5426931053669888,\n",
       "  16: 3.009120060755361,\n",
       "  15: 0.0,\n",
       "  14: 0.0,\n",
       "  13: 0.0,\n",
       "  12: 0.0,\n",
       "  11: 0.0,\n",
       "  10: 0.0,\n",
       "  9: 0.0,\n",
       "  8: 0.0,\n",
       "  7: 0.0,\n",
       "  6: 0.0,\n",
       "  5: 0.0,\n",
       "  4: 0.0},\n",
       " 'Punjab': {17: 1.1218173174659538,\n",
       "  16: 0.4003680818720496,\n",
       "  15: 0.0,\n",
       "  14: 0.0,\n",
       "  13: 0.0,\n",
       "  12: 0.0,\n",
       "  11: 0.0,\n",
       "  10: 0.0,\n",
       "  9: 0.0,\n",
       "  8: 0.0,\n",
       "  7: 0.0,\n",
       "  6: 0.0,\n",
       "  5: 0.0,\n",
       "  4: 0.0,\n",
       "  3: 0.0},\n",
       " 'Rajasthan': {17: 1.0097048604817647,\n",
       "  16: 1.1925688011580242,\n",
       "  15: 0.0,\n",
       "  14: 0.0,\n",
       "  13: 0.0,\n",
       "  12: 0.0,\n",
       "  11: 0.0,\n",
       "  10: 0.0,\n",
       "  9: 0.0,\n",
       "  8: 0.0,\n",
       "  7: 0.0,\n",
       "  6: 0.0,\n",
       "  5: 0.0,\n",
       "  4: 0.0,\n",
       "  3: 0.0},\n",
       " 'Sikkim': {17: 0.6479107082951903,\n",
       "  16: 1.4020914854984512,\n",
       "  15: 0.0,\n",
       "  14: 0.0,\n",
       "  13: 0.0,\n",
       "  12: 0.0,\n",
       "  11: 0.0,\n",
       "  10: 0.0,\n",
       "  9: 0.0,\n",
       "  8: 0.0,\n",
       "  7: 0.0,\n",
       "  6: 0.0},\n",
       " 'Tamil_Nadu': {17: 1.22771758057772,\n",
       "  16: 1.4327083144891557,\n",
       "  15: 0.0,\n",
       "  14: 0.0,\n",
       "  13: 0.0,\n",
       "  12: 0.0,\n",
       "  11: 0.0,\n",
       "  10: 0.0,\n",
       "  9: 0.0,\n",
       "  8: 0.0,\n",
       "  7: 0.0,\n",
       "  6: 0.0,\n",
       "  5: 0.0,\n",
       "  4: 0.0},\n",
       " 'Telangana': {17: 1.0234354696521115},\n",
       " 'Tripura': {17: 1.076272587605635,\n",
       "  16: 1.1751486909220097,\n",
       "  15: 0.0,\n",
       "  14: 0.0,\n",
       "  13: 0.0,\n",
       "  12: 0.0,\n",
       "  11: 0.0,\n",
       "  10: 0.0,\n",
       "  9: 0.0,\n",
       "  8: 0.0,\n",
       "  7: 0.0,\n",
       "  6: 0.0,\n",
       "  5: 0.0,\n",
       "  4: 0.0,\n",
       "  3: 0.0},\n",
       " 'Uttar_Pradesh': {17: 0.8384427365524317,\n",
       "  16: 0.712580621705707,\n",
       "  15: 0.0,\n",
       "  14: 0.0,\n",
       "  13: 0.0,\n",
       "  12: 0.0,\n",
       "  11: 0.0,\n",
       "  10: 0.0,\n",
       "  9: 0.0,\n",
       "  8: 0.0,\n",
       "  7: 0.0,\n",
       "  6: 0.0,\n",
       "  5: 0.0,\n",
       "  4: 0.0,\n",
       "  3: 0.0},\n",
       " 'Uttarakhand': {17: 1.0519675609265062,\n",
       "  16: 1.0939026250657462,\n",
       "  15: 0.0,\n",
       "  14: 0.0},\n",
       " 'West_Bengal': {17: 0.9558065086327933,\n",
       "  16: 1.0273114251582136,\n",
       "  15: 0.0,\n",
       "  14: 0.0,\n",
       "  13: 0.0,\n",
       "  12: 0.0,\n",
       "  11: 0.0,\n",
       "  10: 0.0,\n",
       "  9: 0.0,\n",
       "  8: 0.0,\n",
       "  7: 0.0,\n",
       "  6: 0.0,\n",
       "  5: 0.0,\n",
       "  4: 0.0,\n",
       "  3: 0.0},\n",
       " 'Dadra & Nagar Haveli And Daman & Diu': {17: 2.7897147238026068},\n",
       " 'Goa,_Daman_&_Diu': {8: 0.0, 7: 0.0, 6: 0.0, 5: 0.0, 4: 0.0},\n",
       " 'Mysore': {5: 0.0, 4: 0.0, 3: 0.0},\n",
       " 'Madras': {4: 0.0, 3: 0.0}}"
      ]
     },
     "execution_count": 50,
     "metadata": {},
     "output_type": "execute_result"
    }
   ],
   "source": [
    "stateAvgDict = {}\n",
    "for state in stateDict:\n",
    "    stateAvgDict[state] = {}\n",
    "    for elNum in stateDict[state]:\n",
    "        stateAvgDict[state][elNum] = 100 * stateDict[state][elNum][0] / (1 if stateDict[state][elNum][1] == 0 else stateDict[state][elNum][1])\n",
    "                                  \n",
    "        \n",
    "stateAvgDict"
   ]
  },
  {
   "cell_type": "code",
   "execution_count": 53,
   "metadata": {},
   "outputs": [],
   "source": [
    "outputDir = \"./output/notaAnalysis/\" \n",
    "mxNum = 0\n",
    "for state in stateAvgDict:\n",
    "    for elNum in stateAvgDict[state]:\n",
    "        mxNum = max(mxNum, stateAvgDict[state][elNum])\n",
    "\n",
    "mxNum = np.ceil(mxNum) \n",
    "\n",
    "for elNum in range(1, 18):\n",
    "    with open(outputDir + str(elNum) + \".txt\", \"w\") as f:\n",
    "        text = \"\"\n",
    "        for state in stateAvgDict:\n",
    "            if elNum in stateAvgDict[state]:\n",
    "                text += f\"INDIA\\t{state.upper().replace('_', ' ').replace('ANDAMAN & NICOBAR', 'A & N')}\\t{stateAvgDict[state][elNum]}\\n\"\n",
    "\n",
    "        text += f\"INDIA\\tUPPER\\t{mxNum}\\nINDIA\\tLOWER\\t0\\n\"\n",
    "        f.write(text)\n",
    "\n",
    "        \n"
   ]
  }
 ],
 "metadata": {
  "kernelspec": {
   "display_name": "Python 3",
   "language": "python",
   "name": "python3"
  },
  "language_info": {
   "codemirror_mode": {
    "name": "ipython",
    "version": 3
   },
   "file_extension": ".py",
   "mimetype": "text/x-python",
   "name": "python",
   "nbconvert_exporter": "python",
   "pygments_lexer": "ipython3",
   "version": "3.11.3"
  },
  "orig_nbformat": 4
 },
 "nbformat": 4,
 "nbformat_minor": 2
}
