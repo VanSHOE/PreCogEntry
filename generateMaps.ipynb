{
 "cells": [
  {
   "cell_type": "code",
   "execution_count": 11,
   "metadata": {},
   "outputs": [],
   "source": [
    "from pathlib import Path \n",
    "from selenium import webdriver\n",
    "from selenium.webdriver.common.by import By\n",
    "from selenium.webdriver.common.keys import Keys\n",
    "from webdriver_manager.chrome import ChromeDriverManager\n",
    "import undetected_chromedriver as uc\n",
    "import time\n",
    "import pyperclip"
   ]
  },
  {
   "cell_type": "code",
   "execution_count": 12,
   "metadata": {},
   "outputs": [],
   "source": [
    "chromeOptions = webdriver.ChromeOptions()\n",
    "driver = uc.Chrome(options=chromeOptions)"
   ]
  },
  {
   "cell_type": "code",
   "execution_count": 13,
   "metadata": {},
   "outputs": [],
   "source": [
    "for file in Path(\"./output/\").rglob(\"*.txt\"):\n",
    "    driver.get(\"https://gramener.com/indiamap/\")\n",
    "\n",
    "    textarea = driver.find_element(By.ID, \"data\")\n",
    "    textarea.clear()\n",
    "\n",
    "    pyperclip.copy(file.read_text())\n",
    "\n",
    "    textarea.send_keys(Keys.CONTROL, \"v\")    \n",
    "    # click the input box\n",
    "    driver.find_element(By.ID, \"invert\").click()\n",
    "    time.sleep(0.5)\n",
    "    iframe = driver.find_elements(By.TAG_NAME, \"iframe\")\n",
    "    iframe = [i for i in iframe if i.get_attribute(\"id\") == \"map\"][0]\n",
    "    orgFilePath = file.parent\n",
    "    iframe.screenshot(f\"{orgFilePath}/{file.stem}.png\")\n",
    "    # break\n",
    "    \n",
    "driver.quit()"
   ]
  }
 ],
 "metadata": {
  "kernelspec": {
   "display_name": "Python 3",
   "language": "python",
   "name": "python3"
  },
  "language_info": {
   "codemirror_mode": {
    "name": "ipython",
    "version": 3
   },
   "file_extension": ".py",
   "mimetype": "text/x-python",
   "name": "python",
   "nbconvert_exporter": "python",
   "pygments_lexer": "ipython3",
   "version": "3.11.3"
  },
  "orig_nbformat": 4
 },
 "nbformat": 4,
 "nbformat_minor": 2
}
