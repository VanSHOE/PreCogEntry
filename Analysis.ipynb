{
 "cells": [
  {
   "cell_type": "code",
   "execution_count": 72,
   "metadata": {},
   "outputs": [],
   "source": [
    "import csv\n",
    "import pandas as pd\n",
    "import numpy as np\n",
    "import plotly.express as px\n",
    "import plotly.io as pio\n",
    "import plotly.graph_objects as go\n",
    "\n",
    "# set default\n",
    "pio.templates.default = \"plotly_dark\""
   ]
  },
  {
   "cell_type": "code",
   "execution_count": 73,
   "metadata": {},
   "outputs": [
    {
     "name": "stderr",
     "output_type": "stream",
     "text": [
      "C:\\Users\\Rahul\\AppData\\Local\\Temp\\ipykernel_8592\\2377711653.py:2: DtypeWarning:\n",
      "\n",
      "Columns (17,36,37,38,39,40,41,42,43) have mixed types. Specify dtype option on import or set low_memory=False.\n",
      "\n"
     ]
    }
   ],
   "source": [
    "# read data\n",
    "df = pd.read_csv('All_States_GE.csv')\n",
    "df\n",
    "\n",
    "ed_map = {\n",
    "    \"Others\": 0,\n",
    "    \"Illiterate\": 1,\n",
    "    \"Literate\": 2,\n",
    "    \"5th Pass\": 3,\n",
    "    \"8th Pass\": 4,\n",
    "    \"10th Pass\": 5,\n",
    "    \"12th Pass\": 6,\n",
    "    \"Graduate\": 7,\n",
    "    \"Graduate Professional\": 8,\n",
    "    \"Post Graduate\": 9,\n",
    "    \"Doctorate\": 10\n",
    "}"
   ]
  },
  {
   "cell_type": "code",
   "execution_count": 74,
   "metadata": {},
   "outputs": [
    {
     "name": "stderr",
     "output_type": "stream",
     "text": [
      "C:\\Users\\Rahul\\AppData\\Local\\Temp\\ipykernel_8592\\2297257868.py:5: SettingWithCopyWarning:\n",
      "\n",
      "\n",
      "A value is trying to be set on a copy of a slice from a DataFrame.\n",
      "Try using .loc[row_indexer,col_indexer] = value instead\n",
      "\n",
      "See the caveats in the documentation: https://pandas.pydata.org/pandas-docs/stable/user_guide/indexing.html#returning-a-view-versus-a-copy\n",
      "\n",
      "C:\\Users\\Rahul\\AppData\\Local\\Temp\\ipykernel_8592\\2297257868.py:6: SettingWithCopyWarning:\n",
      "\n",
      "\n",
      "A value is trying to be set on a copy of a slice from a DataFrame.\n",
      "Try using .loc[row_indexer,col_indexer] = value instead\n",
      "\n",
      "See the caveats in the documentation: https://pandas.pydata.org/pandas-docs/stable/user_guide/indexing.html#returning-a-view-versus-a-copy\n",
      "\n"
     ]
    },
    {
     "data": {
      "text/html": [
       "<div>\n",
       "<style scoped>\n",
       "    .dataframe tbody tr th:only-of-type {\n",
       "        vertical-align: middle;\n",
       "    }\n",
       "\n",
       "    .dataframe tbody tr th {\n",
       "        vertical-align: top;\n",
       "    }\n",
       "\n",
       "    .dataframe thead th {\n",
       "        text-align: right;\n",
       "    }\n",
       "</style>\n",
       "<table border=\"1\" class=\"dataframe\">\n",
       "  <thead>\n",
       "    <tr style=\"text-align: right;\">\n",
       "      <th></th>\n",
       "      <th>State_Name</th>\n",
       "      <th>Assembly_No</th>\n",
       "      <th>Constituency_No</th>\n",
       "      <th>Year</th>\n",
       "      <th>month</th>\n",
       "      <th>Poll_No</th>\n",
       "      <th>DelimID</th>\n",
       "      <th>Position</th>\n",
       "      <th>Candidate</th>\n",
       "      <th>Sex</th>\n",
       "      <th>...</th>\n",
       "      <th>Incumbent</th>\n",
       "      <th>Recontest</th>\n",
       "      <th>MyNeta_education</th>\n",
       "      <th>TCPD_Prof_Main</th>\n",
       "      <th>TCPD_Prof_Main_Desc</th>\n",
       "      <th>TCPD_Prof_Second</th>\n",
       "      <th>TCPD_Prof_Second_Desc</th>\n",
       "      <th>Election_Type</th>\n",
       "      <th>SexInt</th>\n",
       "      <th>EducationInt</th>\n",
       "    </tr>\n",
       "  </thead>\n",
       "  <tbody>\n",
       "    <tr>\n",
       "      <th>0</th>\n",
       "      <td>Andaman_&amp;_Nicobar_Islands</td>\n",
       "      <td>17</td>\n",
       "      <td>1</td>\n",
       "      <td>2019</td>\n",
       "      <td>4.0</td>\n",
       "      <td>0</td>\n",
       "      <td>4</td>\n",
       "      <td>1</td>\n",
       "      <td>KULDEEP RAI SHARMA</td>\n",
       "      <td>M</td>\n",
       "      <td>...</td>\n",
       "      <td>False</td>\n",
       "      <td>True</td>\n",
       "      <td>Graduate Professional</td>\n",
       "      <td>Business</td>\n",
       "      <td>NaN</td>\n",
       "      <td>Social Work</td>\n",
       "      <td>NaN</td>\n",
       "      <td>Lok Sabha Election (GE)</td>\n",
       "      <td>0.0</td>\n",
       "      <td>8.0</td>\n",
       "    </tr>\n",
       "    <tr>\n",
       "      <th>1</th>\n",
       "      <td>Andaman_&amp;_Nicobar_Islands</td>\n",
       "      <td>17</td>\n",
       "      <td>1</td>\n",
       "      <td>2019</td>\n",
       "      <td>4.0</td>\n",
       "      <td>0</td>\n",
       "      <td>4</td>\n",
       "      <td>2</td>\n",
       "      <td>VISHAL JOLLY</td>\n",
       "      <td>M</td>\n",
       "      <td>...</td>\n",
       "      <td>False</td>\n",
       "      <td>False</td>\n",
       "      <td>Graduate Professional</td>\n",
       "      <td>Liberal Profession or Professional</td>\n",
       "      <td>Lawyer</td>\n",
       "      <td>NaN</td>\n",
       "      <td>NaN</td>\n",
       "      <td>Lok Sabha Election (GE)</td>\n",
       "      <td>0.0</td>\n",
       "      <td>8.0</td>\n",
       "    </tr>\n",
       "    <tr>\n",
       "      <th>2</th>\n",
       "      <td>Andaman_&amp;_Nicobar_Islands</td>\n",
       "      <td>17</td>\n",
       "      <td>1</td>\n",
       "      <td>2019</td>\n",
       "      <td>4.0</td>\n",
       "      <td>0</td>\n",
       "      <td>4</td>\n",
       "      <td>3</td>\n",
       "      <td>PARITOSH KUMAR HALDAR</td>\n",
       "      <td>M</td>\n",
       "      <td>...</td>\n",
       "      <td>False</td>\n",
       "      <td>False</td>\n",
       "      <td>Post Graduate</td>\n",
       "      <td>Agriculture</td>\n",
       "      <td>NaN</td>\n",
       "      <td>NaN</td>\n",
       "      <td>NaN</td>\n",
       "      <td>Lok Sabha Election (GE)</td>\n",
       "      <td>0.0</td>\n",
       "      <td>9.0</td>\n",
       "    </tr>\n",
       "    <tr>\n",
       "      <th>3</th>\n",
       "      <td>Andaman_&amp;_Nicobar_Islands</td>\n",
       "      <td>17</td>\n",
       "      <td>1</td>\n",
       "      <td>2019</td>\n",
       "      <td>4.0</td>\n",
       "      <td>0</td>\n",
       "      <td>4</td>\n",
       "      <td>4</td>\n",
       "      <td>SANJAY MESHACK</td>\n",
       "      <td>M</td>\n",
       "      <td>...</td>\n",
       "      <td>False</td>\n",
       "      <td>True</td>\n",
       "      <td>12th Pass</td>\n",
       "      <td>Business</td>\n",
       "      <td>NaN</td>\n",
       "      <td>Politics</td>\n",
       "      <td>Municipality Member</td>\n",
       "      <td>Lok Sabha Election (GE)</td>\n",
       "      <td>0.0</td>\n",
       "      <td>6.0</td>\n",
       "    </tr>\n",
       "    <tr>\n",
       "      <th>4</th>\n",
       "      <td>Andaman_&amp;_Nicobar_Islands</td>\n",
       "      <td>17</td>\n",
       "      <td>1</td>\n",
       "      <td>2019</td>\n",
       "      <td>4.0</td>\n",
       "      <td>0</td>\n",
       "      <td>4</td>\n",
       "      <td>5</td>\n",
       "      <td>PRAKASH MINJ</td>\n",
       "      <td>M</td>\n",
       "      <td>...</td>\n",
       "      <td>False</td>\n",
       "      <td>False</td>\n",
       "      <td>Post Graduate</td>\n",
       "      <td>Social Work</td>\n",
       "      <td>NaN</td>\n",
       "      <td>NaN</td>\n",
       "      <td>NaN</td>\n",
       "      <td>Lok Sabha Election (GE)</td>\n",
       "      <td>0.0</td>\n",
       "      <td>9.0</td>\n",
       "    </tr>\n",
       "    <tr>\n",
       "      <th>...</th>\n",
       "      <td>...</td>\n",
       "      <td>...</td>\n",
       "      <td>...</td>\n",
       "      <td>...</td>\n",
       "      <td>...</td>\n",
       "      <td>...</td>\n",
       "      <td>...</td>\n",
       "      <td>...</td>\n",
       "      <td>...</td>\n",
       "      <td>...</td>\n",
       "      <td>...</td>\n",
       "      <td>...</td>\n",
       "      <td>...</td>\n",
       "      <td>...</td>\n",
       "      <td>...</td>\n",
       "      <td>...</td>\n",
       "      <td>...</td>\n",
       "      <td>...</td>\n",
       "      <td>...</td>\n",
       "      <td>...</td>\n",
       "      <td>...</td>\n",
       "    </tr>\n",
       "    <tr>\n",
       "      <th>91646</th>\n",
       "      <td>Uttar_Pradesh</td>\n",
       "      <td>3</td>\n",
       "      <td>56</td>\n",
       "      <td>1964</td>\n",
       "      <td>NaN</td>\n",
       "      <td>1</td>\n",
       "      <td>1</td>\n",
       "      <td>1</td>\n",
       "      <td>V.L.PANDIT</td>\n",
       "      <td>F</td>\n",
       "      <td>...</td>\n",
       "      <td>False</td>\n",
       "      <td>False</td>\n",
       "      <td>NaN</td>\n",
       "      <td>NaN</td>\n",
       "      <td>NaN</td>\n",
       "      <td>NaN</td>\n",
       "      <td>NaN</td>\n",
       "      <td>Lok Sabha Election (GE)</td>\n",
       "      <td>1.0</td>\n",
       "      <td>NaN</td>\n",
       "    </tr>\n",
       "    <tr>\n",
       "      <th>91651</th>\n",
       "      <td>Andhra_Pradesh</td>\n",
       "      <td>3</td>\n",
       "      <td>40</td>\n",
       "      <td>1965</td>\n",
       "      <td>NaN</td>\n",
       "      <td>1</td>\n",
       "      <td>1</td>\n",
       "      <td>1</td>\n",
       "      <td>R.S.REDDY</td>\n",
       "      <td>M</td>\n",
       "      <td>...</td>\n",
       "      <td>False</td>\n",
       "      <td>False</td>\n",
       "      <td>NaN</td>\n",
       "      <td>NaN</td>\n",
       "      <td>NaN</td>\n",
       "      <td>NaN</td>\n",
       "      <td>NaN</td>\n",
       "      <td>Lok Sabha Election (GE)</td>\n",
       "      <td>0.0</td>\n",
       "      <td>NaN</td>\n",
       "    </tr>\n",
       "    <tr>\n",
       "      <th>91657</th>\n",
       "      <td>Mysore</td>\n",
       "      <td>3</td>\n",
       "      <td>19</td>\n",
       "      <td>1965</td>\n",
       "      <td>NaN</td>\n",
       "      <td>1</td>\n",
       "      <td>1</td>\n",
       "      <td>1</td>\n",
       "      <td>MALIMARIYAPPA</td>\n",
       "      <td>M</td>\n",
       "      <td>...</td>\n",
       "      <td>False</td>\n",
       "      <td>False</td>\n",
       "      <td>NaN</td>\n",
       "      <td>NaN</td>\n",
       "      <td>NaN</td>\n",
       "      <td>NaN</td>\n",
       "      <td>NaN</td>\n",
       "      <td>Lok Sabha Election (GE)</td>\n",
       "      <td>0.0</td>\n",
       "      <td>NaN</td>\n",
       "    </tr>\n",
       "    <tr>\n",
       "      <th>91658</th>\n",
       "      <td>Mysore</td>\n",
       "      <td>3</td>\n",
       "      <td>19</td>\n",
       "      <td>1965</td>\n",
       "      <td>NaN</td>\n",
       "      <td>1</td>\n",
       "      <td>1</td>\n",
       "      <td>2</td>\n",
       "      <td>K.V.SUBRAMANYASWAMY</td>\n",
       "      <td>M</td>\n",
       "      <td>...</td>\n",
       "      <td>False</td>\n",
       "      <td>True</td>\n",
       "      <td>NaN</td>\n",
       "      <td>NaN</td>\n",
       "      <td>NaN</td>\n",
       "      <td>NaN</td>\n",
       "      <td>NaN</td>\n",
       "      <td>Lok Sabha Election (GE)</td>\n",
       "      <td>0.0</td>\n",
       "      <td>NaN</td>\n",
       "    </tr>\n",
       "    <tr>\n",
       "      <th>91665</th>\n",
       "      <td>Uttar_Pradesh</td>\n",
       "      <td>3</td>\n",
       "      <td>76</td>\n",
       "      <td>1965</td>\n",
       "      <td>NaN</td>\n",
       "      <td>1</td>\n",
       "      <td>1</td>\n",
       "      <td>1</td>\n",
       "      <td>N.DEO</td>\n",
       "      <td>M</td>\n",
       "      <td>...</td>\n",
       "      <td>False</td>\n",
       "      <td>False</td>\n",
       "      <td>NaN</td>\n",
       "      <td>NaN</td>\n",
       "      <td>NaN</td>\n",
       "      <td>NaN</td>\n",
       "      <td>NaN</td>\n",
       "      <td>Lok Sabha Election (GE)</td>\n",
       "      <td>0.0</td>\n",
       "      <td>NaN</td>\n",
       "    </tr>\n",
       "  </tbody>\n",
       "</table>\n",
       "<p>89465 rows × 47 columns</p>\n",
       "</div>"
      ],
      "text/plain": [
       "                      State_Name  Assembly_No  Constituency_No  Year  month  \\\n",
       "0      Andaman_&_Nicobar_Islands           17                1  2019    4.0   \n",
       "1      Andaman_&_Nicobar_Islands           17                1  2019    4.0   \n",
       "2      Andaman_&_Nicobar_Islands           17                1  2019    4.0   \n",
       "3      Andaman_&_Nicobar_Islands           17                1  2019    4.0   \n",
       "4      Andaman_&_Nicobar_Islands           17                1  2019    4.0   \n",
       "...                          ...          ...              ...   ...    ...   \n",
       "91646              Uttar_Pradesh            3               56  1964    NaN   \n",
       "91651             Andhra_Pradesh            3               40  1965    NaN   \n",
       "91657                     Mysore            3               19  1965    NaN   \n",
       "91658                     Mysore            3               19  1965    NaN   \n",
       "91665              Uttar_Pradesh            3               76  1965    NaN   \n",
       "\n",
       "       Poll_No  DelimID  Position              Candidate Sex  ... Incumbent  \\\n",
       "0            0        4         1     KULDEEP RAI SHARMA   M  ...     False   \n",
       "1            0        4         2           VISHAL JOLLY   M  ...     False   \n",
       "2            0        4         3  PARITOSH KUMAR HALDAR   M  ...     False   \n",
       "3            0        4         4         SANJAY MESHACK   M  ...     False   \n",
       "4            0        4         5           PRAKASH MINJ   M  ...     False   \n",
       "...        ...      ...       ...                    ...  ..  ...       ...   \n",
       "91646        1        1         1             V.L.PANDIT   F  ...     False   \n",
       "91651        1        1         1              R.S.REDDY   M  ...     False   \n",
       "91657        1        1         1          MALIMARIYAPPA   M  ...     False   \n",
       "91658        1        1         2    K.V.SUBRAMANYASWAMY   M  ...     False   \n",
       "91665        1        1         1                  N.DEO   M  ...     False   \n",
       "\n",
       "       Recontest       MyNeta_education                      TCPD_Prof_Main  \\\n",
       "0           True  Graduate Professional                            Business   \n",
       "1          False  Graduate Professional  Liberal Profession or Professional   \n",
       "2          False          Post Graduate                         Agriculture   \n",
       "3           True              12th Pass                            Business   \n",
       "4          False          Post Graduate                         Social Work   \n",
       "...          ...                    ...                                 ...   \n",
       "91646      False                    NaN                                 NaN   \n",
       "91651      False                    NaN                                 NaN   \n",
       "91657      False                    NaN                                 NaN   \n",
       "91658       True                    NaN                                 NaN   \n",
       "91665      False                    NaN                                 NaN   \n",
       "\n",
       "       TCPD_Prof_Main_Desc TCPD_Prof_Second TCPD_Prof_Second_Desc  \\\n",
       "0                      NaN      Social Work                   NaN   \n",
       "1                   Lawyer              NaN                   NaN   \n",
       "2                      NaN              NaN                   NaN   \n",
       "3                      NaN         Politics   Municipality Member   \n",
       "4                      NaN              NaN                   NaN   \n",
       "...                    ...              ...                   ...   \n",
       "91646                  NaN              NaN                   NaN   \n",
       "91651                  NaN              NaN                   NaN   \n",
       "91657                  NaN              NaN                   NaN   \n",
       "91658                  NaN              NaN                   NaN   \n",
       "91665                  NaN              NaN                   NaN   \n",
       "\n",
       "                 Election_Type  SexInt  EducationInt  \n",
       "0      Lok Sabha Election (GE)     0.0           8.0  \n",
       "1      Lok Sabha Election (GE)     0.0           8.0  \n",
       "2      Lok Sabha Election (GE)     0.0           9.0  \n",
       "3      Lok Sabha Election (GE)     0.0           6.0  \n",
       "4      Lok Sabha Election (GE)     0.0           9.0  \n",
       "...                        ...     ...           ...  \n",
       "91646  Lok Sabha Election (GE)     1.0           NaN  \n",
       "91651  Lok Sabha Election (GE)     0.0           NaN  \n",
       "91657  Lok Sabha Election (GE)     0.0           NaN  \n",
       "91658  Lok Sabha Election (GE)     0.0           NaN  \n",
       "91665  Lok Sabha Election (GE)     0.0           NaN  \n",
       "\n",
       "[89465 rows x 47 columns]"
      ]
     },
     "execution_count": 74,
     "metadata": {},
     "output_type": "execute_result"
    }
   ],
   "source": [
    "# drop rows where sex is NaN\n",
    "fdf = df.dropna(subset=[\"Sex\", \"Votes\"])\n",
    "# Convert M and F to int values\n",
    "sex_mapping = {\"M\": 0, \"F\": 1, \"NOTA\": 2}\n",
    "fdf[\"SexInt\"] = fdf[\"Sex\"].map(sex_mapping)\n",
    "fdf[\"EducationInt\"] = fdf[\"MyNeta_education\"].map(ed_map)\n",
    "fdf"
   ]
  },
  {
   "cell_type": "code",
   "execution_count": 75,
   "metadata": {},
   "outputs": [
    {
     "data": {
      "text/plain": [
       "0.3741060992746316"
      ]
     },
     "execution_count": 75,
     "metadata": {},
     "output_type": "execute_result"
    }
   ],
   "source": [
    "# if someone has more votes, they are more likely to contest again. And if someone is contesting again, they are more likely to have more votes.\n",
    "fdf[\"Votes\"].corr(fdf[\"Contested\"])"
   ]
  },
  {
   "cell_type": "code",
   "execution_count": 76,
   "metadata": {},
   "outputs": [],
   "source": [
    "# avg of votes for women and men sectioned by Election Number\n",
    "elNumMFDict = {}\n",
    "for i in range(len(fdf)):\n",
    "    elNum = fdf.iloc[i][\"Assembly_No\"]\n",
    "    if elNum not in elNumMFDict:\n",
    "        elNumMFDict[elNum] = [0, 0, 0, 0]\n",
    "\n",
    "    if fdf.iloc[i][\"SexInt\"] == 0:\n",
    "        elNumMFDict[elNum][0] += fdf.iloc[i][\"Votes\"]\n",
    "        elNumMFDict[elNum][1] += 1\n",
    "    elif fdf.iloc[i][\"SexInt\"] == 1:\n",
    "        elNumMFDict[elNum][2] += fdf.iloc[i][\"Votes\"]\n",
    "        elNumMFDict[elNum][3] += 1\n"
   ]
  },
  {
   "cell_type": "code",
   "execution_count": 77,
   "metadata": {},
   "outputs": [
    {
     "data": {
      "application/vnd.plotly.v1+json": {
       "config": {
        "plotlyServerURL": "https://plot.ly"
       },
       "data": [
        {
         "mode": "lines",
         "name": "Male",
         "type": "scatter",
         "x": [
          17,
          16,
          15,
          14,
          13,
          12,
          11,
          10,
          9,
          8,
          7,
          6,
          5,
          4,
          3
         ],
         "y": [
          71789.19656254262,
          65360.66767134058,
          51030.4714417623,
          68998.6155378486,
          76245.91617421755,
          75813.3446969697,
          23580.038840017893,
          31102.24712166172,
          46951.90496977838,
          44465.72522944371,
          42180.03224371804,
          77061.95835086243,
          52333.74250832408,
          61130.736390912985,
          57284.31373569199
         ]
        },
        {
         "mode": "lines",
         "name": "Female",
         "type": "scatter",
         "x": [
          17,
          16,
          15,
          14,
          13,
          12,
          11,
          10,
          9,
          8,
          7,
          6,
          5,
          4,
          3
         ],
         "y": [
          113284.69463548831,
          96499.1381872214,
          69474.92768959436,
          100324.85714285714,
          109623.98344370861,
          104385.2688172043,
          40230.59180327869,
          58956.227138643066,
          104092.70935960591,
          87147.13888888889,
          72910.60666666667,
          93982.27631578948,
          70156.15384615384,
          96989.08450704225,
          79095.65333333334
         ]
        }
       ],
       "layout": {
        "hovermode": "x",
        "template": {
         "data": {
          "bar": [
           {
            "error_x": {
             "color": "#f2f5fa"
            },
            "error_y": {
             "color": "#f2f5fa"
            },
            "marker": {
             "line": {
              "color": "rgb(17,17,17)",
              "width": 0.5
             },
             "pattern": {
              "fillmode": "overlay",
              "size": 10,
              "solidity": 0.2
             }
            },
            "type": "bar"
           }
          ],
          "barpolar": [
           {
            "marker": {
             "line": {
              "color": "rgb(17,17,17)",
              "width": 0.5
             },
             "pattern": {
              "fillmode": "overlay",
              "size": 10,
              "solidity": 0.2
             }
            },
            "type": "barpolar"
           }
          ],
          "carpet": [
           {
            "aaxis": {
             "endlinecolor": "#A2B1C6",
             "gridcolor": "#506784",
             "linecolor": "#506784",
             "minorgridcolor": "#506784",
             "startlinecolor": "#A2B1C6"
            },
            "baxis": {
             "endlinecolor": "#A2B1C6",
             "gridcolor": "#506784",
             "linecolor": "#506784",
             "minorgridcolor": "#506784",
             "startlinecolor": "#A2B1C6"
            },
            "type": "carpet"
           }
          ],
          "choropleth": [
           {
            "colorbar": {
             "outlinewidth": 0,
             "ticks": ""
            },
            "type": "choropleth"
           }
          ],
          "contour": [
           {
            "colorbar": {
             "outlinewidth": 0,
             "ticks": ""
            },
            "colorscale": [
             [
              0,
              "#0d0887"
             ],
             [
              0.1111111111111111,
              "#46039f"
             ],
             [
              0.2222222222222222,
              "#7201a8"
             ],
             [
              0.3333333333333333,
              "#9c179e"
             ],
             [
              0.4444444444444444,
              "#bd3786"
             ],
             [
              0.5555555555555556,
              "#d8576b"
             ],
             [
              0.6666666666666666,
              "#ed7953"
             ],
             [
              0.7777777777777778,
              "#fb9f3a"
             ],
             [
              0.8888888888888888,
              "#fdca26"
             ],
             [
              1,
              "#f0f921"
             ]
            ],
            "type": "contour"
           }
          ],
          "contourcarpet": [
           {
            "colorbar": {
             "outlinewidth": 0,
             "ticks": ""
            },
            "type": "contourcarpet"
           }
          ],
          "heatmap": [
           {
            "colorbar": {
             "outlinewidth": 0,
             "ticks": ""
            },
            "colorscale": [
             [
              0,
              "#0d0887"
             ],
             [
              0.1111111111111111,
              "#46039f"
             ],
             [
              0.2222222222222222,
              "#7201a8"
             ],
             [
              0.3333333333333333,
              "#9c179e"
             ],
             [
              0.4444444444444444,
              "#bd3786"
             ],
             [
              0.5555555555555556,
              "#d8576b"
             ],
             [
              0.6666666666666666,
              "#ed7953"
             ],
             [
              0.7777777777777778,
              "#fb9f3a"
             ],
             [
              0.8888888888888888,
              "#fdca26"
             ],
             [
              1,
              "#f0f921"
             ]
            ],
            "type": "heatmap"
           }
          ],
          "heatmapgl": [
           {
            "colorbar": {
             "outlinewidth": 0,
             "ticks": ""
            },
            "colorscale": [
             [
              0,
              "#0d0887"
             ],
             [
              0.1111111111111111,
              "#46039f"
             ],
             [
              0.2222222222222222,
              "#7201a8"
             ],
             [
              0.3333333333333333,
              "#9c179e"
             ],
             [
              0.4444444444444444,
              "#bd3786"
             ],
             [
              0.5555555555555556,
              "#d8576b"
             ],
             [
              0.6666666666666666,
              "#ed7953"
             ],
             [
              0.7777777777777778,
              "#fb9f3a"
             ],
             [
              0.8888888888888888,
              "#fdca26"
             ],
             [
              1,
              "#f0f921"
             ]
            ],
            "type": "heatmapgl"
           }
          ],
          "histogram": [
           {
            "marker": {
             "pattern": {
              "fillmode": "overlay",
              "size": 10,
              "solidity": 0.2
             }
            },
            "type": "histogram"
           }
          ],
          "histogram2d": [
           {
            "colorbar": {
             "outlinewidth": 0,
             "ticks": ""
            },
            "colorscale": [
             [
              0,
              "#0d0887"
             ],
             [
              0.1111111111111111,
              "#46039f"
             ],
             [
              0.2222222222222222,
              "#7201a8"
             ],
             [
              0.3333333333333333,
              "#9c179e"
             ],
             [
              0.4444444444444444,
              "#bd3786"
             ],
             [
              0.5555555555555556,
              "#d8576b"
             ],
             [
              0.6666666666666666,
              "#ed7953"
             ],
             [
              0.7777777777777778,
              "#fb9f3a"
             ],
             [
              0.8888888888888888,
              "#fdca26"
             ],
             [
              1,
              "#f0f921"
             ]
            ],
            "type": "histogram2d"
           }
          ],
          "histogram2dcontour": [
           {
            "colorbar": {
             "outlinewidth": 0,
             "ticks": ""
            },
            "colorscale": [
             [
              0,
              "#0d0887"
             ],
             [
              0.1111111111111111,
              "#46039f"
             ],
             [
              0.2222222222222222,
              "#7201a8"
             ],
             [
              0.3333333333333333,
              "#9c179e"
             ],
             [
              0.4444444444444444,
              "#bd3786"
             ],
             [
              0.5555555555555556,
              "#d8576b"
             ],
             [
              0.6666666666666666,
              "#ed7953"
             ],
             [
              0.7777777777777778,
              "#fb9f3a"
             ],
             [
              0.8888888888888888,
              "#fdca26"
             ],
             [
              1,
              "#f0f921"
             ]
            ],
            "type": "histogram2dcontour"
           }
          ],
          "mesh3d": [
           {
            "colorbar": {
             "outlinewidth": 0,
             "ticks": ""
            },
            "type": "mesh3d"
           }
          ],
          "parcoords": [
           {
            "line": {
             "colorbar": {
              "outlinewidth": 0,
              "ticks": ""
             }
            },
            "type": "parcoords"
           }
          ],
          "pie": [
           {
            "automargin": true,
            "type": "pie"
           }
          ],
          "scatter": [
           {
            "marker": {
             "line": {
              "color": "#283442"
             }
            },
            "type": "scatter"
           }
          ],
          "scatter3d": [
           {
            "line": {
             "colorbar": {
              "outlinewidth": 0,
              "ticks": ""
             }
            },
            "marker": {
             "colorbar": {
              "outlinewidth": 0,
              "ticks": ""
             }
            },
            "type": "scatter3d"
           }
          ],
          "scattercarpet": [
           {
            "marker": {
             "colorbar": {
              "outlinewidth": 0,
              "ticks": ""
             }
            },
            "type": "scattercarpet"
           }
          ],
          "scattergeo": [
           {
            "marker": {
             "colorbar": {
              "outlinewidth": 0,
              "ticks": ""
             }
            },
            "type": "scattergeo"
           }
          ],
          "scattergl": [
           {
            "marker": {
             "line": {
              "color": "#283442"
             }
            },
            "type": "scattergl"
           }
          ],
          "scattermapbox": [
           {
            "marker": {
             "colorbar": {
              "outlinewidth": 0,
              "ticks": ""
             }
            },
            "type": "scattermapbox"
           }
          ],
          "scatterpolar": [
           {
            "marker": {
             "colorbar": {
              "outlinewidth": 0,
              "ticks": ""
             }
            },
            "type": "scatterpolar"
           }
          ],
          "scatterpolargl": [
           {
            "marker": {
             "colorbar": {
              "outlinewidth": 0,
              "ticks": ""
             }
            },
            "type": "scatterpolargl"
           }
          ],
          "scatterternary": [
           {
            "marker": {
             "colorbar": {
              "outlinewidth": 0,
              "ticks": ""
             }
            },
            "type": "scatterternary"
           }
          ],
          "surface": [
           {
            "colorbar": {
             "outlinewidth": 0,
             "ticks": ""
            },
            "colorscale": [
             [
              0,
              "#0d0887"
             ],
             [
              0.1111111111111111,
              "#46039f"
             ],
             [
              0.2222222222222222,
              "#7201a8"
             ],
             [
              0.3333333333333333,
              "#9c179e"
             ],
             [
              0.4444444444444444,
              "#bd3786"
             ],
             [
              0.5555555555555556,
              "#d8576b"
             ],
             [
              0.6666666666666666,
              "#ed7953"
             ],
             [
              0.7777777777777778,
              "#fb9f3a"
             ],
             [
              0.8888888888888888,
              "#fdca26"
             ],
             [
              1,
              "#f0f921"
             ]
            ],
            "type": "surface"
           }
          ],
          "table": [
           {
            "cells": {
             "fill": {
              "color": "#506784"
             },
             "line": {
              "color": "rgb(17,17,17)"
             }
            },
            "header": {
             "fill": {
              "color": "#2a3f5f"
             },
             "line": {
              "color": "rgb(17,17,17)"
             }
            },
            "type": "table"
           }
          ]
         },
         "layout": {
          "annotationdefaults": {
           "arrowcolor": "#f2f5fa",
           "arrowhead": 0,
           "arrowwidth": 1
          },
          "autotypenumbers": "strict",
          "coloraxis": {
           "colorbar": {
            "outlinewidth": 0,
            "ticks": ""
           }
          },
          "colorscale": {
           "diverging": [
            [
             0,
             "#8e0152"
            ],
            [
             0.1,
             "#c51b7d"
            ],
            [
             0.2,
             "#de77ae"
            ],
            [
             0.3,
             "#f1b6da"
            ],
            [
             0.4,
             "#fde0ef"
            ],
            [
             0.5,
             "#f7f7f7"
            ],
            [
             0.6,
             "#e6f5d0"
            ],
            [
             0.7,
             "#b8e186"
            ],
            [
             0.8,
             "#7fbc41"
            ],
            [
             0.9,
             "#4d9221"
            ],
            [
             1,
             "#276419"
            ]
           ],
           "sequential": [
            [
             0,
             "#0d0887"
            ],
            [
             0.1111111111111111,
             "#46039f"
            ],
            [
             0.2222222222222222,
             "#7201a8"
            ],
            [
             0.3333333333333333,
             "#9c179e"
            ],
            [
             0.4444444444444444,
             "#bd3786"
            ],
            [
             0.5555555555555556,
             "#d8576b"
            ],
            [
             0.6666666666666666,
             "#ed7953"
            ],
            [
             0.7777777777777778,
             "#fb9f3a"
            ],
            [
             0.8888888888888888,
             "#fdca26"
            ],
            [
             1,
             "#f0f921"
            ]
           ],
           "sequentialminus": [
            [
             0,
             "#0d0887"
            ],
            [
             0.1111111111111111,
             "#46039f"
            ],
            [
             0.2222222222222222,
             "#7201a8"
            ],
            [
             0.3333333333333333,
             "#9c179e"
            ],
            [
             0.4444444444444444,
             "#bd3786"
            ],
            [
             0.5555555555555556,
             "#d8576b"
            ],
            [
             0.6666666666666666,
             "#ed7953"
            ],
            [
             0.7777777777777778,
             "#fb9f3a"
            ],
            [
             0.8888888888888888,
             "#fdca26"
            ],
            [
             1,
             "#f0f921"
            ]
           ]
          },
          "colorway": [
           "#636efa",
           "#EF553B",
           "#00cc96",
           "#ab63fa",
           "#FFA15A",
           "#19d3f3",
           "#FF6692",
           "#B6E880",
           "#FF97FF",
           "#FECB52"
          ],
          "font": {
           "color": "#f2f5fa"
          },
          "geo": {
           "bgcolor": "rgb(17,17,17)",
           "lakecolor": "rgb(17,17,17)",
           "landcolor": "rgb(17,17,17)",
           "showlakes": true,
           "showland": true,
           "subunitcolor": "#506784"
          },
          "hoverlabel": {
           "align": "left"
          },
          "hovermode": "closest",
          "mapbox": {
           "style": "dark"
          },
          "paper_bgcolor": "rgb(17,17,17)",
          "plot_bgcolor": "rgb(17,17,17)",
          "polar": {
           "angularaxis": {
            "gridcolor": "#506784",
            "linecolor": "#506784",
            "ticks": ""
           },
           "bgcolor": "rgb(17,17,17)",
           "radialaxis": {
            "gridcolor": "#506784",
            "linecolor": "#506784",
            "ticks": ""
           }
          },
          "scene": {
           "xaxis": {
            "backgroundcolor": "rgb(17,17,17)",
            "gridcolor": "#506784",
            "gridwidth": 2,
            "linecolor": "#506784",
            "showbackground": true,
            "ticks": "",
            "zerolinecolor": "#C8D4E3"
           },
           "yaxis": {
            "backgroundcolor": "rgb(17,17,17)",
            "gridcolor": "#506784",
            "gridwidth": 2,
            "linecolor": "#506784",
            "showbackground": true,
            "ticks": "",
            "zerolinecolor": "#C8D4E3"
           },
           "zaxis": {
            "backgroundcolor": "rgb(17,17,17)",
            "gridcolor": "#506784",
            "gridwidth": 2,
            "linecolor": "#506784",
            "showbackground": true,
            "ticks": "",
            "zerolinecolor": "#C8D4E3"
           }
          },
          "shapedefaults": {
           "line": {
            "color": "#f2f5fa"
           }
          },
          "sliderdefaults": {
           "bgcolor": "#C8D4E3",
           "bordercolor": "rgb(17,17,17)",
           "borderwidth": 1,
           "tickwidth": 0
          },
          "ternary": {
           "aaxis": {
            "gridcolor": "#506784",
            "linecolor": "#506784",
            "ticks": ""
           },
           "baxis": {
            "gridcolor": "#506784",
            "linecolor": "#506784",
            "ticks": ""
           },
           "bgcolor": "rgb(17,17,17)",
           "caxis": {
            "gridcolor": "#506784",
            "linecolor": "#506784",
            "ticks": ""
           }
          },
          "title": {
           "x": 0.05
          },
          "updatemenudefaults": {
           "bgcolor": "#506784",
           "borderwidth": 0
          },
          "xaxis": {
           "automargin": true,
           "gridcolor": "#283442",
           "linecolor": "#506784",
           "ticks": "",
           "title": {
            "standoff": 15
           },
           "zerolinecolor": "#283442",
           "zerolinewidth": 2
          },
          "yaxis": {
           "automargin": true,
           "gridcolor": "#283442",
           "linecolor": "#506784",
           "ticks": "",
           "title": {
            "standoff": 15
           },
           "zerolinecolor": "#283442",
           "zerolinewidth": 2
          }
         }
        },
        "title": {
         "text": "Male and Female Average Votes"
        },
        "xaxis": {
         "title": {
          "text": "X Axis"
         }
        },
        "yaxis": {
         "title": {
          "text": "Values"
         }
        }
       }
      }
     },
     "metadata": {},
     "output_type": "display_data"
    }
   ],
   "source": [
    "avgDict = {}\n",
    "for elNum in elNumMFDict:\n",
    "    avgDict[elNum] = [elNumMFDict[elNum][0] / elNumMFDict[elNum][1],\n",
    "                      elNumMFDict[elNum][2] / elNumMFDict[elNum][3]]\n",
    "    \n",
    "avgDict\n",
    "\n",
    "# plot 2 line graphs\n",
    "keys = list(avgDict.keys())\n",
    "line1 = [point[0] for point in avgDict.values()]\n",
    "line2 = [point[1] for point in avgDict.values()]\n",
    "\n",
    "fig = go.Figure()\n",
    "\n",
    "fig.add_trace(go.Scatter(x=keys, y=line1, mode='lines', name='Male'))\n",
    "fig.add_trace(go.Scatter(x=keys, y=line2, mode='lines', name='Female'))\n",
    "\n",
    "fig.update_layout(title='Male and Female Average Votes',\n",
    "                  xaxis_title='X Axis',\n",
    "                  yaxis_title='Values',\n",
    "                  hovermode='x')\n",
    "\n",
    "fig.show()\n"
   ]
  },
  {
   "cell_type": "code",
   "execution_count": 78,
   "metadata": {},
   "outputs": [
    {
     "data": {
      "text/plain": [
       "{'Andaman_&_Nicobar_Islands': {17: [205266.0, 14, 618.0, 1],\n",
       "  16: [185330.0, 13, 3434.0, 2],\n",
       "  15: [165407.0, 10, 4696.0, 1],\n",
       "  14: [151461.0, 11, 2364.0, 1],\n",
       "  13: [144776.0, 4, 1015.0, 1],\n",
       "  12: [145836.0, 6, 0, 0],\n",
       "  11: [128212.0, 11, 0, 0],\n",
       "  10: [107316.0, 5, 0, 0],\n",
       "  9: [112512.0, 6, 553.0, 1],\n",
       "  8: [77882.0, 5, 11086.0, 1],\n",
       "  7: [78899.0, 10, 0, 0],\n",
       "  6: [60568.0, 2, 0, 0],\n",
       "  5: [44525.0, 5, 0, 0],\n",
       "  4: [36732.0, 6, 0, 0]},\n",
       " 'Andhra_Pradesh': {17: [27478877.0, 292, 3664835.0, 27],\n",
       "  16: [45536785.0, 562, 3868378.0, 43],\n",
       "  15: [38550139.0, 531, 4032754.0, 39],\n",
       "  14: [36162200.0, 304, 4217868.0, 25],\n",
       "  13: [30254823.0, 269, 3487118.0, 19],\n",
       "  12: [30015915.0, 372, 1882996.0, 18],\n",
       "  11: [28222260.0, 1375, 2951102.0, 92],\n",
       "  10: [24301378.0, 585, 2107428.0, 26],\n",
       "  9: [26419821.0, 260, 2345098.0, 7],\n",
       "  8: [21322242.0, 294, 1470602.0, 9],\n",
       "  7: [15811675.0, 259, 1096117.0, 12],\n",
       "  6: [16849778.0, 166, 500318.0, 4],\n",
       "  5: [12634926.0, 200, 438457.0, 7],\n",
       "  4: [13136073.0, 161, 611488.0, 4],\n",
       "  3: [11307120.0, 141, 762057.0, 7]},\n",
       " 'Arunachal_Pradesh': {17: [600707.0, 11, 43920.0, 1],\n",
       "  16: [590635.0, 11, 0, 0],\n",
       "  15: [500642.0, 8, 0, 0],\n",
       "  14: [384928.0, 13, 0, 0],\n",
       "  13: [425663.0, 6, 0, 0],\n",
       "  12: [328764.0, 7, 0, 0],\n",
       "  11: [293448.0, 10, 0, 0],\n",
       "  10: [260901.0, 7, 0, 0],\n",
       "  9: [273130.0, 6, 0, 0],\n",
       "  8: [226546.0, 9, 0, 0],\n",
       "  7: [173579.0, 8, 0, 0],\n",
       "  6: [50690.0, 4, 0, 0]},\n",
       " 'Assam': {17: [15228320.0, 131, 2579393.0, 14],\n",
       "  16: [13122729.0, 150, 1867289.0, 16],\n",
       "  15: [11182273.0, 146, 958898.0, 12],\n",
       "  14: [9887790.0, 109, 484299.0, 7],\n",
       "  13: [9628048.0, 110, 871844.0, 10],\n",
       "  12: [7682396.0, 97, 693267.0, 4],\n",
       "  11: [8627898.0, 127, 796611.0, 10],\n",
       "  10: [8246092.0, 158, 211894.0, 9],\n",
       "  8: [7366671.0, 101, 101564.0, 5],\n",
       "  7: [413003.0, 5, 220957.0, 2],\n",
       "  6: [3420136.0, 36, 403174.0, 4],\n",
       "  5: [2745931.0, 71, 280609.0, 7],\n",
       "  4: [2871961.0, 46, 178371.0, 2],\n",
       "  3: [2259350.0, 38, 235961.0, 3]},\n",
       " 'Bihar': {17: [35738632.0, 570, 4251079.0, 56],\n",
       "  16: [32459610.0, 563, 3822560.0, 47],\n",
       "  15: [22821624.0, 632, 2111761.0, 46],\n",
       "  14: [28995941.0, 472, 1685018.0, 14],\n",
       "  13: [34070793.0, 508, 2864856.0, 21],\n",
       "  12: [34558900.0, 447, 2815516.0, 22],\n",
       "  11: [32336774.0, 1407, 1884508.0, 41],\n",
       "  10: [27958644.0, 1179, 1982773.0, 36],\n",
       "  9: [28616643.0, 693, 2236850.0, 18],\n",
       "  8: [23170494.0, 666, 2703417.0, 15],\n",
       "  7: [18767661.0, 576, 1845840.0, 20],\n",
       "  6: [20766807.0, 332, 351653.0, 9],\n",
       "  5: [14335581.0, 400, 559839.0, 21],\n",
       "  4: [13277665.0, 308, 600766.0, 12],\n",
       "  3: [9395126.0, 225, 734007.0, 10]},\n",
       " 'Chandigarh': {17: [218556.0, 27, 233677.0, 9],\n",
       "  16: [131334.0, 12, 319015.0, 5],\n",
       "  15: [342630.0, 13, 927.0, 1],\n",
       "  14: [268189.0, 16, 481.0, 1],\n",
       "  13: [281802.0, 13, 1014.0, 3],\n",
       "  12: [281475.0, 16, 1280.0, 2],\n",
       "  11: [259007.0, 48, 0, 0],\n",
       "  10: [213116.0, 54, 546.0, 1],\n",
       "  9: [216903.0, 27, 0, 0],\n",
       "  8: [155326.0, 31, 817.0, 2],\n",
       "  7: [115037.0, 37, 9078.0, 2],\n",
       "  6: [104600.0, 9, 2481.0, 1],\n",
       "  5: [72302.0, 11, 0, 0],\n",
       "  4: [49155.0, 10, 0, 0]},\n",
       " 'Chhattisgarh': {17: [10989457.0, 143, 2428731.0, 23],\n",
       "  16: [9583407.0, 190, 2447283.0, 21],\n",
       "  15: [7243707.0, 164, 1597827.0, 15],\n",
       "  14: [7298127.0, 105, 582924.0, 12]},\n",
       " 'Dadra_&_Nagar_Haveli': {17: [192033.0, 10, 4000.0, 1],\n",
       "  16: [161906.0, 10, 418.0, 1],\n",
       "  15: [110363.0, 5, 0, 0],\n",
       "  14: [83762.0, 9, 941.0, 1],\n",
       "  13: [71905.0, 5, 0, 0],\n",
       "  12: [72531.0, 4, 0, 0],\n",
       "  11: [70809.0, 5, 0, 0],\n",
       "  10: [31297.0, 4, 17142.0, 1],\n",
       "  9: [43371.0, 4, 8627.0, 1],\n",
       "  8: [38380.0, 4, 0, 0],\n",
       "  7: [26756.0, 3, 4390.0, 1],\n",
       "  6: [24131.0, 3, 0, 0],\n",
       "  5: [21658.0, 3, 0, 0],\n",
       "  4: [21248.0, 5, 0, 0]},\n",
       " 'Daman_&_Diu': {17: [85982.0, 4, 0, 0],\n",
       "  16: [85917.0, 4, 0, 0],\n",
       "  15: [68024.0, 7, 0, 0],\n",
       "  14: [55591.0, 3, 0, 0],\n",
       "  13: [50800.0, 4, 0, 0],\n",
       "  12: [51499.0, 4, 97.0, 1],\n",
       "  11: [48488.0, 9, 0, 0],\n",
       "  10: [36856.0, 10, 1081.0, 2],\n",
       "  9: [29806.0, 4, 6732.0, 1]},\n",
       " 'Delhi': {17: [7478785.0, 148, 1154573.0, 16],\n",
       "  16: [7036244.0, 137, 1195832.0, 13],\n",
       "  15: [4948463.0, 142, 804584.0, 18],\n",
       "  14: [3826413.0, 114, 299419.0, 15],\n",
       "  13: [3545803.0, 90, 247685.0, 7],\n",
       "  12: [3208787.0, 122, 1008295.0, 10],\n",
       "  11: [4110748.0, 518, 452276.0, 24],\n",
       "  10: [2787670.0, 482, 125193.0, 20],\n",
       "  9: [2947281.0, 228, 100035.0, 9],\n",
       "  8: [2068585.0, 180, 155398.0, 9],\n",
       "  7: [1960824.0, 163, 3614.0, 5],\n",
       "  6: [1724974.0, 37, 73021.0, 4],\n",
       "  5: [1127110.0, 62, 170774.0, 2],\n",
       "  4: [1108396.0, 45, 12765.0, 1],\n",
       "  3: [894149.0, 28, 0, 0]},\n",
       " 'Goa': {17: [836814.0, 10, 3890.0, 2],\n",
       "  16: [794861.0, 17, 12036.0, 2],\n",
       "  15: [559267.0, 16, 4988.0, 2],\n",
       "  14: [747811.0, 19, 5881.0, 1],\n",
       "  13: [408387.0, 15, 1407.0, 1],\n",
       "  12: [532226.0, 11, 540.0, 1],\n",
       "  11: [482631.0, 30, 0, 0],\n",
       "  10: [314039.0, 31, 627.0, 2],\n",
       "  9: [417685.0, 25, 0, 0]},\n",
       " 'Gujarat': {17: [23939074.0, 342, 4739441.0, 28],\n",
       "  16: [22698263.0, 318, 3197618.0, 17],\n",
       "  15: [16781620.0, 342, 1549370.0, 26],\n",
       "  14: [13866228.0, 151, 1344676.0, 11],\n",
       "  13: [13669205.0, 161, 1378357.0, 8],\n",
       "  12: [15573611.0, 141, 1335582.0, 7],\n",
       "  11: [9949556.0, 565, 546041.0, 19],\n",
       "  10: [10079082.0, 403, 629795.0, 17],\n",
       "  9: [12219243.0, 252, 723756.0, 9],\n",
       "  8: [10347282.0, 220, 372488.0, 11],\n",
       "  7: [8731120.0, 163, 122891.0, 6],\n",
       "  6: [7727698.0, 110, 384673.0, 2],\n",
       "  5: [6240739.0, 118, 1325.0, 1],\n",
       "  4: [6590568.0, 82, 117812.0, 1],\n",
       "  3: [4683029.0, 62, 599529.0, 6]},\n",
       " 'Haryana': {17: [11029776.0, 212, 1609979.0, 11],\n",
       "  16: [11022341.0, 219, 438590.0, 11],\n",
       "  15: [7883501.0, 199, 778978.0, 14],\n",
       "  14: [7823432.0, 166, 800968.0, 9],\n",
       "  13: [6108337.0, 111, 864702.0, 3],\n",
       "  12: [7001754.0, 134, 551050.0, 6],\n",
       "  11: [7076624.0, 285, 535019.0, 9],\n",
       "  10: [5880215.0, 192, 326578.0, 6],\n",
       "  9: [5835669.0, 319, 268046.0, 4],\n",
       "  8: [5403462.0, 192, 316190.0, 11],\n",
       "  7: [4140189.0, 132, 241096.0, 5],\n",
       "  6: [3797405.0, 49, 355812.0, 2],\n",
       "  5: [2992538.0, 63, 0, 0],\n",
       "  4: [2932916.0, 66, 119303.0, 1]},\n",
       " 'Himachal_Pradesh': {17: [3816326.0, 44, 1398.0, 1],\n",
       "  16: [2724155.0, 33, 345190.0, 5],\n",
       "  15: [2917690.0, 33, 354846.0, 2],\n",
       "  14: [3421177.0, 31, 363189.0, 2],\n",
       "  13: [2129560.0, 21, 4144.0, 1],\n",
       "  12: [2208290.0, 21, 172378.0, 1],\n",
       "  11: [2017604.0, 52, 1493.0, 2],\n",
       "  10: [1586530.0, 44, 165375.0, 2],\n",
       "  9: [1706079.0, 32, 175943.0, 1],\n",
       "  8: [1162552.0, 30, 232287.0, 1],\n",
       "  7: [1253869.0, 29, 0, 0],\n",
       "  6: [1138893.0, 14, 0, 0],\n",
       "  5: [675718.0, 19, 6344.0, 1],\n",
       "  4: [776764.0, 25, 0, 0],\n",
       "  3: [222308.0, 10, 20600.0, 1]},\n",
       " 'Jammu_&_Kashmir': {17: [3498244.0, 76, 32639.0, 3],\n",
       "  16: [3418512.0, 76, 203135.0, 3],\n",
       "  15: [2568992.0, 75, 38343.0, 6],\n",
       "  14: [2161065.0, 79, 78277.0, 4],\n",
       "  13: [2278521.0, 93, 20278.0, 6],\n",
       "  12: [2146871.0, 84, 11726.0, 2],\n",
       "  11: [2008173.0, 102, 67707.0, 8],\n",
       "  9: [1045691.0, 62, 430.0, 1],\n",
       "  8: [1947183.0, 47, 240973.0, 1],\n",
       "  7: [1337003.0, 29, 0, 0],\n",
       "  6: [1191122.0, 27, 233202.0, 2],\n",
       "  5: [1166746.0, 32, 0, 0],\n",
       "  4: [1099953.0, 16, 0, 0]},\n",
       " 'Jharkhand': {17: [13379501.0, 204, 1393092.0, 25],\n",
       "  16: [12304789.0, 222, 487224.0, 18],\n",
       "  15: [9084524.0, 241, 359358.0, 15],\n",
       "  14: [10121350.0, 208, 1315735.0, 15]},\n",
       " 'Karnataka': {17: [33077193.0, 460, 2822295.0, 28],\n",
       "  16: [28847130.0, 413, 1930249.0, 20],\n",
       "  15: [24967808.0, 414, 1491664.0, 20],\n",
       "  14: [24458156.0, 170, 1600739.0, 10],\n",
       "  13: [22419095.0, 139, 1830056.0, 12],\n",
       "  12: [20256192.0, 190, 846478.0, 10],\n",
       "  11: [17933328.0, 907, 781038.0, 71],\n",
       "  10: [14474436.0, 376, 928484.0, 15],\n",
       "  9: [17789795.0, 230, 633218.0, 12],\n",
       "  8: [12954117.0, 327, 552880.0, 7],\n",
       "  7: [10980195.0, 190, 111575.0, 1],\n",
       "  6: [9902342.0, 95, 617392.0, 5]},\n",
       " 'Kerala': {17: [18146482.0, 202, 2134644.0, 24],\n",
       "  16: [16188691.0, 242, 2157646.0, 29],\n",
       "  15: [14878557.0, 202, 1156318.0, 15],\n",
       "  14: [14128137.0, 176, 1717528.0, 16],\n",
       "  13: [15208802.0, 136, 899899.0, 13],\n",
       "  12: [13342258.0, 110, 1519567.0, 10],\n",
       "  11: [14230283.0, 230, 693540.0, 10],\n",
       "  10: [12873096.0, 169, 1380059.0, 10],\n",
       "  9: [13505798.0, 210, 1406743.0, 8],\n",
       "  8: [10599406.0, 144, 293605.0, 7],\n",
       "  7: [7906143.0, 91, 262513.0, 2],\n",
       "  6: [8618309.0, 60, 237864.0, 3],\n",
       "  5: [6136489.0, 64, 392374.0, 3],\n",
       "  4: [6138807.0, 59, 337800.0, 3],\n",
       "  3: [5394561.0, 49, 134422.0, 1]},\n",
       " 'Lakshadweep': {17: [46909.0, 6, 0, 0],\n",
       "  16: [43116.0, 6, 0, 0],\n",
       "  15: [39498.0, 4, 0, 0],\n",
       "  14: [31820.0, 4, 0, 0],\n",
       "  13: [29860.0, 4, 0, 0],\n",
       "  12: [31064.0, 2, 0, 0],\n",
       "  11: [30188.0, 2, 0, 0],\n",
       "  10: [25321.0, 2, 0, 0],\n",
       "  9: [25490.0, 2, 0, 0],\n",
       "  8: [19023.0, 2, 0, 0],\n",
       "  7: [17772.0, 3, 0, 0],\n",
       "  6: [16386.0, 2, 0, 0],\n",
       "  5: [0.0, 1, 0, 0],\n",
       "  4: [11807.0, 5, 0, 0]},\n",
       " 'Madhya_Pradesh': {17: [31664419.0, 398, 4905207.0, 40],\n",
       "  16: [25420464.0, 345, 4906315.0, 37],\n",
       "  15: [17253594.0, 400, 2231014.0, 29],\n",
       "  14: [18943778.0, 328, 2739961.0, 36],\n",
       "  13: [23614962.0, 330, 2463119.0, 23],\n",
       "  12: [24519753.0, 370, 2410254.0, 30],\n",
       "  11: [20723366.0, 1193, 2871726.0, 76],\n",
       "  10: [15405653.0, 645, 1610173.0, 40],\n",
       "  9: [17741976.0, 469, 1932437.0, 21],\n",
       "  8: [14682563.0, 387, 907210.0, 11],\n",
       "  7: [12001701.0, 351, 738610.0, 9],\n",
       "  6: [11707402.0, 151, 104993.0, 1],\n",
       "  5: [8212159.0, 162, 619598.0, 8],\n",
       "  4: [8253500.0, 164, 1274264.0, 12],\n",
       "  3: [6034564.0, 149, 716524.0, 11]},\n",
       " 'Maharashtra': {17: [46846547.0, 788, 6718932.0, 79],\n",
       "  16: [45898820.0, 833, 4921312.0, 70],\n",
       "  15: [34268204.0, 764, 2723107.0, 55],\n",
       "  14: [34657726.0, 446, 3064900.0, 34],\n",
       "  13: [31819859.0, 252, 1825439.0, 19],\n",
       "  12: [29614806.0, 356, 1877484.0, 21],\n",
       "  11: [26887503.0, 1023, 1473733.0, 42],\n",
       "  10: [22530712.0, 829, 1281891.0, 34],\n",
       "  9: [26023663.0, 573, 1525427.0, 20],\n",
       "  8: [21231218.0, 488, 1058935.0, 12],\n",
       "  7: [17558236.0, 398, 1120198.0, 18],\n",
       "  6: [16093833.0, 202, 797516.0, 9],\n",
       "  5: [14054042.0, 233, 171479.0, 4],\n",
       "  4: [13364010.0, 182, 497951.0, 4],\n",
       "  3: [10959579.0, 166, 189036.0, 3]},\n",
       " 'Manipur': {17: [1611941.0, 19, 0, 0],\n",
       "  16: [1385366.0, 16, 19766.0, 2],\n",
       "  15: [1332246.0, 13, 7153.0, 3],\n",
       "  14: [958502.0, 11, 77055.0, 1],\n",
       "  13: [856791.0, 16, 36857.0, 2],\n",
       "  12: [652804.0, 14, 97012.0, 1],\n",
       "  11: [742700.0, 25, 216280.0, 3],\n",
       "  10: [846807.0, 20, 0, 0],\n",
       "  9: [852302.0, 12, 8823.0, 1],\n",
       "  8: [692193.0, 13, 149019.0, 1],\n",
       "  7: [715424.0, 15, 0, 0],\n",
       "  6: [569233.0, 12, 0, 0],\n",
       "  5: [259761.0, 11, 0, 0],\n",
       "  4: [315162.0, 10, 0, 0],\n",
       "  3: [264627.0, 11, 0, 0]},\n",
       " 'Meghalaya': {17: [1051902.0, 8, 304455.0, 1],\n",
       "  16: [1041308.0, 9, 6605.0, 1],\n",
       "  15: [520583.0, 8, 301983.0, 3],\n",
       "  14: [1037927.0, 9, 0, 0],\n",
       "  13: [654330.0, 14, 0, 0],\n",
       "  12: [763486.0, 11, 75618.0, 2],\n",
       "  11: [623026.0, 9, 35634.0, 1],\n",
       "  10: [497310.0, 12, 0, 0],\n",
       "  9: [477124.0, 6, 0, 0],\n",
       "  8: [399364.0, 8, 0, 0],\n",
       "  7: [110760.0, 4, 0, 0],\n",
       "  6: [254046.0, 7, 0, 0]},\n",
       " 'Mizoram': {17: [495137.0, 5, 1975.0, 1],\n",
       "  16: [426706.0, 3, 0, 0],\n",
       "  15: [325991.0, 4, 0, 0],\n",
       "  14: [348546.0, 3, 0, 0],\n",
       "  13: [291786.0, 7, 0, 0],\n",
       "  12: [305576.0, 6, 0, 0],\n",
       "  11: [296886.0, 4, 0, 0],\n",
       "  10: [240595.0, 7, 0, 0],\n",
       "  9: [226146.0, 4, 0, 0],\n",
       "  7: [128321.0, 2, 0, 0],\n",
       "  6: [99226.0, 3, 1499.0, 1]},\n",
       " 'Nagaland': {17: [1004293.0, 4, 0, 0],\n",
       "  16: [2050878.0, 5, 0, 0],\n",
       "  15: [1189601.0, 3, 0, 0],\n",
       "  14: [954719.0, 5, 0, 0],\n",
       "  13: [725045.0, 5, 0, 0],\n",
       "  12: [397008.0, 2, 0, 0],\n",
       "  11: [757626.0, 3, 0, 0],\n",
       "  10: [622831.0, 3, 0, 0],\n",
       "  9: [602195.0, 2, 0, 0],\n",
       "  8: [388464.0, 3, 0, 0],\n",
       "  7: [145969.0, 1, 140210.0, 1],\n",
       "  6: [116527.0, 1, 124627.0, 1],\n",
       "  5: [148025.0, 2, 0, 0],\n",
       "  4: [0.0, 1, 0, 0]},\n",
       " 'Odisha': {17: [18096757.0, 149, 5386541.0, 25],\n",
       "  16: [19398365.0, 180, 1888288.0, 17],\n",
       "  15: [17014816.0, 148, 747168.0, 9],\n",
       "  14: [15313556.0, 91, 1620768.0, 9],\n",
       "  13: [12027790.0, 99, 1649887.0, 9],\n",
       "  12: [12247896.0, 125, 1098376.0, 10],\n",
       "  11: [13373167.0, 226, 733310.0, 8],\n",
       "  10: [10120924.0, 208, 611908.0, 8],\n",
       "  9: [10473065.0, 127, 717707.0, 5],\n",
       "  8: [7792945.0, 112, 373962.0, 2],\n",
       "  7: [5872672.0, 107, 439402.0, 4],\n",
       "  6: [5270421.0, 59, 123373.0, 2],\n",
       "  5: [4312430.0, 83, 291023.0, 4],\n",
       "  4: [4029397.0, 64, 32595.0, 1],\n",
       "  3: [1968965.0, 49, 0, 0]},\n",
       " 'Puducherry': {17: [754834.0, 16, 23727.0, 2],\n",
       "  16: [716227.0, 27, 1522.0, 3],\n",
       "  15: [607948.0, 28, 0, 0],\n",
       "  14: [311344.0, 20, 172472.0, 1],\n",
       "  13: [444162.0, 9, 0, 0],\n",
       "  12: [408918.0, 9, 0, 0],\n",
       "  11: [440530.0, 20, 19792.0, 1],\n",
       "  10: [378408.0, 12, 13375.0, 1],\n",
       "  9: [352567.0, 10, 25021.0, 1],\n",
       "  8: [270781.0, 10, 0, 0],\n",
       "  7: [247681.0, 3, 0, 0],\n",
       "  6: [216244.0, 4, 0, 0],\n",
       "  5: [170088.0, 4, 0, 0],\n",
       "  4: [158872.0, 3, 0, 0]},\n",
       " 'Punjab': {17: [11808446.0, 253, 1802563.0, 25],\n",
       "  16: [12639256.0, 236, 1976986.0, 20],\n",
       "  15: [9969564.0, 205, 1859740.0, 13],\n",
       "  14: [9179251.0, 142, 1928813.0, 10],\n",
       "  13: [7156318.0, 106, 1598207.0, 14],\n",
       "  12: [8811041.0, 101, 683947.0, 9],\n",
       "  11: [8138800.0, 244, 1507669.0, 19],\n",
       "  10: [2923898.0, 78, 379422.0, 4],\n",
       "  9: [6919041.0, 214, 1023786.0, 13],\n",
       "  8: [6270480.0, 69, 662410.0, 5],\n",
       "  7: [5484382.0, 144, 489656.0, 3],\n",
       "  6: [5608591.0, 78, 2720.0, 1],\n",
       "  5: [4255205.0, 83, 36334.0, 1],\n",
       "  4: [4319117.0, 77, 373911.0, 3],\n",
       "  3: [6785637.0, 107, 0, 0]},\n",
       " 'Rajasthan': {17: [28051683.0, 226, 4061822.0, 23],\n",
       "  16: [26220066.0, 297, 2789615.0, 27],\n",
       "  15: [15234604.0, 314, 2696989.0, 32],\n",
       "  14: [15427575.0, 167, 1904873.0, 18],\n",
       "  13: [15194662.0, 157, 2589465.0, 17],\n",
       "  12: [15849820.0, 199, 1800708.0, 20],\n",
       "  11: [12659889.0, 656, 912898.0, 25],\n",
       "  10: [11286912.0, 512, 1009910.0, 14],\n",
       "  9: [13416793.0, 298, 876900.0, 6],\n",
       "  8: [10327784.0, 306, 860473.0, 7],\n",
       "  7: [9256086.0, 249, 320599.0, 4],\n",
       "  6: [8404426.0, 102, 0, 0],\n",
       "  5: [6346724.0, 125, 578155.0, 4],\n",
       "  4: [6708921.0, 115, 201769.0, 2],\n",
       "  3: [4995573.0, 106, 267546.0, 6]},\n",
       " 'Sikkim': {17: [349084.0, 10, 383.0, 1],\n",
       "  16: [304635.0, 6, 0, 0],\n",
       "  15: [251751.0, 7, 0, 0],\n",
       "  14: [219648.0, 4, 0, 0],\n",
       "  13: [205133.0, 4, 0, 0],\n",
       "  12: [155871.0, 3, 0, 0],\n",
       "  11: [172174.0, 7, 0, 0],\n",
       "  10: [10867.0, 5, 104506.0, 2],\n",
       "  9: [104877.0, 3, 28822.0, 1],\n",
       "  8: [82646.0, 8, 0.0, 1],\n",
       "  7: [51324.0, 6, 179.0, 1],\n",
       "  6: [0.0, 1, 0, 0]},\n",
       " 'Tamil_Nadu': {17: [39087371.0, 782, 3753894.0, 67],\n",
       "  16: [37127152.0, 789, 2896989.0, 55],\n",
       "  15: [28681566.0, 774, 1709394.0, 49],\n",
       "  14: [26441227.0, 548, 2273288.0, 23],\n",
       "  13: [26888581.0, 356, 1053445.0, 17],\n",
       "  12: [24925574.0, 283, 678224.0, 13],\n",
       "  11: [26943675.0, 734, 245266.0, 15],\n",
       "  10: [23312181.0, 447, 1659472.0, 17],\n",
       "  9: [25279640.0, 495, 1120090.0, 11],\n",
       "  8: [21024926.0, 211, 852678.0, 5],\n",
       "  7: [18330481.0, 247, 681561.0, 6],\n",
       "  6: [17174425.0, 191, 685482.0, 4],\n",
       "  5: [15749347.0, 110, 390051.0, 2],\n",
       "  4: [490741.0, 2, 0, 0]},\n",
       " 'Telangana': {17: [16606449.0, 418, 1845648.0, 25]},\n",
       " 'Tripura': {17: [1274791.0, 20, 855207.0, 3],\n",
       "  16: [1986943.0, 22, 13103.0, 3],\n",
       "  15: [1754310.0, 18, 4191.0, 1],\n",
       "  14: [1324253.0, 12, 0, 0],\n",
       "  13: [1888018.0, 26, 0, 0],\n",
       "  12: [1365493.0, 10, 4972.0, 1],\n",
       "  11: [1268822.0, 18, 17904.0, 2],\n",
       "  10: [616510.0, 15, 400198.0, 2],\n",
       "  9: [1266747.0, 12, 0, 0],\n",
       "  8: [918160.0, 10, 0, 0],\n",
       "  7: [728302.0, 10, 102293.0, 1],\n",
       "  6: [588190.0, 8, 0, 0],\n",
       "  5: [412561.0, 9, 0, 0],\n",
       "  4: [438758.0, 4, 0, 0],\n",
       "  3: [319085.0, 7, 0, 0]},\n",
       " 'Uttar_Pradesh': {17: [74648723.0, 870, 11094537.0, 106],\n",
       "  16: [70143021.0, 1165, 11869989.0, 126],\n",
       "  15: [50184173.0, 1283, 6010064.0, 102],\n",
       "  14: [53118941.0, 1177, 5565009.0, 69],\n",
       "  13: [51745865.0, 1198, 5426872.0, 69],\n",
       "  12: [51579674.0, 981, 4249999.0, 56],\n",
       "  11: [43464905.0, 3195, 3080626.0, 109],\n",
       "  10: [35590744.0, 1556, 2081064.0, 51],\n",
       "  9: [36181246.0, 1046, 2830596.0, 41],\n",
       "  8: [31985655.0, 1202, 2707640.0, 47],\n",
       "  7: [27016319.0, 973, 2113507.0, 37],\n",
       "  6: [27381295.0, 432, 1466475.0, 15],\n",
       "  5: [19328779.0, 527, 1233065.0, 16],\n",
       "  4: [21152359.0, 501, 1142256.0, 15],\n",
       "  3: [17171426.0, 428, 895189.0, 17]},\n",
       " 'Uttarakhand': {17: [4215865.0, 47, 576114.0, 5],\n",
       "  16: [3451087.0, 67, 892760.0, 7],\n",
       "  15: [3358084.0, 74, 266726.0, 8],\n",
       "  14: [3289562.0, 58, 243573.0, 6]},\n",
       " 'West_Bengal': {17: [42731424.0, 412, 13928764.0, 54],\n",
       "  16: [43621206.0, 433, 10464773.0, 52],\n",
       "  15: [39300240.0, 354, 5589443.0, 31],\n",
       "  14: [35610222.0, 341, 4534051.0, 34],\n",
       "  13: [34128109.0, 301, 3990777.0, 27],\n",
       "  12: [31214202.0, 250, 5308124.0, 22],\n",
       "  11: [31983541.0, 374, 4716488.0, 23],\n",
       "  10: [28476091.0, 375, 2957267.0, 19],\n",
       "  9: [28523247.0, 325, 3135180.0, 11],\n",
       "  8: [24096870.0, 240, 1633590.0, 9],\n",
       "  7: [20040047.0, 277, 801575.0, 9],\n",
       "  6: [14008511.0, 166, 673398.0, 5],\n",
       "  5: [12199483.0, 188, 1025401.0, 9],\n",
       "  4: [12693051.0, 138, 356900.0, 3],\n",
       "  3: [9436386.0, 111, 469286.0, 3]},\n",
       " 'Dadra & Nagar Haveli And Daman & Diu': {17: [0, 0, 0, 0]},\n",
       " 'Goa,_Daman_&_Diu': {8: [379307.0, 20, 29261.0, 1],\n",
       "  7: [282175.0, 12, 70730.0, 1],\n",
       "  6: [290066.0, 14, 2980.0, 1],\n",
       "  5: [235905.0, 13, 0, 0],\n",
       "  4: [276072.0, 15, 1714.0, 1]},\n",
       " 'Mysore': {5: [7579334.0, 104, 189382.0, 1],\n",
       "  4: [7784296.0, 101, 169173.0, 1],\n",
       "  3: [6305293.0, 89, 187654.0, 1]},\n",
       " 'Madras': {4: [14581707.0, 122, 857387.0, 5],\n",
       "  3: [11703673.0, 146, 720363.0, 6]}}"
      ]
     },
     "execution_count": 78,
     "metadata": {},
     "output_type": "execute_result"
    }
   ],
   "source": [
    "stateDict = {} # State -> Assembly Number\n",
    "for i in range(len(fdf)):\n",
    "    state = fdf.iloc[i][\"State_Name\"]\n",
    "    if state not in stateDict:\n",
    "        stateDict[state] = {}\n",
    "    elNum = fdf.iloc[i][\"Assembly_No\"]\n",
    "    if elNum not in stateDict[state]:\n",
    "        stateDict[state][elNum] = [0, 0, 0, 0]\n",
    "\n",
    "    if fdf.iloc[i][\"SexInt\"] == 0:\n",
    "        stateDict[state][elNum][0] += fdf.iloc[i][\"Votes\"]\n",
    "        stateDict[state][elNum][1] += 1\n",
    "    elif fdf.iloc[i][\"SexInt\"] == 1:\n",
    "        stateDict[state][elNum][2] += fdf.iloc[i][\"Votes\"]\n",
    "        stateDict[state][elNum][3] += 1\n",
    "\n",
    "stateDict"
   ]
  },
  {
   "cell_type": "code",
   "execution_count": 80,
   "metadata": {},
   "outputs": [
    {
     "data": {
      "text/plain": [
       "{'Andaman_&_Nicobar_Islands': {17: [14661.857142857143, 618.0],\n",
       "  16: [14256.153846153846, 1717.0],\n",
       "  15: [16540.7, 4696.0],\n",
       "  14: [13769.181818181818, 2364.0],\n",
       "  13: [36194.0, 1015.0],\n",
       "  12: [24306.0, 0.0],\n",
       "  11: [11655.636363636364, 0.0],\n",
       "  10: [21463.2, 0.0],\n",
       "  9: [18752.0, 553.0],\n",
       "  8: [15576.4, 11086.0],\n",
       "  7: [7889.9, 0.0],\n",
       "  6: [30284.0, 0.0],\n",
       "  5: [8905.0, 0.0],\n",
       "  4: [6122.0, 0.0]},\n",
       " 'Andhra_Pradesh': {17: [94105.74315068492, 135734.62962962964],\n",
       "  16: [81026.30782918149, 89962.27906976744],\n",
       "  15: [72599.131826742, 103403.94871794872],\n",
       "  14: [118954.6052631579, 168714.72],\n",
       "  13: [112471.46096654276, 183532.52631578947],\n",
       "  12: [80687.94354838709, 104610.88888888889],\n",
       "  11: [20525.28, 32077.195652173912],\n",
       "  10: [41540.8170940171, 81054.92307692308],\n",
       "  9: [101614.69615384615, 335014.0],\n",
       "  8: [72524.63265306123, 163400.22222222222],\n",
       "  7: [61048.938223938225, 91343.08333333333],\n",
       "  6: [101504.68674698795, 125079.5],\n",
       "  5: [63174.63, 62636.71428571428],\n",
       "  4: [81590.51552795031, 152872.0],\n",
       "  3: [80192.34042553192, 108865.28571428571]},\n",
       " 'Arunachal_Pradesh': {17: [54609.72727272727, 43920.0],\n",
       "  16: [53694.09090909091, 0.0],\n",
       "  15: [62580.25, 0.0],\n",
       "  14: [29609.846153846152, 0.0],\n",
       "  13: [70943.83333333333, 0.0],\n",
       "  12: [46966.28571428572, 0.0],\n",
       "  11: [29344.8, 0.0],\n",
       "  10: [37271.57142857143, 0.0],\n",
       "  9: [45521.666666666664, 0.0],\n",
       "  8: [25171.777777777777, 0.0],\n",
       "  7: [21697.375, 0.0],\n",
       "  6: [12672.5, 0.0]},\n",
       " 'Assam': {17: [116246.7175572519, 184242.35714285713],\n",
       "  16: [87484.86, 116705.5625],\n",
       "  15: [76590.9109589041, 79908.16666666667],\n",
       "  14: [90713.66972477065, 69185.57142857143],\n",
       "  13: [87527.70909090909, 87184.4],\n",
       "  12: [79199.9587628866, 173316.75],\n",
       "  11: [67936.20472440944, 79661.1],\n",
       "  10: [52190.45569620253, 23543.777777777777],\n",
       "  8: [72937.33663366336, 20312.8],\n",
       "  7: [82600.6, 110478.5],\n",
       "  6: [95003.77777777778, 100793.5],\n",
       "  5: [38675.08450704225, 40087.0],\n",
       "  4: [62433.934782608696, 89185.5],\n",
       "  3: [59456.57894736842, 78653.66666666667]},\n",
       " 'Bihar': {17: [62699.354385964914, 75912.125],\n",
       "  16: [57654.72468916519, 81331.06382978724],\n",
       "  15: [36110.16455696202, 45907.84782608696],\n",
       "  14: [61432.07838983051, 120358.42857142857],\n",
       "  13: [67068.49015748031, 136421.7142857143],\n",
       "  12: [77312.97539149888, 127978.0],\n",
       "  11: [22982.781805259416, 45963.60975609756],\n",
       "  10: [23713.862595419847, 55077.02777777778],\n",
       "  9: [41293.857142857145, 124269.44444444444],\n",
       "  8: [34790.53153153153, 180227.8],\n",
       "  7: [32582.744791666668, 92292.0],\n",
       "  6: [62550.6234939759, 39072.555555555555],\n",
       "  5: [35838.9525, 26659.0],\n",
       "  4: [43109.30194805195, 50063.833333333336],\n",
       "  3: [41756.11555555555, 73400.7]},\n",
       " 'Chandigarh': {17: [8094.666666666667, 25964.11111111111],\n",
       "  16: [10944.5, 63803.0],\n",
       "  15: [26356.153846153848, 927.0],\n",
       "  14: [16761.8125, 481.0],\n",
       "  13: [21677.076923076922, 338.0],\n",
       "  12: [17592.1875, 640.0],\n",
       "  11: [5395.979166666667, 0.0],\n",
       "  10: [3946.5925925925926, 546.0],\n",
       "  9: [8033.444444444444, 0.0],\n",
       "  8: [5010.5161290322585, 408.5],\n",
       "  7: [3109.108108108108, 4539.0],\n",
       "  6: [11622.222222222223, 2481.0],\n",
       "  5: [6572.909090909091, 0.0],\n",
       "  4: [4915.5, 0.0]},\n",
       " 'Chhattisgarh': {17: [76849.34965034966, 105597.0],\n",
       "  16: [50438.984210526316, 116537.28571428571],\n",
       "  15: [44168.94512195122, 106521.8],\n",
       "  14: [69505.97142857143, 48577.0]},\n",
       " 'Dadra_&_Nagar_Haveli': {17: [19203.3, 4000.0],\n",
       "  16: [16190.6, 418.0],\n",
       "  15: [22072.6, 0.0],\n",
       "  14: [9306.888888888889, 941.0],\n",
       "  13: [14381.0, 0.0],\n",
       "  12: [18132.75, 0.0],\n",
       "  11: [14161.8, 0.0],\n",
       "  10: [7824.25, 17142.0],\n",
       "  9: [10842.75, 8627.0],\n",
       "  8: [9595.0, 0.0],\n",
       "  7: [8918.666666666666, 4390.0],\n",
       "  6: [8043.666666666667, 0.0],\n",
       "  5: [7219.333333333333, 0.0],\n",
       "  4: [4249.6, 0.0]},\n",
       " 'Daman_&_Diu': {17: [21495.5, 0.0],\n",
       "  16: [21479.25, 0.0],\n",
       "  15: [9717.714285714286, 0.0],\n",
       "  14: [18530.333333333332, 0.0],\n",
       "  13: [12700.0, 0.0],\n",
       "  12: [12874.75, 97.0],\n",
       "  11: [5387.555555555556, 0.0],\n",
       "  10: [3685.6, 540.5],\n",
       "  9: [7451.5, 6732.0]},\n",
       " 'Delhi': {17: [50532.33108108108, 72160.8125],\n",
       "  16: [51359.44525547445, 91987.07692307692],\n",
       "  15: [34848.33098591549, 44699.11111111111],\n",
       "  14: [33565.02631578947, 19961.266666666666],\n",
       "  13: [39397.811111111114, 35383.57142857143],\n",
       "  12: [26301.532786885247, 100829.5],\n",
       "  11: [7935.80694980695, 18844.833333333332],\n",
       "  10: [5783.547717842323, 6259.65],\n",
       "  9: [12926.671052631578, 11115.0],\n",
       "  8: [11492.138888888889, 17266.444444444445],\n",
       "  7: [12029.59509202454, 722.8],\n",
       "  6: [46620.91891891892, 18255.25],\n",
       "  5: [18179.1935483871, 85387.0],\n",
       "  4: [24631.022222222222, 12765.0],\n",
       "  3: [31933.89285714286, 0.0]},\n",
       " 'Goa': {17: [83681.4, 1945.0],\n",
       "  16: [46756.529411764706, 6018.0],\n",
       "  15: [34954.1875, 2494.0],\n",
       "  14: [39358.47368421053, 5881.0],\n",
       "  13: [27225.8, 1407.0],\n",
       "  12: [48384.181818181816, 540.0],\n",
       "  11: [16087.7, 0.0],\n",
       "  10: [10130.290322580646, 313.5],\n",
       "  9: [16707.4, 0.0]},\n",
       " 'Gujarat': {17: [69997.29239766081, 169265.75],\n",
       "  16: [71378.18553459119, 188095.17647058822],\n",
       "  15: [49069.06432748538, 59591.153846153844],\n",
       "  14: [91829.32450331126, 122243.27272727272],\n",
       "  13: [84901.89440993789, 172294.625],\n",
       "  12: [110451.14184397164, 190797.42857142858],\n",
       "  11: [17609.833628318585, 28739.0],\n",
       "  10: [25010.129032258064, 37046.76470588235],\n",
       "  9: [48489.05952380953, 80417.33333333333],\n",
       "  8: [47033.1, 33862.545454545456],\n",
       "  7: [53565.15337423313, 20481.833333333332],\n",
       "  6: [70251.8, 192336.5],\n",
       "  5: [52887.6186440678, 1325.0],\n",
       "  4: [80372.78048780488, 117812.0],\n",
       "  3: [75532.7258064516, 99921.5]},\n",
       " 'Haryana': {17: [52027.24528301887, 146361.72727272726],\n",
       "  16: [50330.324200913245, 39871.818181818184],\n",
       "  15: [39615.582914572864, 55641.28571428572],\n",
       "  14: [47129.10843373494, 88996.44444444444],\n",
       "  13: [55030.06306306306, 288234.0],\n",
       "  12: [52251.89552238806, 91841.66666666667],\n",
       "  11: [24830.259649122807, 59446.555555555555],\n",
       "  10: [30626.119791666668, 54429.666666666664],\n",
       "  9: [18293.633228840125, 67011.5],\n",
       "  8: [28143.03125, 28744.545454545456],\n",
       "  7: [31365.06818181818, 48219.2],\n",
       "  6: [77498.0612244898, 177906.0],\n",
       "  5: [47500.60317460317, 0.0],\n",
       "  4: [44438.121212121216, 119303.0]},\n",
       " 'Himachal_Pradesh': {17: [86734.68181818182, 1398.0],\n",
       "  16: [82550.15151515152, 69038.0],\n",
       "  15: [88414.84848484848, 177423.0],\n",
       "  14: [110360.54838709677, 181594.5],\n",
       "  13: [101407.61904761905, 4144.0],\n",
       "  12: [105156.66666666667, 172378.0],\n",
       "  11: [38800.07692307692, 746.5],\n",
       "  10: [36057.5, 82687.5],\n",
       "  9: [53314.96875, 175943.0],\n",
       "  8: [38751.73333333333, 232287.0],\n",
       "  7: [43236.862068965514, 0.0],\n",
       "  6: [81349.5, 0.0],\n",
       "  5: [35564.10526315789, 6344.0],\n",
       "  4: [31070.56, 0.0],\n",
       "  3: [22230.8, 20600.0]},\n",
       " 'Jammu_&_Kashmir': {17: [46029.52631578947, 10879.666666666666],\n",
       "  16: [44980.42105263158, 67711.66666666667],\n",
       "  15: [34253.22666666667, 6390.5],\n",
       "  14: [27355.25316455696, 19569.25],\n",
       "  13: [24500.225806451614, 3379.6666666666665],\n",
       "  12: [25557.988095238095, 5863.0],\n",
       "  11: [19687.970588235294, 8463.375],\n",
       "  9: [16865.983870967742, 430.0],\n",
       "  8: [41429.425531914894, 240973.0],\n",
       "  7: [46103.55172413793, 0.0],\n",
       "  6: [44115.62962962963, 116601.0],\n",
       "  5: [36460.8125, 0.0],\n",
       "  4: [68747.0625, 0.0]},\n",
       " 'Jharkhand': {17: [65585.78921568628, 55723.68],\n",
       "  16: [55426.97747747748, 27068.0],\n",
       "  15: [37695.12033195021, 23957.2],\n",
       "  14: [48660.33653846154, 87715.66666666667]},\n",
       " 'Karnataka': {17: [71906.94130434783, 100796.25],\n",
       "  16: [69847.77239709444, 96512.45],\n",
       "  15: [60308.71497584541, 74583.2],\n",
       "  14: [143871.50588235294, 160073.9],\n",
       "  13: [161288.45323741008, 152504.66666666666],\n",
       "  12: [106611.53684210527, 84647.8],\n",
       "  11: [19772.13671444322, 11000.535211267606],\n",
       "  10: [38495.84042553192, 61898.933333333334],\n",
       "  9: [77346.93478260869, 52768.166666666664],\n",
       "  8: [39615.036697247706, 78982.85714285714],\n",
       "  7: [57790.5, 111575.0],\n",
       "  6: [104235.17894736842, 123478.4]},\n",
       " 'Kerala': {17: [89834.06930693069, 88943.5],\n",
       "  16: [66895.4173553719, 74401.58620689655],\n",
       "  15: [73656.22277227722, 77087.86666666667],\n",
       "  14: [80273.50568181818, 107345.5],\n",
       "  13: [111829.42647058824, 69223.0],\n",
       "  12: [121293.25454545455, 151956.7],\n",
       "  11: [61870.79565217391, 69354.0],\n",
       "  10: [76172.16568047338, 138005.9],\n",
       "  9: [64313.32380952381, 175842.875],\n",
       "  8: [73606.98611111111, 41943.57142857143],\n",
       "  7: [86880.69230769231, 131256.5],\n",
       "  6: [143638.48333333334, 79288.0],\n",
       "  5: [95882.640625, 130791.33333333333],\n",
       "  4: [104047.57627118644, 112600.0],\n",
       "  3: [110093.08163265306, 134422.0]},\n",
       " 'Lakshadweep': {17: [7818.166666666667, 0.0],\n",
       "  16: [7186.0, 0.0],\n",
       "  15: [9874.5, 0.0],\n",
       "  14: [7955.0, 0.0],\n",
       "  13: [7465.0, 0.0],\n",
       "  12: [15532.0, 0.0],\n",
       "  11: [15094.0, 0.0],\n",
       "  10: [12660.5, 0.0],\n",
       "  9: [12745.0, 0.0],\n",
       "  8: [9511.5, 0.0],\n",
       "  7: [5924.0, 0.0],\n",
       "  6: [8193.0, 0.0],\n",
       "  5: [0.0, 0.0],\n",
       "  4: [2361.4, 0.0]},\n",
       " 'Madhya_Pradesh': {17: [79558.8417085427, 122630.175],\n",
       "  16: [73682.50434782609, 132603.1081081081],\n",
       "  15: [43133.985, 76931.5172413793],\n",
       "  14: [57755.420731707316, 76110.02777777778],\n",
       "  13: [71560.4909090909, 107092.13043478261],\n",
       "  12: [66269.6027027027, 80341.8],\n",
       "  11: [17370.801341156748, 37785.86842105263],\n",
       "  10: [23884.733333333334, 40254.325],\n",
       "  9: [37829.37313432836, 92020.80952380953],\n",
       "  8: [37939.43927648579, 82473.63636363637],\n",
       "  7: [34192.88034188034, 82067.77777777778],\n",
       "  6: [77532.46357615895, 104993.0],\n",
       "  5: [50692.33950617284, 77449.75],\n",
       "  4: [50326.21951219512, 106188.66666666667],\n",
       "  3: [40500.42953020134, 65138.545454545456]},\n",
       " 'Maharashtra': {17: [59449.932741116754, 85049.77215189874],\n",
       "  16: [55100.62424969988, 70304.45714285714],\n",
       "  15: [44853.67015706806, 49511.03636363636],\n",
       "  14: [77707.9058295964, 90144.11764705883],\n",
       "  13: [126269.28174603175, 96075.73684210527],\n",
       "  12: [83187.65730337078, 89404.0],\n",
       "  11: [26282.99413489736, 35088.880952380954],\n",
       "  10: [27178.180940892642, 37702.67647058824],\n",
       "  9: [45416.51483420593, 76271.35],\n",
       "  8: [43506.59426229508, 88244.58333333333],\n",
       "  7: [44116.17085427135, 62233.22222222222],\n",
       "  6: [79672.4405940594, 88612.88888888889],\n",
       "  5: [60317.776824034336, 42869.75],\n",
       "  4: [73428.62637362638, 124487.75],\n",
       "  3: [66021.56024096385, 63012.0]},\n",
       " 'Manipur': {17: [84839.0, 0.0],\n",
       "  16: [86585.375, 9883.0],\n",
       "  15: [102480.46153846153, 2384.3333333333335],\n",
       "  14: [87136.54545454546, 77055.0],\n",
       "  13: [53549.4375, 18428.5],\n",
       "  12: [46628.857142857145, 97012.0],\n",
       "  11: [29708.0, 72093.33333333333],\n",
       "  10: [42340.35, 0.0],\n",
       "  9: [71025.16666666667, 8823.0],\n",
       "  8: [53245.61538461538, 149019.0],\n",
       "  7: [47694.933333333334, 0.0],\n",
       "  6: [47436.083333333336, 0.0],\n",
       "  5: [23614.636363636364, 0.0],\n",
       "  4: [31516.2, 0.0],\n",
       "  3: [24057.0, 0.0]},\n",
       " 'Meghalaya': {17: [131487.75, 304455.0],\n",
       "  16: [115700.88888888889, 6605.0],\n",
       "  15: [65072.875, 100661.0],\n",
       "  14: [115325.22222222222, 0.0],\n",
       "  13: [46737.857142857145, 0.0],\n",
       "  12: [69407.81818181818, 37809.0],\n",
       "  11: [69225.11111111111, 35634.0],\n",
       "  10: [41442.5, 0.0],\n",
       "  9: [79520.66666666667, 0.0],\n",
       "  8: [49920.5, 0.0],\n",
       "  7: [27690.0, 0.0],\n",
       "  6: [36292.28571428572, 0.0]},\n",
       " 'Mizoram': {17: [99027.4, 1975.0],\n",
       "  16: [142235.33333333334, 0.0],\n",
       "  15: [81497.75, 0.0],\n",
       "  14: [116182.0, 0.0],\n",
       "  13: [41683.71428571428, 0.0],\n",
       "  12: [50929.333333333336, 0.0],\n",
       "  11: [74221.5, 0.0],\n",
       "  10: [34370.71428571428, 0.0],\n",
       "  9: [56536.5, 0.0],\n",
       "  7: [64160.5, 0.0],\n",
       "  6: [33075.333333333336, 1499.0]},\n",
       " 'Nagaland': {17: [251073.25, 0.0],\n",
       "  16: [410175.6, 0.0],\n",
       "  15: [396533.6666666667, 0.0],\n",
       "  14: [190943.8, 0.0],\n",
       "  13: [145009.0, 0.0],\n",
       "  12: [198504.0, 0.0],\n",
       "  11: [252542.0, 0.0],\n",
       "  10: [207610.33333333334, 0.0],\n",
       "  9: [301097.5, 0.0],\n",
       "  8: [129488.0, 0.0],\n",
       "  7: [145969.0, 140210.0],\n",
       "  6: [116527.0, 124627.0],\n",
       "  5: [74012.5, 0.0],\n",
       "  4: [0.0, 0.0]},\n",
       " 'Odisha': {17: [121454.74496644296, 215461.64],\n",
       "  16: [107768.69444444444, 111075.76470588235],\n",
       "  15: [114964.97297297297, 83018.66666666667],\n",
       "  14: [168280.83516483515, 180085.33333333334],\n",
       "  13: [121492.82828282828, 183320.77777777778],\n",
       "  12: [97983.168, 109837.6],\n",
       "  11: [59173.30530973451, 91663.75],\n",
       "  10: [48658.28846153846, 76488.5],\n",
       "  9: [82465.07874015748, 143541.4],\n",
       "  8: [69579.86607142857, 186981.0],\n",
       "  7: [54884.785046728975, 109850.5],\n",
       "  6: [89329.16949152542, 61686.5],\n",
       "  5: [51956.98795180723, 72755.75],\n",
       "  4: [62959.328125, 32595.0],\n",
       "  3: [40182.95918367347, 0.0]},\n",
       " 'Puducherry': {17: [47177.125, 11863.5],\n",
       "  16: [26526.925925925927, 507.3333333333333],\n",
       "  15: [21712.428571428572, 0.0],\n",
       "  14: [15567.2, 172472.0],\n",
       "  13: [49351.333333333336, 0.0],\n",
       "  12: [45435.333333333336, 0.0],\n",
       "  11: [22026.5, 19792.0],\n",
       "  10: [31534.0, 13375.0],\n",
       "  9: [35256.7, 25021.0],\n",
       "  8: [27078.1, 0.0],\n",
       "  7: [82560.33333333333, 0.0],\n",
       "  6: [54061.0, 0.0],\n",
       "  5: [42522.0, 0.0],\n",
       "  4: [52957.333333333336, 0.0]},\n",
       " 'Punjab': {17: [46673.69960474308, 72102.52],\n",
       "  16: [53556.16949152543, 98849.3],\n",
       "  15: [48632.019512195126, 143056.92307692306],\n",
       "  14: [64642.612676056335, 192881.3],\n",
       "  13: [67512.43396226416, 114157.64285714286],\n",
       "  12: [87238.02970297029, 75994.11111111111],\n",
       "  11: [33355.737704918036, 79351.0],\n",
       "  10: [37485.8717948718, 94855.5],\n",
       "  9: [32331.967289719625, 78752.76923076923],\n",
       "  8: [90876.52173913043, 132482.0],\n",
       "  7: [38085.98611111111, 163218.66666666666],\n",
       "  6: [71905.01282051283, 2720.0],\n",
       "  5: [51267.530120481926, 36334.0],\n",
       "  4: [56092.42857142857, 124637.0],\n",
       "  3: [63417.168224299065, 0.0]},\n",
       " 'Rajasthan': {17: [124122.49115044248, 176600.95652173914],\n",
       "  16: [88283.0505050505, 103319.07407407407],\n",
       "  15: [48517.84713375796, 84280.90625],\n",
       "  14: [92380.68862275449, 105826.27777777778],\n",
       "  13: [96781.28662420381, 152321.4705882353],\n",
       "  12: [79647.33668341709, 90035.4],\n",
       "  11: [19298.611280487807, 36515.92],\n",
       "  10: [22044.75, 72136.42857142857],\n",
       "  9: [45022.79530201342, 146150.0],\n",
       "  8: [33750.92810457516, 122924.71428571429],\n",
       "  7: [37173.03614457831, 80149.75],\n",
       "  6: [82396.33333333333, 0.0],\n",
       "  5: [50773.792, 144538.75],\n",
       "  4: [58338.443478260866, 100884.5],\n",
       "  3: [47128.04716981132, 44591.0]},\n",
       " 'Sikkim': {17: [34908.4, 383.0],\n",
       "  16: [50772.5, 0.0],\n",
       "  15: [35964.42857142857, 0.0],\n",
       "  14: [54912.0, 0.0],\n",
       "  13: [51283.25, 0.0],\n",
       "  12: [51957.0, 0.0],\n",
       "  11: [24596.285714285714, 0.0],\n",
       "  10: [2173.4, 52253.0],\n",
       "  9: [34959.0, 28822.0],\n",
       "  8: [10330.75, 0.0],\n",
       "  7: [8554.0, 179.0],\n",
       "  6: [0.0, 0.0]},\n",
       " 'Tamil_Nadu': {17: [49983.85038363171, 56028.26865671642],\n",
       "  16: [47055.95944233207, 52672.527272727275],\n",
       "  15: [37056.28682170543, 34885.5918367347],\n",
       "  14: [48250.414233576645, 98838.60869565218],\n",
       "  13: [75529.72191011236, 61967.35294117647],\n",
       "  12: [88076.2332155477, 52171.07692307692],\n",
       "  11: [36708.00408719346, 16351.066666666668],\n",
       "  10: [52152.530201342284, 97616.0],\n",
       "  9: [51069.979797979795, 101826.36363636363],\n",
       "  8: [99644.1990521327, 170535.6],\n",
       "  7: [74212.47368421052, 113593.5],\n",
       "  6: [89918.4554973822, 171370.5],\n",
       "  5: [143175.8818181818, 195025.5],\n",
       "  4: [245370.5, 0.0]},\n",
       " 'Telangana': {17: [39728.346889952154, 73825.92]},\n",
       " 'Tripura': {17: [63739.55, 285069.0],\n",
       "  16: [90315.59090909091, 4367.666666666667],\n",
       "  15: [97461.66666666667, 4191.0],\n",
       "  14: [110354.41666666667, 0.0],\n",
       "  13: [72616.07692307692, 0.0],\n",
       "  12: [136549.3, 4972.0],\n",
       "  11: [70490.11111111111, 8952.0],\n",
       "  10: [41100.666666666664, 200099.0],\n",
       "  9: [105562.25, 0.0],\n",
       "  8: [91816.0, 0.0],\n",
       "  7: [72830.2, 102293.0],\n",
       "  6: [73523.75, 0.0],\n",
       "  5: [45840.11111111111, 0.0],\n",
       "  4: [109689.5, 0.0],\n",
       "  3: [45583.57142857143, 0.0]},\n",
       " 'Uttar_Pradesh': {17: [85803.12988505747, 104665.44339622642],\n",
       "  16: [60208.601716738194, 94206.26190476191],\n",
       "  15: [39114.710054559626, 58922.19607843137],\n",
       "  14: [45130.79099405267, 80652.30434782608],\n",
       "  13: [43193.54340567613, 78650.31884057971],\n",
       "  12: [52578.66870540265, 75892.83928571429],\n",
       "  11: [13604.039123630673, 28262.623853211007],\n",
       "  10: [22873.228791773778, 40805.17647058824],\n",
       "  9: [34590.10133843212, 69038.9268292683],\n",
       "  8: [26610.361896838604, 57609.36170212766],\n",
       "  7: [27766.00102774923, 57121.81081081081],\n",
       "  6: [63382.62731481482, 97765.0],\n",
       "  5: [36677.0, 77066.5625],\n",
       "  4: [42220.27744510978, 76150.4],\n",
       "  3: [40120.154205607476, 52658.17647058824]},\n",
       " 'Uttarakhand': {17: [89699.25531914894, 115222.8],\n",
       "  16: [51508.76119402985, 127537.14285714286],\n",
       "  15: [45379.51351351351, 33340.75],\n",
       "  14: [56716.58620689655, 40595.5]},\n",
       " 'West_Bengal': {17: [103717.04854368932, 257940.07407407407],\n",
       "  16: [100741.81524249422, 201245.63461538462],\n",
       "  15: [111017.62711864407, 180304.61290322582],\n",
       "  14: [104428.80351906158, 133354.4411764706],\n",
       "  13: [113382.4219269103, 147806.55555555556],\n",
       "  12: [124856.808, 241278.36363636365],\n",
       "  11: [85517.48930481283, 205064.69565217392],\n",
       "  10: [75936.24266666667, 155645.63157894736],\n",
       "  9: [87763.83692307692, 285016.36363636365],\n",
       "  8: [100403.625, 181510.0],\n",
       "  7: [72346.74007220217, 89063.88888888889],\n",
       "  6: [84388.6204819277, 134679.6],\n",
       "  5: [64890.867021276594, 113933.44444444444],\n",
       "  4: [91978.63043478261, 118966.66666666667],\n",
       "  3: [85012.48648648648, 156428.66666666666]},\n",
       " 'Dadra & Nagar Haveli And Daman & Diu': {17: [0.0, 0.0]},\n",
       " 'Goa,_Daman_&_Diu': {8: [18965.35, 29261.0],\n",
       "  7: [23514.583333333332, 70730.0],\n",
       "  6: [20719.0, 2980.0],\n",
       "  5: [18146.53846153846, 0.0],\n",
       "  4: [18404.8, 1714.0]},\n",
       " 'Mysore': {5: [72878.21153846153, 189382.0],\n",
       "  4: [77072.23762376238, 169173.0],\n",
       "  3: [70845.98876404495, 187654.0]},\n",
       " 'Madras': {4: [119522.18852459016, 171477.4],\n",
       "  3: [80162.14383561644, 120060.5]}}"
      ]
     },
     "execution_count": 80,
     "metadata": {},
     "output_type": "execute_result"
    }
   ],
   "source": [
    "stateAvgDict = {}\n",
    "for state in stateDict:\n",
    "    stateAvgDict[state] = {}\n",
    "    for elNum in stateDict[state]:\n",
    "        stateAvgDict[state][elNum] = [stateDict[state][elNum][0] / (1 if stateDict[state][elNum][1] == 0 else stateDict[state][elNum][1]),\n",
    "                                      stateDict[state][elNum][2] / (1 if stateDict[state][elNum][3] == 0 else stateDict[state][elNum][3])]\n",
    "        \n",
    "stateAvgDict"
   ]
  },
  {
   "cell_type": "code",
   "execution_count": 82,
   "metadata": {},
   "outputs": [
    {
     "data": {
      "text/plain": [
       "{'Andaman_&_Nicobar_Islands': {17: 9.19109191372395,\n",
       "  16: 7.850142787658138,\n",
       "  15: 5.577467308951014,\n",
       "  14: 7.069393965007184,\n",
       "  13: 9.454433067268672,\n",
       "  12: 10.0,\n",
       "  11: 10.0,\n",
       "  10: 10.0,\n",
       "  9: 9.427091427091428,\n",
       "  8: 1.6841694671147383,\n",
       "  7: 10.0,\n",
       "  6: 10.0,\n",
       "  5: 10.0,\n",
       "  4: 10.0},\n",
       " 'Andhra_Pradesh': {17: -1.811208621678243,\n",
       "  16: -0.522606298037128,\n",
       "  15: -1.750243052330255,\n",
       "  14: -1.7297678399086138,\n",
       "  13: -2.400679328737143,\n",
       "  12: -1.2910467392502198,\n",
       "  11: -2.1960783231114913,\n",
       "  10: -3.223122265733693,\n",
       "  9: -5.345487044303556,\n",
       "  8: -3.851887060276053,\n",
       "  7: -1.9879088681824488,\n",
       "  6: -1.0404438893759402,\n",
       "  5: 0.04275574013930908,\n",
       "  4: -3.0402081250191233,\n",
       "  3: -1.516624633144854},\n",
       " 'Arunachal_Pradesh': {17: 1.084924069985339,\n",
       "  16: 10.000000000000002,\n",
       "  15: 10.0,\n",
       "  14: 10.0,\n",
       "  13: 10.0,\n",
       "  12: 10.0,\n",
       "  11: 10.0,\n",
       "  10: 10.0,\n",
       "  9: 10.0,\n",
       "  8: 10.0,\n",
       "  7: 10.0,\n",
       "  6: 10.0},\n",
       " 'Assam': {17: -2.262832339360941,\n",
       "  16: -1.431051571481028,\n",
       "  15: -0.21196647022413848,\n",
       "  14: 1.3463540002390595,\n",
       "  13: 0.019649988354869023,\n",
       "  12: -3.7271510348049546,\n",
       "  11: -0.7943841046069939,\n",
       "  10: 3.7825269504136165,\n",
       "  8: 5.643373675729914,\n",
       "  7: -1.443859019438147,\n",
       "  6: -0.29569983239467335,\n",
       "  5: -0.1792633475605267,\n",
       "  4: -1.7643889291466877,\n",
       "  3: -1.389982881715142},\n",
       " 'Bihar': {17: -0.9532234034703579,\n",
       "  16: -1.7035079192570457,\n",
       "  15: -1.1945770184440445,\n",
       "  14: -3.241442645525803,\n",
       "  13: -3.408184896074165,\n",
       "  12: -2.467961609704503,\n",
       "  11: -3.333144408346153,\n",
       "  10: -3.9805572742996658,\n",
       "  9: -5.0117137376506244,\n",
       "  8: -6.7639474007889735,\n",
       "  7: -4.7815317106712465,\n",
       "  6: 2.310306384626785,\n",
       "  5: 1.4688405192154095,\n",
       "  4: -0.7464095057312947,\n",
       "  3: -2.747955845407867},\n",
       " 'Chandigarh': {17: -5.246648767327072,\n",
       "  16: -7.071607746078464,\n",
       "  15: 9.320459793448197,\n",
       "  14: 9.442086376569948,\n",
       "  13: 9.692937707025955,\n",
       "  12: 9.297944911986013,\n",
       "  11: 10.0,\n",
       "  10: 7.569332234130255,\n",
       "  9: 10.0,\n",
       "  8: 8.492346247830966,\n",
       "  7: -1.8696020920206375,\n",
       "  6: 6.481655098519645,\n",
       "  5: 10.0,\n",
       "  4: 10.0},\n",
       " 'Chhattisgarh': {17: -1.5756769266550932,\n",
       "  16: -3.9585446203537127,\n",
       "  15: -4.137802545709611,\n",
       "  14: 1.772395390747039},\n",
       " 'Dadra_&_Nagar_Haveli': {17: 6.5522145556882,\n",
       "  16: 9.496646315764123,\n",
       "  15: 10.0,\n",
       "  14: 8.163524194685085,\n",
       "  13: 10.0,\n",
       "  12: 10.0,\n",
       "  11: 10.0,\n",
       "  10: -3.7321383868222098,\n",
       "  9: 1.1380474839173589,\n",
       "  8: 10.0,\n",
       "  7: 3.4027951710664723,\n",
       "  6: 10.0,\n",
       "  5: 10.0,\n",
       "  4: 10.0},\n",
       " 'Daman_&_Diu': {17: 10.0,\n",
       "  16: 10.0,\n",
       "  15: 10.0,\n",
       "  14: 10.0,\n",
       "  13: 10.0,\n",
       "  12: 9.850444234586698,\n",
       "  11: 10.0,\n",
       "  10: 7.442086084096448,\n",
       "  9: 0.5072795854337787},\n",
       " 'Delhi': {17: -1.7628109271343153,\n",
       "  16: -2.834225138507162,\n",
       "  15: -1.2383528452342067,\n",
       "  14: 2.5415097685882326,\n",
       "  13: 0.5367966659896319,\n",
       "  12: -5.862295426959121,\n",
       "  11: -4.0734748191939785,\n",
       "  10: -0.3953287933256446,\n",
       "  9: 0.7535545464645538,\n",
       "  8: -2.007854659816538,\n",
       "  7: 8.866409023898507,\n",
       "  6: 4.3722786643535985,\n",
       "  5: -6.489357593335976,\n",
       "  4: 3.1730706949818193,\n",
       "  3: 10.0},\n",
       " 'Goa': {17: 9.5457008586137,\n",
       "  16: 7.719354367692971,\n",
       "  15: 8.668026323036328,\n",
       "  14: 7.40005816997266,\n",
       "  13: 9.017211030706044,\n",
       "  12: 9.779250268504514,\n",
       "  11: 10.0,\n",
       "  10: 9.399643251507687,\n",
       "  9: 10.0},\n",
       " 'Gujarat': {17: -4.148925659707723,\n",
       "  16: -4.498226331752206,\n",
       "  15: -0.9683479101665475,\n",
       "  14: -1.420730566051931,\n",
       "  13: -3.397897094041519,\n",
       "  12: -2.667109311644705,\n",
       "  11: -2.4011750675170447,\n",
       "  10: -1.9396129823086072,\n",
       "  9: -2.4768572839445966,\n",
       "  8: 1.6280919042613933,\n",
       "  7: 4.467882018150941,\n",
       "  6: -4.649281784451174,\n",
       "  5: 9.511183915058865,\n",
       "  4: -1.8891066922517248,\n",
       "  3: -1.3900362947343499},\n",
       " 'Haryana': {17: -4.755026490356007,\n",
       "  16: 1.1594520643111985,\n",
       "  15: -1.6823671647398433,\n",
       "  14: -3.0756412095660797,\n",
       "  13: -6.793718365271858,\n",
       "  12: -2.7475045062968,\n",
       "  11: -4.107451832673326,\n",
       "  10: -2.798580539451099,\n",
       "  9: -5.711012330344645,\n",
       "  8: -0.10573735767819996,\n",
       "  7: -2.1177717912385496,\n",
       "  6: -3.931336811721866,\n",
       "  5: 10.0,\n",
       "  4: -4.572148903933167},\n",
       " 'Himachal_Pradesh': {17: 9.682751058708487,\n",
       "  16: 0.8913725367118125,\n",
       "  15: -3.3482121534783844,\n",
       "  14: -2.439894497678139,\n",
       "  13: 9.214791769678028,\n",
       "  12: -2.422087811252408,\n",
       "  11: 9.622470485143614,\n",
       "  10: -3.9269021853551727,\n",
       "  9: -5.3489103091427435,\n",
       "  8: -7.140502181607007,\n",
       "  7: 10.0,\n",
       "  6: 10.0,\n",
       "  5: 6.972423372441457,\n",
       "  4: 10.0,\n",
       "  3: 0.38075403681462855},\n",
       " 'Jammu_&_Kashmir': {17: 6.176481831320072,\n",
       "  16: -2.0171110566924404,\n",
       "  15: 6.855357259726349,\n",
       "  14: 1.6592617160490022,\n",
       "  13: 7.575552581542175,\n",
       "  12: 6.268099537653593,\n",
       "  11: 3.9872323520216226,\n",
       "  9: 9.502774744463334,\n",
       "  8: -7.065929908081977,\n",
       "  7: 10.0,\n",
       "  6: -4.510135045602461,\n",
       "  5: 10.0,\n",
       "  4: 10.0},\n",
       " 'Jharkhand': {17: 0.8129710961105276,\n",
       "  16: 3.437661097031023,\n",
       "  15: 2.2282892611311467,\n",
       "  14: -2.863797824420808},\n",
       " 'Karnataka': {17: -1.6727721403098867,\n",
       "  16: -1.6028277203944923,\n",
       "  15: -1.058216500722869,\n",
       "  14: -0.533069222435244,\n",
       "  13: 0.27992285405838524,\n",
       "  12: 1.1483746208028265,\n",
       "  11: 2.850451700895971,\n",
       "  10: -2.3311066932639837,\n",
       "  9: 1.8890019561275844,\n",
       "  8: -3.3194367261433517,\n",
       "  7: -3.1756467521425558,\n",
       "  6: -0.8450625185193401},\n",
       " 'Kerala': {17: 0.04981437606424389,\n",
       "  16: -0.5312334063911512,\n",
       "  15: -0.2276469947950676,\n",
       "  14: -1.4429238775571085,\n",
       "  13: 2.3532645930878813,\n",
       "  12: -1.1221756836356458,\n",
       "  11: -0.5702584111970092,\n",
       "  10: -2.887024594375352,\n",
       "  9: -4.644042158534252,\n",
       "  8: 2.7402217139165064,\n",
       "  7: -2.0343072734572294,\n",
       "  6: 2.8866235348589138,\n",
       "  5: -1.5400397363108904,\n",
       "  4: -0.39476203131431076,\n",
       "  3: -0.9949864116724488},\n",
       " 'Lakshadweep': {17: 10.0,\n",
       "  16: 10.0,\n",
       "  15: 10.0,\n",
       "  14: 10.0,\n",
       "  13: 10.0,\n",
       "  12: 10.0,\n",
       "  11: 10.0,\n",
       "  10: 10.0,\n",
       "  9: 10.0,\n",
       "  8: 10.0,\n",
       "  7: 10.0,\n",
       "  6: 10.0,\n",
       "  5: 0,\n",
       "  4: 10.0},\n",
       " 'Madhya_Pradesh': {17: -2.130250890608218,\n",
       "  16: -2.856263365088943,\n",
       "  15: -2.8149244879210062,\n",
       "  14: -1.3711235610412151,\n",
       "  13: -1.9888675160998515,\n",
       "  12: -0.9598296611234788,\n",
       "  11: -3.7012871095932773,\n",
       "  10: -2.552203305136352,\n",
       "  9: -4.173381606412775,\n",
       "  8: -3.6984519206410496,\n",
       "  7: -4.117893207401552,\n",
       "  6: -1.5044770130049891,\n",
       "  5: -2.088104743487752,\n",
       "  4: -3.569145946324439,\n",
       "  3: -2.3322941109473665},\n",
       " 'Maharashtra': {17: -1.7716188022484585,\n",
       "  16: -1.212377738152772,\n",
       "  15: -0.4935495884307589,\n",
       "  14: -0.7409033004116296,\n",
       "  13: 1.3579591346661017,\n",
       "  12: -0.36017631406728545,\n",
       "  11: -1.4348407645946204,\n",
       "  10: -1.6221264560281923,\n",
       "  9: -2.535572072682214,\n",
       "  8: -3.3956424441494084,\n",
       "  7: -1.703540645024638,\n",
       "  6: -0.5312672425040705,\n",
       "  5: 1.6909046433284958,\n",
       "  4: -2.579833188234219,\n",
       "  3: 0.2332385648620131},\n",
       " 'Manipur': {17: 10.0,\n",
       "  16: 7.951038358425754,\n",
       "  15: 9.545255710222223,\n",
       "  14: 0.6140112407515169,\n",
       "  13: 4.879403150444538,\n",
       "  12: -3.5075774302178244,\n",
       "  11: -4.163534203874212,\n",
       "  10: 10.0,\n",
       "  9: 7.790055709899414,\n",
       "  8: -4.7350538517707195,\n",
       "  7: 10.0,\n",
       "  6: 10.0,\n",
       "  5: 10.0,\n",
       "  4: 10.0,\n",
       "  3: 10.0},\n",
       " 'Meghalaya': {17: -3.9676597443127566,\n",
       "  16: 8.91992118122776,\n",
       "  15: -2.1473054316747255,\n",
       "  14: 10.0,\n",
       "  13: 10.0,\n",
       "  12: 2.947188577097385,\n",
       "  11: 3.203451827425583,\n",
       "  10: 10.0,\n",
       "  9: 10.0,\n",
       "  8: 10.0,\n",
       "  7: 10.0,\n",
       "  6: 10.0},\n",
       " 'Mizoram': {17: 9.608920184074835,\n",
       "  16: 10.0,\n",
       "  15: 10.0,\n",
       "  14: 10.0,\n",
       "  13: 10.0,\n",
       "  12: 10.0,\n",
       "  11: 10.0,\n",
       "  10: 10.0,\n",
       "  9: 10.0,\n",
       "  7: 10.0,\n",
       "  6: 9.132882774312352},\n",
       " 'Nagaland': {17: 10.0,\n",
       "  16: 10.0,\n",
       "  15: 10.0,\n",
       "  14: 10.0,\n",
       "  13: 10.0,\n",
       "  12: 10.0,\n",
       "  11: 10.0,\n",
       "  10: 10.0,\n",
       "  9: 10.0,\n",
       "  8: 10.0,\n",
       "  7: 0.2012376869022535,\n",
       "  6: -0.33588495318344297,\n",
       "  5: 10.0,\n",
       "  4: 0},\n",
       " 'Odisha': {17: -2.790214404173908,\n",
       "  16: -0.15111510130426684,\n",
       "  15: 1.6135831407308927,\n",
       "  14: -0.3388531733545834,\n",
       "  13: -2.0283854875774883,\n",
       "  12: -0.5704161385834162,\n",
       "  11: -2.154009478874298,\n",
       "  10: -2.223805491182431,\n",
       "  9: -2.7024146210455644,\n",
       "  8: -4.5759564085617805,\n",
       "  7: -3.3366084829779723,\n",
       "  6: 1.830450415152227,\n",
       "  5: -1.6677335763593004,\n",
       "  4: 3.1777030638820163,\n",
       "  3: 10.0},\n",
       " 'Puducherry': {17: 5.981241729741174,\n",
       "  16: 9.624673767852864,\n",
       "  15: 10.0,\n",
       "  14: -8.344260132993545,\n",
       "  13: 10.0,\n",
       "  12: 10.0,\n",
       "  11: 0.5343328909453949,\n",
       "  10: 4.043510209534837,\n",
       "  9: 1.6980906703474083,\n",
       "  8: 10.0,\n",
       "  7: 10.0,\n",
       "  6: 10.0,\n",
       "  5: 10.0,\n",
       "  4: 10.0},\n",
       " 'Punjab': {17: -2.140901645116972,\n",
       "  16: -2.971883532762131,\n",
       "  15: -4.925944203632341,\n",
       "  14: -4.979680760180794,\n",
       "  13: -2.5675779804533994,\n",
       "  12: 0.6888299409529776,\n",
       "  11: -4.08096829273011,\n",
       "  10: -4.334973064511582,\n",
       "  9: -4.178864117167671,\n",
       "  8: -1.8627217773881182,\n",
       "  7: -6.216084865842161,\n",
       "  6: 9.271021900782218,\n",
       "  5: 1.7047111049251353,\n",
       "  4: -3.7926624330293266,\n",
       "  3: 10.000000000000002},\n",
       " 'Rajasthan': {17: -1.7450739467613239,\n",
       "  16: -0.7847524447890061,\n",
       "  15: -2.693026719377026,\n",
       "  14: -0.6783610787853309,\n",
       "  13: -2.229609362238647,\n",
       "  12: -0.6122050787031018,\n",
       "  11: -3.084735878724684,\n",
       "  10: -5.318650640312194,\n",
       "  9: -5.289832402054201,\n",
       "  8: -5.691617715471131,\n",
       "  7: -3.6631173932795082,\n",
       "  6: 10.0,\n",
       "  5: -4.800764817243533,\n",
       "  4: -2.672105890791302,\n",
       "  3: 0.2766107202481241},\n",
       " 'Sikkim': {17: 9.78294995381311,\n",
       "  16: 10.0,\n",
       "  15: 10.0,\n",
       "  14: 10.0,\n",
       "  13: 10.0,\n",
       "  12: 10.0,\n",
       "  11: 10.0,\n",
       "  10: -9.201343465671071,\n",
       "  9: 0.9621987739295401,\n",
       "  8: 10.0,\n",
       "  7: 9.590060689339287,\n",
       "  6: 0},\n",
       " 'Tamil_Nadu': {17: -0.5701629519153568,\n",
       "  16: -0.5631859075975618,\n",
       "  15: 0.3017289825411124,\n",
       "  14: -3.4392909446693247,\n",
       "  13: 0.9863750907867961,\n",
       "  12: 2.560131545979816,\n",
       "  11: 3.8366554730975566,\n",
       "  10: -3.0355822907214627,\n",
       "  9: -3.319659757604313,\n",
       "  8: -2.623860155221613,\n",
       "  7: -2.096899557732246,\n",
       "  6: -3.1173167785667792,\n",
       "  5: -1.5330989454588544,\n",
       "  4: 10.0},\n",
       " 'Telangana': {17: -3.0027557787055703},\n",
       " 'Tripura': {17: -6.345298875271263,\n",
       "  16: 9.077415209722368,\n",
       "  15: 9.175427435909208,\n",
       "  14: 10.0,\n",
       "  13: 10.0,\n",
       "  12: 9.297349586246028,\n",
       "  11: 7.746283457276368,\n",
       "  10: -6.5919798120229585,\n",
       "  9: 10.0,\n",
       "  8: 10.0,\n",
       "  7: -1.6824041589007053,\n",
       "  6: 10.0,\n",
       "  5: 10.0,\n",
       "  4: 10.0,\n",
       "  3: 10.0},\n",
       " 'Uttar_Pradesh': {17: -0.9903110621463569,\n",
       "  16: -2.2017090447561043,\n",
       "  15: -2.0204111701568896,\n",
       "  14: -2.82402919543567,\n",
       "  13: -2.91001736002448,\n",
       "  12: -1.8147347178273712,\n",
       "  11: -3.501254622965449,\n",
       "  10: -2.8160170790918633,\n",
       "  9: -3.324244770016414,\n",
       "  8: -3.68072922595884,\n",
       "  7: -3.4581890082042133,\n",
       "  6: -2.133594720449495,\n",
       "  5: -3.5509317285538686,\n",
       "  4: -2.866429700938741,\n",
       "  3: -1.3513955439378975},\n",
       " 'Uttarakhand': {17: -1.2455245308319927,\n",
       "  16: -4.246306670125416,\n",
       "  15: 1.5293093513904306,\n",
       "  14: 1.6566376115523092},\n",
       " 'West_Bengal': {17: -4.2643436527415925,\n",
       "  16: -3.3280793430385747,\n",
       "  15: -2.378362385905734,\n",
       "  14: -1.2164708112401545,\n",
       "  13: -1.317978038753807,\n",
       "  12: -3.179742473689215,\n",
       "  11: -4.114058346868615,\n",
       "  10: -3.4419528372821393,\n",
       "  9: -5.29138957533863,\n",
       "  8: -2.8769937955286835,\n",
       "  7: -1.0356907053944064,\n",
       "  6: -2.2956766347687165,\n",
       "  5: -2.742500559414644,\n",
       "  4: -1.2793855375170933,\n",
       "  3: -2.9579124870596862},\n",
       " 'Dadra & Nagar Haveli And Daman & Diu': {17: 0},\n",
       " 'Goa,_Daman_&_Diu': {8: -2.1348598846895945,\n",
       "  7: -5.0098812044900916,\n",
       "  6: 7.485125954681632,\n",
       "  5: 10.0,\n",
       "  4: 8.296121041016363},\n",
       " 'Mysore': {5: -4.442297509717853,\n",
       "  4: -3.740204816344842,\n",
       "  3: -4.518685350604627},\n",
       " 'Madras': {4: -1.7854049807709433, 3: -1.9926994969230483}}"
      ]
     },
     "execution_count": 82,
     "metadata": {},
     "output_type": "execute_result"
    }
   ],
   "source": [
    "dominationDict = {}\n",
    "for state in stateAvgDict:\n",
    "    dominationDict[state] = {}\n",
    "    for elNum in stateAvgDict[state]:\n",
    "        denom = (stateAvgDict[state][elNum][0] + stateAvgDict[state][elNum][1])  \n",
    "        if denom == 0:\n",
    "            dominationDict[state][elNum] = 0\n",
    "        else:\n",
    "            dominationDict[state][elNum] = 10 * (stateAvgDict[state][elNum][0] - stateAvgDict[state][elNum][1]) / (stateAvgDict[state][elNum][0] + stateAvgDict[state][elNum][1])    \n",
    "\n",
    "dominationDict"
   ]
  },
  {
   "cell_type": "code",
   "execution_count": 84,
   "metadata": {},
   "outputs": [],
   "source": [
    "import os"
   ]
  },
  {
   "cell_type": "code",
   "execution_count": 89,
   "metadata": {},
   "outputs": [],
   "source": [
    "outputDir = \"./output/genderDomination/\" \n",
    "for elNum in range(1, 18):\n",
    "    with open(outputDir + str(elNum) + \".txt\", \"w\") as f:\n",
    "        text = \"\"\n",
    "        for state in dominationDict:\n",
    "            if elNum in dominationDict[state]:\n",
    "                text += f\"INDIA\\t{state.upper().replace('_', ' ')}\\t{dominationDict[state][elNum]}\\n\"\n",
    "\n",
    "        text += \"INDIA\\tUPPER\\t10\\nINDIA\\tLOWER\\t-10\\n\"\n",
    "        f.write(text)\n",
    "\n",
    "        \n"
   ]
  }
 ],
 "metadata": {
  "language_info": {
   "name": "python"
  },
  "orig_nbformat": 4
 },
 "nbformat": 4,
 "nbformat_minor": 2
}
