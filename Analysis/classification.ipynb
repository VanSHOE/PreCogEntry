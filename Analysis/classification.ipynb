{
 "cells": [
  {
   "cell_type": "code",
   "execution_count": 1,
   "metadata": {},
   "outputs": [],
   "source": [
    "import pandas as pd\n",
    "import sklearn as sk\n",
    "from sklearn import preprocessing\n",
    "from sklearn.model_selection import train_test_split\n",
    "from sklearn.linear_model import LogisticRegression\n",
    "from sklearn.naive_bayes import GaussianNB\n",
    "from sklearn.tree import DecisionTreeClassifier\n",
    "from sklearn.ensemble import RandomForestClassifier\n",
    "from sklearn.ensemble import GradientBoostingClassifier\n",
    "from sklearn.svm import SVC\n",
    "from sklearn.neighbors import KNeighborsClassifier\n",
    "from sklearn.metrics import accuracy_score\n",
    "from tqdm import tqdm\n",
    "from sklearn.metrics import classification_report\n",
    "import random\n",
    "import time\n",
    "\n",
    "random.seed(time.time())"
   ]
  },
  {
   "cell_type": "code",
   "execution_count": 2,
   "metadata": {},
   "outputs": [
    {
     "name": "stderr",
     "output_type": "stream",
     "text": [
      "C:\\Users\\Rahul\\AppData\\Local\\Temp\\ipykernel_9004\\3516144033.py:1: DtypeWarning: Columns (17,36,37,38,39,40,41,42,43) have mixed types. Specify dtype option on import or set low_memory=False.\n",
      "  data = pd.read_csv('./All_States_GE.csv')\n"
     ]
    }
   ],
   "source": [
    "data = pd.read_csv('./All_States_GE.csv')"
   ]
  },
  {
   "cell_type": "code",
   "execution_count": 3,
   "metadata": {},
   "outputs": [
    {
     "data": {
      "text/html": [
       "<div>\n",
       "<style scoped>\n",
       "    .dataframe tbody tr th:only-of-type {\n",
       "        vertical-align: middle;\n",
       "    }\n",
       "\n",
       "    .dataframe tbody tr th {\n",
       "        vertical-align: top;\n",
       "    }\n",
       "\n",
       "    .dataframe thead th {\n",
       "        text-align: right;\n",
       "    }\n",
       "</style>\n",
       "<table border=\"1\" class=\"dataframe\">\n",
       "  <thead>\n",
       "    <tr style=\"text-align: right;\">\n",
       "      <th></th>\n",
       "      <th>State_Name</th>\n",
       "      <th>Turncoat</th>\n",
       "      <th>Party</th>\n",
       "      <th>No_Terms</th>\n",
       "    </tr>\n",
       "  </thead>\n",
       "  <tbody>\n",
       "    <tr>\n",
       "      <th>0</th>\n",
       "      <td>Andaman_&amp;_Nicobar_Islands</td>\n",
       "      <td>0</td>\n",
       "      <td>INC</td>\n",
       "      <td>1.0</td>\n",
       "    </tr>\n",
       "    <tr>\n",
       "      <th>1</th>\n",
       "      <td>Andaman_&amp;_Nicobar_Islands</td>\n",
       "      <td>0</td>\n",
       "      <td>BJP</td>\n",
       "      <td>0.0</td>\n",
       "    </tr>\n",
       "    <tr>\n",
       "      <th>2</th>\n",
       "      <td>Andaman_&amp;_Nicobar_Islands</td>\n",
       "      <td>0</td>\n",
       "      <td>IND</td>\n",
       "      <td>0.0</td>\n",
       "    </tr>\n",
       "    <tr>\n",
       "      <th>3</th>\n",
       "      <td>Andaman_&amp;_Nicobar_Islands</td>\n",
       "      <td>0</td>\n",
       "      <td>AAAP</td>\n",
       "      <td>0.0</td>\n",
       "    </tr>\n",
       "    <tr>\n",
       "      <th>4</th>\n",
       "      <td>Andaman_&amp;_Nicobar_Islands</td>\n",
       "      <td>0</td>\n",
       "      <td>BSP</td>\n",
       "      <td>0.0</td>\n",
       "    </tr>\n",
       "    <tr>\n",
       "      <th>...</th>\n",
       "      <td>...</td>\n",
       "      <td>...</td>\n",
       "      <td>...</td>\n",
       "      <td>...</td>\n",
       "    </tr>\n",
       "    <tr>\n",
       "      <th>91664</th>\n",
       "      <td>Mysore</td>\n",
       "      <td>0</td>\n",
       "      <td>SWA</td>\n",
       "      <td>0.0</td>\n",
       "    </tr>\n",
       "    <tr>\n",
       "      <th>91665</th>\n",
       "      <td>Uttar_Pradesh</td>\n",
       "      <td>0</td>\n",
       "      <td>INC</td>\n",
       "      <td>1.0</td>\n",
       "    </tr>\n",
       "    <tr>\n",
       "      <th>91666</th>\n",
       "      <td>Uttar_Pradesh</td>\n",
       "      <td>0</td>\n",
       "      <td>IND</td>\n",
       "      <td>0.0</td>\n",
       "    </tr>\n",
       "    <tr>\n",
       "      <th>91667</th>\n",
       "      <td>Uttar_Pradesh</td>\n",
       "      <td>0</td>\n",
       "      <td>IND</td>\n",
       "      <td>0.0</td>\n",
       "    </tr>\n",
       "    <tr>\n",
       "      <th>91668</th>\n",
       "      <td>Uttar_Pradesh</td>\n",
       "      <td>0</td>\n",
       "      <td>IND</td>\n",
       "      <td>0.0</td>\n",
       "    </tr>\n",
       "  </tbody>\n",
       "</table>\n",
       "<p>90562 rows × 4 columns</p>\n",
       "</div>"
      ],
      "text/plain": [
       "                      State_Name  Turncoat Party  No_Terms\n",
       "0      Andaman_&_Nicobar_Islands         0   INC       1.0\n",
       "1      Andaman_&_Nicobar_Islands         0   BJP       0.0\n",
       "2      Andaman_&_Nicobar_Islands         0   IND       0.0\n",
       "3      Andaman_&_Nicobar_Islands         0  AAAP       0.0\n",
       "4      Andaman_&_Nicobar_Islands         0   BSP       0.0\n",
       "...                          ...       ...   ...       ...\n",
       "91664                     Mysore         0   SWA       0.0\n",
       "91665              Uttar_Pradesh         0   INC       1.0\n",
       "91666              Uttar_Pradesh         0   IND       0.0\n",
       "91667              Uttar_Pradesh         0   IND       0.0\n",
       "91668              Uttar_Pradesh         0   IND       0.0\n",
       "\n",
       "[90562 rows x 4 columns]"
      ]
     },
     "execution_count": 3,
     "metadata": {},
     "output_type": "execute_result"
    }
   ],
   "source": [
    "# subset df statename, party\n",
    "subsets = ['State_Name', 'Turncoat', 'Party', 'No_Terms']\n",
    "subsetDf = data[subsets]\n",
    "# convert turncoat boolean to int\n",
    "subsetDf = subsetDf.dropna(subset=subsets)\n",
    "subsetDf['Turncoat'] = subsetDf['Turncoat'].astype(int)\n",
    "subsetDf"
   ]
  },
  {
   "cell_type": "code",
   "execution_count": 4,
   "metadata": {},
   "outputs": [
    {
     "data": {
      "text/html": [
       "<div>\n",
       "<style scoped>\n",
       "    .dataframe tbody tr th:only-of-type {\n",
       "        vertical-align: middle;\n",
       "    }\n",
       "\n",
       "    .dataframe tbody tr th {\n",
       "        vertical-align: top;\n",
       "    }\n",
       "\n",
       "    .dataframe thead th {\n",
       "        text-align: right;\n",
       "    }\n",
       "</style>\n",
       "<table border=\"1\" class=\"dataframe\">\n",
       "  <thead>\n",
       "    <tr style=\"text-align: right;\">\n",
       "      <th></th>\n",
       "      <th>State_Name</th>\n",
       "      <th>Turncoat</th>\n",
       "      <th>Party</th>\n",
       "      <th>No_Terms</th>\n",
       "    </tr>\n",
       "  </thead>\n",
       "  <tbody>\n",
       "    <tr>\n",
       "      <th>0</th>\n",
       "      <td>Andaman_&amp;_Nicobar_Islands</td>\n",
       "      <td>0</td>\n",
       "      <td>INC</td>\n",
       "      <td>1.0</td>\n",
       "    </tr>\n",
       "    <tr>\n",
       "      <th>1</th>\n",
       "      <td>Andaman_&amp;_Nicobar_Islands</td>\n",
       "      <td>0</td>\n",
       "      <td>BJP</td>\n",
       "      <td>0.0</td>\n",
       "    </tr>\n",
       "    <tr>\n",
       "      <th>2</th>\n",
       "      <td>Andaman_&amp;_Nicobar_Islands</td>\n",
       "      <td>0</td>\n",
       "      <td>IND</td>\n",
       "      <td>0.0</td>\n",
       "    </tr>\n",
       "    <tr>\n",
       "      <th>3</th>\n",
       "      <td>Andaman_&amp;_Nicobar_Islands</td>\n",
       "      <td>0</td>\n",
       "      <td>AAAP</td>\n",
       "      <td>0.0</td>\n",
       "    </tr>\n",
       "    <tr>\n",
       "      <th>4</th>\n",
       "      <td>Andaman_&amp;_Nicobar_Islands</td>\n",
       "      <td>0</td>\n",
       "      <td>BSP</td>\n",
       "      <td>0.0</td>\n",
       "    </tr>\n",
       "    <tr>\n",
       "      <th>...</th>\n",
       "      <td>...</td>\n",
       "      <td>...</td>\n",
       "      <td>...</td>\n",
       "      <td>...</td>\n",
       "    </tr>\n",
       "    <tr>\n",
       "      <th>91664</th>\n",
       "      <td>Mysore</td>\n",
       "      <td>0</td>\n",
       "      <td>SWA</td>\n",
       "      <td>0.0</td>\n",
       "    </tr>\n",
       "    <tr>\n",
       "      <th>91665</th>\n",
       "      <td>Uttar_Pradesh</td>\n",
       "      <td>0</td>\n",
       "      <td>INC</td>\n",
       "      <td>1.0</td>\n",
       "    </tr>\n",
       "    <tr>\n",
       "      <th>91666</th>\n",
       "      <td>Uttar_Pradesh</td>\n",
       "      <td>0</td>\n",
       "      <td>IND</td>\n",
       "      <td>0.0</td>\n",
       "    </tr>\n",
       "    <tr>\n",
       "      <th>91667</th>\n",
       "      <td>Uttar_Pradesh</td>\n",
       "      <td>0</td>\n",
       "      <td>IND</td>\n",
       "      <td>0.0</td>\n",
       "    </tr>\n",
       "    <tr>\n",
       "      <th>91668</th>\n",
       "      <td>Uttar_Pradesh</td>\n",
       "      <td>0</td>\n",
       "      <td>IND</td>\n",
       "      <td>0.0</td>\n",
       "    </tr>\n",
       "  </tbody>\n",
       "</table>\n",
       "<p>90562 rows × 4 columns</p>\n",
       "</div>"
      ],
      "text/plain": [
       "                      State_Name  Turncoat Party  No_Terms\n",
       "0      Andaman_&_Nicobar_Islands         0   INC       1.0\n",
       "1      Andaman_&_Nicobar_Islands         0   BJP       0.0\n",
       "2      Andaman_&_Nicobar_Islands         0   IND       0.0\n",
       "3      Andaman_&_Nicobar_Islands         0  AAAP       0.0\n",
       "4      Andaman_&_Nicobar_Islands         0   BSP       0.0\n",
       "...                          ...       ...   ...       ...\n",
       "91664                     Mysore         0   SWA       0.0\n",
       "91665              Uttar_Pradesh         0   INC       1.0\n",
       "91666              Uttar_Pradesh         0   IND       0.0\n",
       "91667              Uttar_Pradesh         0   IND       0.0\n",
       "91668              Uttar_Pradesh         0   IND       0.0\n",
       "\n",
       "[90562 rows x 4 columns]"
      ]
     },
     "execution_count": 4,
     "metadata": {},
     "output_type": "execute_result"
    }
   ],
   "source": [
    "subsetDf2 = subsetDf.copy()\n",
    "subsetDf2\n"
   ]
  },
  {
   "cell_type": "code",
   "execution_count": 5,
   "metadata": {},
   "outputs": [
    {
     "data": {
      "text/plain": [
       "['State_Name', 'Party']"
      ]
     },
     "execution_count": 5,
     "metadata": {},
     "output_type": "execute_result"
    }
   ],
   "source": [
    "tobeEncoded = [x for x in subsetDf2.columns if subsetDf2[x].dtype == 'object']\n",
    "tobeEncoded"
   ]
  },
  {
   "cell_type": "code",
   "execution_count": 6,
   "metadata": {},
   "outputs": [],
   "source": [
    "encoder = preprocessing.LabelEncoder()\n",
    "for x in tobeEncoded:\n",
    "    subsetDf2[x] = encoder.fit_transform(subsetDf2[x])"
   ]
  },
  {
   "cell_type": "code",
   "execution_count": 10,
   "metadata": {},
   "outputs": [
    {
     "data": {
      "text/plain": [
       "0.21068799798532806"
      ]
     },
     "execution_count": 10,
     "metadata": {},
     "output_type": "execute_result"
    }
   ],
   "source": [
    "# find correlation between turncoat and no_terms\n",
    "corrDF = pd.DataFrame()\n",
    "corrDF['Turncoat'] = subsetDf2['Turncoat']\n",
    "corrDF['No_Terms'] = subsetDf2['No_Terms']\n",
    "\n",
    "corrDF['No_Terms'].corr(corrDF['Turncoat'])"
   ]
  },
  {
   "cell_type": "code",
   "execution_count": 615,
   "metadata": {},
   "outputs": [
    {
     "name": "stderr",
     "output_type": "stream",
     "text": [
      "Logistic Regression | 0.751: 100%|██████████| 100/100 [00:02<00:00, 44.95it/s]\n"
     ]
    },
    {
     "name": "stdout",
     "output_type": "stream",
     "text": [
      "              precision    recall  f1-score   support\n",
      "\n",
      "           0       0.70      0.88      0.78     57771\n",
      "           1       0.84      0.62      0.71     57729\n",
      "\n",
      "    accuracy                           0.75    115500\n",
      "   macro avg       0.77      0.75      0.75    115500\n",
      "weighted avg       0.77      0.75      0.75    115500\n",
      "\n"
     ]
    },
    {
     "name": "stderr",
     "output_type": "stream",
     "text": [
      "Decision Tree       | 0.791: 100%|██████████| 100/100 [00:00<00:00, 100.58it/s]\n"
     ]
    },
    {
     "name": "stdout",
     "output_type": "stream",
     "text": [
      "              precision    recall  f1-score   support\n",
      "\n",
      "           0       0.80      0.78      0.79     57887\n",
      "           1       0.79      0.80      0.79     57613\n",
      "\n",
      "    accuracy                           0.79    115500\n",
      "   macro avg       0.79      0.79      0.79    115500\n",
      "weighted avg       0.79      0.79      0.79    115500\n",
      "\n"
     ]
    },
    {
     "name": "stderr",
     "output_type": "stream",
     "text": [
      "Random Forest       | 0.797: 100%|██████████| 100/100 [00:21<00:00,  4.67it/s]\n"
     ]
    },
    {
     "name": "stdout",
     "output_type": "stream",
     "text": [
      "              precision    recall  f1-score   support\n",
      "\n",
      "           0       0.82      0.76      0.79     57816\n",
      "           1       0.78      0.84      0.80     57684\n",
      "\n",
      "    accuracy                           0.80    115500\n",
      "   macro avg       0.80      0.80      0.80    115500\n",
      "weighted avg       0.80      0.80      0.80    115500\n",
      "\n"
     ]
    },
    {
     "name": "stderr",
     "output_type": "stream",
     "text": [
      "Gradient Boosting   | 0.804: 100%|██████████| 100/100 [00:14<00:00,  6.93it/s]\n"
     ]
    },
    {
     "name": "stdout",
     "output_type": "stream",
     "text": [
      "              precision    recall  f1-score   support\n",
      "\n",
      "           0       0.85      0.73      0.79     57499\n",
      "           1       0.77      0.88      0.82     58001\n",
      "\n",
      "    accuracy                           0.80    115500\n",
      "   macro avg       0.81      0.80      0.80    115500\n",
      "weighted avg       0.81      0.80      0.80    115500\n",
      "\n"
     ]
    },
    {
     "name": "stderr",
     "output_type": "stream",
     "text": [
      "SVM                 | 0.634: 100%|██████████| 100/100 [00:50<00:00,  1.98it/s]\n"
     ]
    },
    {
     "name": "stdout",
     "output_type": "stream",
     "text": [
      "              precision    recall  f1-score   support\n",
      "\n",
      "           0       0.60      0.77      0.68     57709\n",
      "           1       0.68      0.50      0.58     57791\n",
      "\n",
      "    accuracy                           0.63    115500\n",
      "   macro avg       0.64      0.63      0.63    115500\n",
      "weighted avg       0.64      0.63      0.63    115500\n",
      "\n"
     ]
    },
    {
     "name": "stderr",
     "output_type": "stream",
     "text": [
      "KNN                 | 0.787: 100%|██████████| 100/100 [00:02<00:00, 37.50it/s]\n"
     ]
    },
    {
     "name": "stdout",
     "output_type": "stream",
     "text": [
      "              precision    recall  f1-score   support\n",
      "\n",
      "           0       0.82      0.74      0.78     57602\n",
      "           1       0.76      0.84      0.80     57898\n",
      "\n",
      "    accuracy                           0.79    115500\n",
      "   macro avg       0.79      0.79      0.79    115500\n",
      "weighted avg       0.79      0.79      0.79    115500\n",
      "\n"
     ]
    },
    {
     "name": "stderr",
     "output_type": "stream",
     "text": [
      "Naive Bayes         | 0.667: 100%|██████████| 100/100 [00:00<00:00, 140.89it/s]\n"
     ]
    },
    {
     "name": "stdout",
     "output_type": "stream",
     "text": [
      "              precision    recall  f1-score   support\n",
      "\n",
      "           0       0.62      0.88      0.72     57663\n",
      "           1       0.79      0.46      0.58     57837\n",
      "\n",
      "    accuracy                           0.67    115500\n",
      "   macro avg       0.70      0.67      0.65    115500\n",
      "weighted avg       0.70      0.67      0.65    115500\n",
      "\n"
     ]
    }
   ],
   "source": [
    "models = [\n",
    "    ('Logistic Regression', LogisticRegression()),\n",
    "    ('Decision Tree', DecisionTreeClassifier()),\n",
    "    ('Random Forest', RandomForestClassifier()),\n",
    "    ('Gradient Boosting', GradientBoostingClassifier()),\n",
    "    ('SVM', SVC()),\n",
    "    ('KNN', KNeighborsClassifier()),\n",
    "    ('Naive Bayes', GaussianNB())\n",
    "]\n",
    "\n",
    "maxLength = 0\n",
    "for name, model in models:\n",
    "    maxLength = max(maxLength, len(name))\n",
    "\n",
    "ITERATIONS = 100\n",
    "\n",
    "for name, model in models:\n",
    "    # print(name)\n",
    "    spaces = ' ' * (maxLength - len(name))\n",
    "    values = []\n",
    "    bar = tqdm(range(ITERATIONS))\n",
    "    avgAcc = 0\n",
    "    total = 0\n",
    "    predictedVals = []\n",
    "    actualVals = []\n",
    "    for i in bar:\n",
    "        bar.set_description(f\"{name}{spaces} | {avgAcc/(1 if total == 0 else total):.3f}\")\n",
    "        subsetDf3 = subsetDf2.groupby('Turncoat').apply(lambda x: x.sample(subsetDf2['Turncoat'].value_counts().min()).reset_index(drop=True))\n",
    "\n",
    "        X = subsetDf3.drop('Turncoat', axis=1)\n",
    "        Y = subsetDf3['Turncoat']\n",
    "\n",
    "        X_train, X_test, Y_train, Y_test = train_test_split(X, Y, test_size=0.2, random_state=random.randint(0, 1000))\n",
    "\n",
    "        model.fit(X_train, Y_train)\n",
    "\n",
    "        predictions = model.predict(X_test)\n",
    "        accuracy = accuracy_score(Y_test, predictions)\n",
    "        predictedVals.extend(predictions)\n",
    "        actualVals.extend(Y_test)\n",
    "        values.append(accuracy)\n",
    "        avgAcc += accuracy\n",
    "        total += 1\n",
    "\n",
    "    print(classification_report(actualVals, predictedVals))\n",
    "\n"
   ]
  }
 ],
 "metadata": {
  "kernelspec": {
   "display_name": "Python 3",
   "language": "python",
   "name": "python3"
  },
  "language_info": {
   "codemirror_mode": {
    "name": "ipython",
    "version": 3
   },
   "file_extension": ".py",
   "mimetype": "text/x-python",
   "name": "python",
   "nbconvert_exporter": "python",
   "pygments_lexer": "ipython3",
   "version": "3.11.3"
  },
  "orig_nbformat": 4
 },
 "nbformat": 4,
 "nbformat_minor": 2
}
